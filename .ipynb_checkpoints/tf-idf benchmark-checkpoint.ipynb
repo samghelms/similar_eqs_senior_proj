{
 "cells": [
  {
   "cell_type": "code",
   "execution_count": 12,
   "metadata": {},
   "outputs": [],
   "source": [
    "import json\n",
    "import glob\n",
    "files = glob.glob('all_eqs/*.jsonlist') \n",
    "def read(files, eq_ct):\n",
    "    eqs = []\n",
    "    for f in files:\n",
    "        with open(f) as processed:\n",
    "            for i, line in enumerate(processed):\n",
    "                eqs.append(json.loads(line)['aligned'])\n",
    "                eq_ct += 1\n",
    "                if eq_ct == 10000: \n",
    "                    return eqs\n",
    "eqs = read(files, eq_ct)"
   ]
  },
  {
   "cell_type": "code",
   "execution_count": 13,
   "metadata": {
    "collapsed": true
   },
   "outputs": [],
   "source": [
    "from gensim.models import TfidfModel\n",
    "from gensim.corpora import Dictionary\n",
    "from gensim.similarities import MatrixSimilarity"
   ]
  },
  {
   "cell_type": "code",
   "execution_count": null,
   "metadata": {
    "collapsed": true
   },
   "outputs": [],
   "source": [
    "docs = [doc for sublist in eqs for doc in sublist]\n",
    "dct = Dictionary(docs)\n",
    "corpus = [dct.doc2bow(line) for line in docs]\n",
    "model = TfidfModel(corpus)"
   ]
  },
  {
   "cell_type": "code",
   "execution_count": null,
   "metadata": {
    "collapsed": true
   },
   "outputs": [],
   "source": [
    "index = MatrixSimilarity(model[corpus], num_features=len(dct))"
   ]
  },
  {
   "cell_type": "code",
   "execution_count": null,
   "metadata": {
    "collapsed": true
   },
   "outputs": [],
   "source": [
    "line = docs[2]\n",
    "sims = index[model[dct.doc2bow(line)]]\n",
    "sims = sorted(enumerate(sims), key=lambda item: -item[1])"
   ]
  },
  {
   "cell_type": "code",
   "execution_count": null,
   "metadata": {
    "collapsed": true
   },
   "outputs": [],
   "source": [
    "from gensim import interfaces, utils, matutils\n",
    "import numpy as np\n",
    "# query = matutils.sparse2full(query, self.num_features)\n",
    "# query = numpy.asarray(query, dtype=self.index.dtype)\n",
    "\n",
    "# do a little transposition dance to stop numpy from making a copy of\n",
    "# self.index internally in numpy.dot (very slow).\n",
    "# result = numpy.dot(self.index, query.T).T  "
   ]
  },
  {
   "cell_type": "code",
   "execution_count": null,
   "metadata": {
    "collapsed": true
   },
   "outputs": [],
   "source": [
    "num_features = len(dct)\n",
    "all_dists = []\n",
    "for aligned_eqs in eqs:\n",
    "    vecs = []\n",
    "    for e in aligned_eqs: \n",
    "        sparse_vec = model[dct.doc2bow(e)]\n",
    "        query = matutils.sparse2full(sparse_vec, num_features)\n",
    "        query = np.asarray(query, dtype=np.float32)\n",
    "        vecs.append(query)\n",
    "    \n",
    "    dists = []\n",
    "    for i, v in enumerate(vecs):\n",
    "        for j, v2 in enumerate(vecs):\n",
    "            if i != j:\n",
    "                dists.append(v.dot(v2))\n",
    "    all_dists.extend(list(set(dists)))\n"
   ]
  },
  {
   "cell_type": "code",
   "execution_count": null,
   "metadata": {
    "collapsed": true
   },
   "outputs": [],
   "source": [
    "# now do a random pass\n",
    "N = len(eqs)\n",
    "num_features = len(dct)\n",
    "rand_dists = []\n",
    "for aligned_eqs in eqs:\n",
    "    vecs = []\n",
    "    for e in aligned_eqs: \n",
    "        sparse_vec = model[dct.doc2bow(e)]\n",
    "        query = matutils.sparse2full(sparse_vec, num_features)\n",
    "        query = np.asarray(query, dtype=np.float32)\n",
    "        vecs.append(query)\n",
    "    \n",
    "    dists = []\n",
    "    for i, v in enumerate(vecs):\n",
    "        # pick a random vector\n",
    "        rand_i = np.random.randint(N)\n",
    "        # Note: had to pull in a long range dependency on the docs list here. Could cause problems later.\n",
    "        sparse_vec = model[dct.doc2bow(docs[rand_i])]\n",
    "        rand_vec = matutils.sparse2full(sparse_vec, num_features)\n",
    "        rand_vec = np.asarray(rand_vec, dtype=np.float32)\n",
    "        dists.append(v.dot(rand_vec))\n",
    "    rand_dists.extend(list(set(dists)))\n",
    "\n"
   ]
  },
  {
   "cell_type": "code",
   "execution_count": null,
   "metadata": {},
   "outputs": [],
   "source": [
    "len(rand_dists)"
   ]
  },
  {
   "cell_type": "code",
   "execution_count": null,
   "metadata": {},
   "outputs": [],
   "source": [
    "len(all_dists)"
   ]
  },
  {
   "cell_type": "code",
   "execution_count": null,
   "metadata": {},
   "outputs": [],
   "source": [
    "%matplotlib inline\n",
    "import pandas as pd\n",
    "import seaborn as sns\n",
    "\n",
    "# test = pd.DataFrame([all_dists, rand_dists])\n",
    "\n",
    "sns.distplot(all_dists, hist=False, rug=False, label='pairs from an equals')\n",
    "sns.distplot(rand_dists, hist=False, rug=False, label = 'random pair')\n"
   ]
  }
 ],
 "metadata": {
  "kernelspec": {
   "display_name": "data_cleaning",
   "language": "python",
   "name": "data_cleaning"
  },
  "language_info": {
   "codemirror_mode": {
    "name": "ipython",
    "version": 3
   },
   "file_extension": ".py",
   "mimetype": "text/x-python",
   "name": "python",
   "nbconvert_exporter": "python",
   "pygments_lexer": "ipython3",
   "version": "3.6.4"
  }
 },
 "nbformat": 4,
 "nbformat_minor": 2
}
