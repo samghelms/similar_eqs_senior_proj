{
 "cells": [
  {
   "cell_type": "code",
   "execution_count": 1,
   "metadata": {},
   "outputs": [],
   "source": [
    "# setup\n",
    "import pandas as pd\n",
    "from common.clean import replace\n",
    "from common.heuristics import has_op, test_for_suitable, split_high_level_eqs\n",
    "from common.tokenize import tokenize"
   ]
  },
  {
   "cell_type": "code",
   "execution_count": 2,
   "metadata": {},
   "outputs": [],
   "source": [
    "# setup\n",
    "df = pd.DataFrame(pd.read_csv(\"../data/eqs_100k.tsv\", sep = \"\\t\", header=None))\n",
    "df.columns = [\"eq_id\", \"eq\"]\n",
    "df['clean'] = replace(df['eq'])\n",
    "df['clean_split'] = df['clean'].apply(split_high_level_eqs)\n",
    "se = df['clean_split'].apply(lambda x: len(x) > 1 if x is not None else False)\n",
    "df = df[se].reset_index()\n",
    "se = df['clean_split'].apply(test_for_suitable)\n",
    "df['clean_split_filtered'] = se\n",
    "filt = df['clean_split_filtered'].apply(lambda x: x is not None)\n",
    "df = df[filt]\n",
    "df['clean_split_filtered_tokenized'] = df['clean_split_filtered'].apply(lambda x: [tokenize(e) for e in x])"
   ]
  },
  {
   "cell_type": "code",
   "execution_count": 3,
   "metadata": {},
   "outputs": [],
   "source": [
    "from gensim.models import TfidfModel\n",
    "from gensim.corpora import Dictionary\n",
    "from gensim.similarities import Similarity"
   ]
  },
  {
   "cell_type": "code",
   "execution_count": 4,
   "metadata": {},
   "outputs": [],
   "source": [
    "dataset = df['clean_split_filtered_tokenized']\n",
    "docs = [doc for sublist in dataset.tolist() for doc in sublist]\n",
    "dct = Dictionary(docs)\n",
    "corpus = [dct.doc2bow(line) for line in docs]\n",
    "model = TfidfModel(corpus)"
   ]
  },
  {
   "cell_type": "code",
   "execution_count": 5,
   "metadata": {},
   "outputs": [],
   "source": [
    "index = Similarity(model[corpus], num_features=12)"
   ]
  },
  {
   "cell_type": "code",
   "execution_count": null,
   "metadata": {},
   "outputs": [],
   "source": [
    "line = docs[0]\n",
    "sims = index[model[dct.doc2bow(line)]]"
   ]
  },
  {
   "cell_type": "code",
   "execution_count": null,
   "metadata": {},
   "outputs": [],
   "source": []
  }
 ],
 "metadata": {
  "kernelspec": {
   "display_name": "data_cleaning",
   "language": "python",
   "name": "data_cleaning"
  },
  "language_info": {
   "codemirror_mode": {
    "name": "ipython",
    "version": 3
   },
   "file_extension": ".py",
   "mimetype": "text/x-python",
   "name": "python",
   "nbconvert_exporter": "python",
   "pygments_lexer": "ipython3",
   "version": "3.6.4"
  }
 },
 "nbformat": 4,
 "nbformat_minor": 2
}
