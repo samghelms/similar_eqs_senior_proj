{
 "cells": [
  {
   "cell_type": "code",
   "execution_count": 1,
   "metadata": {},
   "outputs": [
    {
     "data": {
      "text/html": [
       "\n",
       "            <script>\n",
       "            requirejs.config({\n",
       "                paths: { \n",
       "                   'katex': ['//cdnjs.cloudflare.com/ajax/libs/KaTeX/0.9.0-beta1/katex.min'], \n",
       "                                                          // strip .js ^, require adds it back\n",
       "                },\n",
       "            });\n",
       "\n",
       "            require(['katex'], function(katex) {\n",
       "                 console.log(\"Loaded :)\");\n",
       "                 console.log(katex)\n",
       "                 window.katex = katex\n",
       "                 return {};\n",
       "            });\n",
       "            </script>\n",
       "            "
      ],
      "text/plain": [
       "<IPython.core.display.HTML object>"
      ]
     },
     "metadata": {},
     "output_type": "display_data"
    },
    {
     "data": {
      "text/html": [
       "<link rel=\"stylesheet\" href=\"https://cdnjs.cloudflare.com/ajax/libs/KaTeX/0.9.0-beta1/katex.min.css\" integrity=\"sha384-VEnyslhHLHiYPca9KFkBB3CMeslnM9CzwjxsEbZTeA21JBm7tdLwKoZmCt3cZTYD\" crossorigin=\"anonymous\">"
      ],
      "text/plain": [
       "<IPython.core.display.HTML object>"
      ]
     },
     "metadata": {},
     "output_type": "display_data"
    }
   ],
   "source": [
    "import pandas as pd\n",
    "from common.clean import replace\n",
    "from common.katex import katex, load_display_scripts\n",
    "from common.heuristics import test_for_suitable, split_high_level_eqs, split_exprs\n",
    "from common.tokenize import tokenize\n",
    "import sys\n",
    "import csv\n",
    "import json\n",
    "\n",
    "def process_row(r, writer=None):\n",
    "    d = {}\n",
    "    d['eq_id'] = r[0]\n",
    "    d['eq'] = r[1]\n",
    "    d['clean'] = replace(r[1])\n",
    "    d['clean_split'] = split_high_level_eqs(d['clean'])\n",
    "    if d['clean_split'] is None or len(d['clean_split']) < 2:\n",
    "        return None\n",
    "    suitable = test_for_suitable(d['clean_split'])\n",
    "    if suitable is None:\n",
    "        return None\n",
    "    d['clean_split_filtered'] = suitable\n",
    "    d['clean_split_filtered_tokenized'] = [tokenize(e) for e in d['clean_split_filtered']]\n",
    "    if writer:\n",
    "        writer.write(json.dumps(d)+'\\n')\n",
    "        \n",
    "    return d\n",
    "\n",
    "load_display_scripts()"
   ]
  },
  {
   "cell_type": "code",
   "execution_count": 2,
   "metadata": {},
   "outputs": [
    {
     "data": {
      "text/plain": [
       "['\\\\frac',\n",
       " '{',\n",
       " '1',\n",
       " '}',\n",
       " '{',\n",
       " 'T',\n",
       " '}',\n",
       " 'f',\n",
       " '=',\n",
       " 'x',\n",
       " '\\\\,',\n",
       " '\\\\tab',\n",
       " '\\\\macro',\n",
       " 'y']"
      ]
     },
     "execution_count": 2,
     "metadata": {},
     "output_type": "execute_result"
    }
   ],
   "source": [
    "tokenize('\\\\frac{1}{T} f = x \\, \\n \\\\tab \\macro y')\n",
    "# ret = []\n",
    "# ret_s = ''\n",
    "# for c in 'f = x \\, \\n \\\\tab \\macro y':\n",
    "#     print(c)\n",
    "#     ret.append(c)\n",
    "#     ret_s += c\n",
    "# ret"
   ]
  },
  {
   "cell_type": "code",
   "execution_count": 3,
   "metadata": {},
   "outputs": [],
   "source": [
    "def process_row(r, writer=None):\n",
    "    d = {}\n",
    "    d['eq_id'] = r[0]\n",
    "    d['eq'] = r[1]\n",
    "    d['clean'] = replace(d['eq'])\n",
    "    d['clean_expressions'] = split_exprs(d['clean'])\n",
    "    if not d['clean_expressions']:\n",
    "        return None\n",
    "    d['clean_expressions_split'] = []\n",
    "    for exp in d['clean_expressions']:\n",
    "        split_eqs = split_high_level_eqs(exp)\n",
    "        if split_eqs:\n",
    "            d['clean_expressions_split'].append(split_eqs)\n",
    "    \n",
    "    if len(d['clean_expressions_split']) < 2:\n",
    "        return None\n",
    "    \n",
    "    d['clean_split_filtered'] = []\n",
    "    for exp in d['clean_expressions_split']:\n",
    "        suitable = test_for_suitable(exp)\n",
    "        if not suitable:\n",
    "            return None\n",
    "        d['clean_split_filtered'].append(suitable)\n",
    "        \n",
    "    return d\n",
    "#     d['clean_expressions_split'] = split_high_level_eqs(d['clean_expressions'])\n"
   ]
  },
  {
   "cell_type": "code",
   "execution_count": 4,
   "metadata": {
    "scrolled": true
   },
   "outputs": [
    {
     "data": {
      "text/html": [
       "<div id=\"38b49626-463a-11e8-92cb-600308a8611a\"/>"
      ]
     },
     "metadata": {},
     "output_type": "display_data"
    },
    {
     "data": {
      "application/javascript": [
       "\n",
       "var ctx = function()                                  {\n",
       "var whenAvailable = function(name,                                     callback) {\n",
       "\tvar interval = 10; // ms\n",
       "\twindow.setTimeout(function() {\n",
       "\tif (window[name]) {\n",
       "\t\tcallback();\n",
       "\t} else {\n",
       "\t\twindow.setTimeout(arguments.callee,                                     interval);\n",
       "\t}\n",
       "}, interval);\n",
       "}\n",
       "\n",
       "var katex_try = function(s, el) {\n",
       "\t try {\t\twindow.katex.render(s, el);\n",
       "} catch(err) {\n",
       "\t\t el.innerHTML = s;\n",
       "\t}\n",
       "}\n",
       "var render_katex = function(id) { \n",
       "\tvar parent = document.getElementById(id);\n",
       "\tvar newChild = document.createElement('span');\n",
       "katex_try(\"\\n\", newChild);\n",
       "parent.appendChild(newChild);\n",
       "}\n",
       "whenAvailable(\"katex\", function(){render_katex(\"38b49626-463a-11e8-92cb-600308a8611a\");});\n",
       "}\n",
       "ctx();\n"
      ]
     },
     "metadata": {},
     "output_type": "display_data"
    },
    {
     "data": {
      "text/html": [
       "<div id=\"38b5fd0c-463a-11e8-a75c-600308a8611a\"/>"
      ]
     },
     "metadata": {},
     "output_type": "display_data"
    },
    {
     "data": {
      "application/javascript": [
       "\n",
       "var ctx = function()                                  {\n",
       "var whenAvailable = function(name,                                     callback) {\n",
       "\tvar interval = 10; // ms\n",
       "\twindow.setTimeout(function() {\n",
       "\tif (window[name]) {\n",
       "\t\tcallback();\n",
       "\t} else {\n",
       "\t\twindow.setTimeout(arguments.callee,                                     interval);\n",
       "\t}\n",
       "}, interval);\n",
       "}\n",
       "\n",
       "var katex_try = function(s, el) {\n",
       "\t try {\t\twindow.katex.render(s, el);\n",
       "} catch(err) {\n",
       "\t\t el.innerHTML = s;\n",
       "\t}\n",
       "}\n",
       "var render_katex = function(id) { \n",
       "\tvar parent = document.getElementById(id);\n",
       "\tvar newChild = document.createElement('span');\n",
       "katex_try(\"\\n \\\\det\\\\psi_-^{-1}=m_+^{(2)*}=m_-^{(2)}.\\n \\n\", newChild);\n",
       "parent.appendChild(newChild);\n",
       "}\n",
       "whenAvailable(\"katex\", function(){render_katex(\"38b5fd0c-463a-11e8-a75c-600308a8611a\");});\n",
       "}\n",
       "ctx();\n"
      ]
     },
     "metadata": {},
     "output_type": "display_data"
    },
    {
     "data": {
      "text/html": [
       "<div id=\"38b7134c-463a-11e8-82f6-600308a8611a\"/>"
      ]
     },
     "metadata": {},
     "output_type": "display_data"
    },
    {
     "data": {
      "application/javascript": [
       "\n",
       "var ctx = function()                                  {\n",
       "var whenAvailable = function(name,                                     callback) {\n",
       "\tvar interval = 10; // ms\n",
       "\twindow.setTimeout(function() {\n",
       "\tif (window[name]) {\n",
       "\t\tcallback();\n",
       "\t} else {\n",
       "\t\twindow.setTimeout(arguments.callee,                                     interval);\n",
       "\t}\n",
       "}, interval);\n",
       "}\n",
       "\n",
       "var katex_try = function(s, el) {\n",
       "\t try {\t\twindow.katex.render(s, el);\n",
       "} catch(err) {\n",
       "\t\t el.innerHTML = s;\n",
       "\t}\n",
       "}\n",
       "var render_katex = function(id) { \n",
       "\tvar parent = document.getElementById(id);\n",
       "\tvar newChild = document.createElement('span');\n",
       "katex_try(\"T^+_{\\\\varepsilon}(r):=\\\\inf\\\\{T^+(r)\\\\leq s\\\\leq e_r: X_s> {\\\\varepsilon}   \\\\} \\n\", newChild);\n",
       "parent.appendChild(newChild);\n",
       "}\n",
       "whenAvailable(\"katex\", function(){render_katex(\"38b7134c-463a-11e8-82f6-600308a8611a\");});\n",
       "}\n",
       "ctx();\n"
      ]
     },
     "metadata": {},
     "output_type": "display_data"
    },
    {
     "data": {
      "text/html": [
       "<div id=\"38b79b00-463a-11e8-ae09-600308a8611a\"/>"
      ]
     },
     "metadata": {},
     "output_type": "display_data"
    },
    {
     "data": {
      "application/javascript": [
       "\n",
       "var ctx = function()                                  {\n",
       "var whenAvailable = function(name,                                     callback) {\n",
       "\tvar interval = 10; // ms\n",
       "\twindow.setTimeout(function() {\n",
       "\tif (window[name]) {\n",
       "\t\tcallback();\n",
       "\t} else {\n",
       "\t\twindow.setTimeout(arguments.callee,                                     interval);\n",
       "\t}\n",
       "}, interval);\n",
       "}\n",
       "\n",
       "var katex_try = function(s, el) {\n",
       "\t try {\t\twindow.katex.render(s, el);\n",
       "} catch(err) {\n",
       "\t\t el.innerHTML = s;\n",
       "\t}\n",
       "}\n",
       "var render_katex = function(id) { \n",
       "\tvar parent = document.getElementById(id);\n",
       "\tvar newChild = document.createElement('span');\n",
       "katex_try(\"\\\\max_{U \\\\hbox{ is unitary }} D(\\\\rho_1,U\\\\rho_2U^{\\\\dagger}) =\\nD(\\\\Lambda^\\\\downarrow(\\\\rho_1),\\\\Lambda^\\\\uparrow(\\\\rho_2)),\\n\", newChild);\n",
       "parent.appendChild(newChild);\n",
       "}\n",
       "whenAvailable(\"katex\", function(){render_katex(\"38b79b00-463a-11e8-ae09-600308a8611a\");});\n",
       "}\n",
       "ctx();\n"
      ]
     },
     "metadata": {},
     "output_type": "display_data"
    },
    {
     "data": {
      "text/html": [
       "<div id=\"38b901e8-463a-11e8-9a43-600308a8611a\"/>"
      ]
     },
     "metadata": {},
     "output_type": "display_data"
    },
    {
     "data": {
      "application/javascript": [
       "\n",
       "var ctx = function()                                  {\n",
       "var whenAvailable = function(name,                                     callback) {\n",
       "\tvar interval = 10; // ms\n",
       "\twindow.setTimeout(function() {\n",
       "\tif (window[name]) {\n",
       "\t\tcallback();\n",
       "\t} else {\n",
       "\t\twindow.setTimeout(arguments.callee,                                     interval);\n",
       "\t}\n",
       "}, interval);\n",
       "}\n",
       "\n",
       "var katex_try = function(s, el) {\n",
       "\t try {\t\twindow.katex.render(s, el);\n",
       "} catch(err) {\n",
       "\t\t el.innerHTML = s;\n",
       "\t}\n",
       "}\n",
       "var render_katex = function(id) { \n",
       "\tvar parent = document.getElementById(id);\n",
       "\tvar newChild = document.createElement('span');\n",
       "katex_try(\"\\\\alpha=\\\\frac{1}{\\\\sum_{i=1}^{k}1/d_i}\\n\", newChild);\n",
       "parent.appendChild(newChild);\n",
       "}\n",
       "whenAvailable(\"katex\", function(){render_katex(\"38b901e8-463a-11e8-9a43-600308a8611a\");});\n",
       "}\n",
       "ctx();\n"
      ]
     },
     "metadata": {},
     "output_type": "display_data"
    },
    {
     "data": {
      "text/html": [
       "<div id=\"38b9c54c-463a-11e8-8a74-600308a8611a\"/>"
      ]
     },
     "metadata": {},
     "output_type": "display_data"
    },
    {
     "data": {
      "application/javascript": [
       "\n",
       "var ctx = function()                                  {\n",
       "var whenAvailable = function(name,                                     callback) {\n",
       "\tvar interval = 10; // ms\n",
       "\twindow.setTimeout(function() {\n",
       "\tif (window[name]) {\n",
       "\t\tcallback();\n",
       "\t} else {\n",
       "\t\twindow.setTimeout(arguments.callee,                                     interval);\n",
       "\t}\n",
       "}, interval);\n",
       "}\n",
       "\n",
       "var katex_try = function(s, el) {\n",
       "\t try {\t\twindow.katex.render(s, el);\n",
       "} catch(err) {\n",
       "\t\t el.innerHTML = s;\n",
       "\t}\n",
       "}\n",
       "var render_katex = function(id) { \n",
       "\tvar parent = document.getElementById(id);\n",
       "\tvar newChild = document.createElement('span');\n",
       "katex_try(\"D:{\\\\itx_2}-{\\\\itx_1}=0\\n\", newChild);\n",
       "parent.appendChild(newChild);\n",
       "}\n",
       "whenAvailable(\"katex\", function(){render_katex(\"38b9c54c-463a-11e8-8a74-600308a8611a\");});\n",
       "}\n",
       "ctx();\n"
      ]
     },
     "metadata": {},
     "output_type": "display_data"
    }
   ],
   "source": [
    "with open('eqs_100k.tsv', 'rb') as reader:\n",
    "    for i, row in enumerate(reader):\n",
    "        # The equations were saved in the json-encoded format, which double the number of \\\\ \n",
    "        # escapes that we want.\n",
    "        row = row.decode(\"unicode_escape\")\n",
    "        row = row.split('\\t', 1)[1]\n",
    "        rowcp = row\n",
    "#         print(repr(rowcp))\n",
    "#         print(rowcp)\n",
    "#         for c in rowcp:\n",
    "#             print(c)\n",
    "#         for c in repr(rowcp):\n",
    "#             print(c)\n",
    "#         print(tokenize(row))\n",
    "#         print('==== new ====')\n",
    "#         print(row)\n",
    "        row = replace(row)\n",
    "#             print(tokenize(replace(row)))\n",
    "#             print(repr(replace(row)))\n",
    "        tokenized = tokenize(row)\n",
    "#         print('tokenization')\n",
    "#         print(tokenized)\n",
    "#             print(tokenized)\n",
    "        ses = split_exprs(tokenized)\n",
    "        if ses:\n",
    "#             print('ses')\n",
    "            for expr in ses:\n",
    "#                 print('expr')\n",
    "#                 print(expr)\n",
    "                se = split_high_level_eqs(expr)\n",
    "#                 print(len(se))\n",
    "#                 print(se)\n",
    "                suit = test_for_suitable(se)\n",
    "                if suit:\n",
    "                    print(\"\\nnew\\n\")\n",
    "                    print(rowcp)\n",
    "                    print(tokenized)\n",
    "                    print('suitable:\\n')\n",
    "                    for s in suit:\n",
    "                        print(s)\n",
    "                        print(\"\".join(s))\n",
    "#                         print(suit)\n",
    "#                         print('\\n')\n",
    "#                     if suit is not None:\n",
    "#                         print(suit)\n",
    "#                         print(suit[])\n",
    "#                         if '\\\\nA' in suit[0]:\n",
    "#                         print(suit)\n",
    "#                         print(tokenized)\n",
    "#                         print(rowcp)\n",
    "\n",
    "\n",
    "    #                 print('\\n')\n",
    "\n",
    "    #             print(split_exprs(tokenized))\n",
    "\n",
    "#         row = row.split('\\t', 1)\n",
    "        if i == 5:\n",
    "            break\n",
    "#         rp = process_row(row)\n",
    "#         if rp:\n",
    "# #             decoded_row = row[1].replace('\\\\\\\\', '\\\\')\n",
    "# #             for c in row[1]:\n",
    "# #                 print(c)\n",
    "#             print(decoded_row)\n",
    "#             print(tokenize(decoded_row))\n",
    "#             print( '\\n' in tokenize(decoded_row))\n",
    "# #             rpw[0]\n",
    "# #             print(rp)\n",
    "#             break\n",
    "            \n",
    "# process_row()"
   ]
  },
  {
   "cell_type": "code",
   "execution_count": null,
   "metadata": {},
   "outputs": [],
   "source": [
    "# test: \"../data/eqs_100k.tsv\" 'aligned_ex.csv'\n",
    "if len(sys.argv) < 3:\n",
    "    print(\"usage: python identify_and_tokenize.py /path/to/tsv outpath/filename.csv\")\n",
    "else:\n",
    "    filename = sys.argv[1]\n",
    "    outpath = sys.argv[2]\n",
    "\n",
    "with open(filename, 'r') as csvfile:\n",
    "    with open(outpath, \"w+\") as outfile:\n",
    "        reader = csvfile #csv.reader(csvfile, quoting=csv.QUOTE_MINIMAL, delimiter='\\t') \n",
    "        for i, row in enumerate(reader):\n",
    "            row = row.split('\\t', 1)\n",
    "            if i == 0:\n",
    "                continue\n",
    "            process_row(row, outfile)\n",
    "\n",
    "            if i % 100000 == 0:\n",
    "                print(\"{i} rows processed\".format(i=i))\n",
    "\n",
    "\n"
   ]
  },
  {
   "cell_type": "code",
   "execution_count": null,
   "metadata": {},
   "outputs": [],
   "source": []
  }
 ],
 "metadata": {
  "kernelspec": {
   "display_name": "data_cleaning",
   "language": "python",
   "name": "data_cleaning"
  },
  "language_info": {
   "codemirror_mode": {
    "name": "ipython",
    "version": 3
   },
   "file_extension": ".py",
   "mimetype": "text/x-python",
   "name": "python",
   "nbconvert_exporter": "python",
   "pygments_lexer": "ipython3",
   "version": "3.6.4"
  }
 },
 "nbformat": 4,
 "nbformat_minor": 2
}
