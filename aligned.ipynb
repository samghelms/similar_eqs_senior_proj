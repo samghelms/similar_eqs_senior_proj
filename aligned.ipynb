{
 "cells": [
  {
   "cell_type": "code",
   "execution_count": 1,
   "metadata": {},
   "outputs": [],
   "source": [
    "import pandas as pd\n",
    "from common.clean import replace\n",
    "from common.heuristics import has_op, test_for_suitable"
   ]
  },
  {
   "cell_type": "code",
   "execution_count": 2,
   "metadata": {},
   "outputs": [],
   "source": [
    "df = pd.DataFrame(pd.read_csv(\"../data/eqs_100k.tsv\", sep = \"\\t\", header=None))\n",
    "df.columns = [\"eq_id\", \"eq\"]"
   ]
  },
  {
   "cell_type": "code",
   "execution_count": 3,
   "metadata": {},
   "outputs": [
    {
     "data": {
      "text/html": [
       "<div>\n",
       "<style scoped>\n",
       "    .dataframe tbody tr th:only-of-type {\n",
       "        vertical-align: middle;\n",
       "    }\n",
       "\n",
       "    .dataframe tbody tr th {\n",
       "        vertical-align: top;\n",
       "    }\n",
       "\n",
       "    .dataframe thead th {\n",
       "        text-align: right;\n",
       "    }\n",
       "</style>\n",
       "<table border=\"1\" class=\"dataframe\">\n",
       "  <thead>\n",
       "    <tr style=\"text-align: right;\">\n",
       "      <th></th>\n",
       "      <th>eq_id</th>\n",
       "      <th>eq</th>\n",
       "    </tr>\n",
       "  </thead>\n",
       "  <tbody>\n",
       "    <tr>\n",
       "      <th>0</th>\n",
       "      <td>EQDS578Q</td>\n",
       "      <td>\\\\begin{equation}\\\\end{equation}</td>\n",
       "    </tr>\n",
       "    <tr>\n",
       "      <th>1</th>\n",
       "      <td>EQDS33191905Q</td>\n",
       "      <td>\\\\begin{equation}\\n \\\\det\\\\psi_-^{-1}=m_+^{(2)...</td>\n",
       "    </tr>\n",
       "    <tr>\n",
       "      <th>2</th>\n",
       "      <td>EQDS9271890Q</td>\n",
       "      <td>\\\\begin{equation}T^+_{\\\\varepsilon}(r):=\\\\inf\\...</td>\n",
       "    </tr>\n",
       "    <tr>\n",
       "      <th>3</th>\n",
       "      <td>EQDS14066999Q</td>\n",
       "      <td>\\\\begin{equation}\\\\max_{U \\\\hbox{ is unitary }...</td>\n",
       "    </tr>\n",
       "    <tr>\n",
       "      <th>4</th>\n",
       "      <td>EQDS45956134Q</td>\n",
       "      <td>\\\\begin{equation}\\\\alpha=\\\\frac{1}{\\\\sum_{i=1}...</td>\n",
       "    </tr>\n",
       "  </tbody>\n",
       "</table>\n",
       "</div>"
      ],
      "text/plain": [
       "           eq_id                                                 eq\n",
       "0       EQDS578Q                   \\\\begin{equation}\\\\end{equation}\n",
       "1  EQDS33191905Q  \\\\begin{equation}\\n \\\\det\\\\psi_-^{-1}=m_+^{(2)...\n",
       "2   EQDS9271890Q  \\\\begin{equation}T^+_{\\\\varepsilon}(r):=\\\\inf\\...\n",
       "3  EQDS14066999Q  \\\\begin{equation}\\\\max_{U \\\\hbox{ is unitary }...\n",
       "4  EQDS45956134Q  \\\\begin{equation}\\\\alpha=\\\\frac{1}{\\\\sum_{i=1}..."
      ]
     },
     "execution_count": 3,
     "metadata": {},
     "output_type": "execute_result"
    }
   ],
   "source": [
    "df.head()"
   ]
  },
  {
   "cell_type": "code",
   "execution_count": 4,
   "metadata": {},
   "outputs": [],
   "source": [
    "df['clean'] = replace(df['eq'])"
   ]
  },
  {
   "cell_type": "code",
   "execution_count": 5,
   "metadata": {},
   "outputs": [],
   "source": [
    "def find_aligned(s):\n",
    "    if 'aligned' in s:\n",
    "        return True\n",
    "    else: return False"
   ]
  },
  {
   "cell_type": "code",
   "execution_count": 6,
   "metadata": {},
   "outputs": [],
   "source": [
    "df_alignments = df[df['clean'].apply(find_aligned)].reset_index()"
   ]
  },
  {
   "cell_type": "code",
   "execution_count": 7,
   "metadata": {},
   "outputs": [],
   "source": [
    "from common.heuristics import split_high_level_eqs\n",
    "df_alignments['clean_split'] = df_alignments['clean'].apply(split_high_level_eqs)"
   ]
  },
  {
   "cell_type": "code",
   "execution_count": 8,
   "metadata": {},
   "outputs": [],
   "source": [
    "se = df_alignments['clean_split'].apply(lambda x: len(x) > 1 if x is not None else False)\n",
    "df_alignments = df_alignments[se].reset_index()"
   ]
  },
  {
   "cell_type": "code",
   "execution_count": 61,
   "metadata": {},
   "outputs": [],
   "source": [
    "se = df_alignments['clean_split'].apply(test_for_suitable)\n",
    "df_alignments['clean_split_filtered'] = se\n",
    "filt = df_alignments['clean_split_filtered'].apply(lambda x: x is not None)\n",
    "df_alignments = df_alignments[filt]"
   ]
  },
  {
   "cell_type": "code",
   "execution_count": 62,
   "metadata": {},
   "outputs": [],
   "source": [
    "from common.heuristics import edit_distance\n",
    "def filter_edit_distance(li):\n",
    "    ret = []\n",
    "    if len(li) < 2:\n",
    "        return None\n",
    "    prev = li[0]\n",
    "    for el in li[1:]:\n",
    "        prev_len = len(prev)\n",
    "        next_len = len(el)\n",
    "        dist =  edit_distance(prev, el) / next_len if (prev_len > 0) and (next_len > 0) else 0\n",
    "        if dist > 0.5:\n",
    "            ret.append((prev, el, dist))\n",
    "        prev = el\n",
    "    \n",
    "    return ret if len(ret) > 0 else None\n",
    "        "
   ]
  },
  {
   "cell_type": "code",
   "execution_count": 63,
   "metadata": {},
   "outputs": [],
   "source": [
    "se = df_alignments['clean_split_filtered'].apply(lambda x: [e.replace('\\\\begin{aligned}', '').replace('\\\\end{aligned}', '')\\\n",
    "                                                   for e in x])\\\n",
    "                                 .apply(filter_edit_distance)"
   ]
  },
  {
   "cell_type": "code",
   "execution_count": 76,
   "metadata": {},
   "outputs": [
    {
     "data": {
      "text/plain": [
       "[('\\\\lim\\\\limits_{\\\\eta\\\\o 0}\\\\frac{T^{\\\\eta,1}}{\\\\ln\\\\frac{1}{\\\\epsilon}}',\n",
       "  ':I_1,\\\\\\\\\\\\lim\\\\limits_{\\\\eta\\\\o 0}\\\\frac{T^{\\\\eta,2}-\\\\widetilde T^{\\\\eta,1}}{\\\\ln\\\\frac{1}{\\\\epsilon}}',\n",
       "  0.6813186813186813),\n",
       " (':I_1,\\\\\\\\\\\\lim\\\\limits_{\\\\eta\\\\o 0}\\\\frac{T^{\\\\eta,2}-\\\\widetilde T^{\\\\eta,1}}{\\\\ln\\\\frac{1}{\\\\epsilon}}',\n",
       "  ':I_2-I_1,\\\\\\\\\\\\lim\\\\limits_{\\\\eta\\\\o 0}\\\\frac{T^{\\\\eta,0}-\\\\widetilde T^{\\\\eta,2}}{\\\\ln\\\\frac{1}{\\\\epsilon}}',\n",
       "  0.9368421052631579)]"
      ]
     },
     "execution_count": 76,
     "metadata": {},
     "output_type": "execute_result"
    }
   ],
   "source": [
    "se[se.apply(lambda x: x is not None)].iloc[40]"
   ]
  },
  {
   "cell_type": "code",
   "execution_count": null,
   "metadata": {},
   "outputs": [],
   "source": []
  }
 ],
 "metadata": {
  "kernelspec": {
   "display_name": "data_cleaning",
   "language": "python",
   "name": "data_cleaning"
  },
  "language_info": {
   "codemirror_mode": {
    "name": "ipython",
    "version": 3
   },
   "file_extension": ".py",
   "mimetype": "text/x-python",
   "name": "python",
   "nbconvert_exporter": "python",
   "pygments_lexer": "ipython3",
   "version": "3.6.4"
  }
 },
 "nbformat": 4,
 "nbformat_minor": 2
}
