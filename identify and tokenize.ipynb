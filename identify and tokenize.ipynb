{
 "cells": [
  {
   "cell_type": "code",
   "execution_count": 1,
   "metadata": {},
   "outputs": [
    {
     "data": {
      "text/html": [
       "\n",
       "            <script>\n",
       "            requirejs.config({\n",
       "                paths: { \n",
       "                   'katex': ['//cdnjs.cloudflare.com/ajax/libs/KaTeX/0.9.0-beta1/katex.min'], \n",
       "                                                          // strip .js ^, require adds it back\n",
       "                },\n",
       "            });\n",
       "\n",
       "            require(['katex'], function(katex) {\n",
       "                 console.log(\"Loaded :)\");\n",
       "                 console.log(katex)\n",
       "                 window.katex = katex\n",
       "                 return {};\n",
       "            });\n",
       "            </script>\n",
       "            "
      ],
      "text/plain": [
       "<IPython.core.display.HTML object>"
      ]
     },
     "metadata": {},
     "output_type": "display_data"
    },
    {
     "data": {
      "text/html": [
       "<link rel=\"stylesheet\" href=\"https://cdnjs.cloudflare.com/ajax/libs/KaTeX/0.9.0-beta1/katex.min.css\" integrity=\"sha384-VEnyslhHLHiYPca9KFkBB3CMeslnM9CzwjxsEbZTeA21JBm7tdLwKoZmCt3cZTYD\" crossorigin=\"anonymous\">"
      ],
      "text/plain": [
       "<IPython.core.display.HTML object>"
      ]
     },
     "metadata": {},
     "output_type": "display_data"
    }
   ],
   "source": [
    "import pandas as pd\n",
    "from common.clean import replace\n",
    "from common.katex import katex, load_display_scripts\n",
    "from common.heuristics import test_for_suitable, split_high_level_eqs, split_exprs\n",
    "from common.tokenize import tokenize\n",
    "import sys\n",
    "import csv\n",
    "import json\n",
    "\n",
    "def process_row(r, writer=None):\n",
    "    d = {}\n",
    "    d['eq_id'] = r[0]\n",
    "    d['eq'] = r[1]\n",
    "    d['clean'] = replace(r[1])\n",
    "    d['clean_split'] = split_high_level_eqs(d['clean'])\n",
    "    if d['clean_split'] is None or len(d['clean_split']) < 2:\n",
    "        return None\n",
    "    suitable = test_for_suitable(d['clean_split'])\n",
    "    if suitable is None:\n",
    "        return None\n",
    "    d['clean_split_filtered'] = suitable\n",
    "    d['clean_split_filtered_tokenized'] = [tokenize(e) for e in d['clean_split_filtered']]\n",
    "    if writer:\n",
    "        writer.write(json.dumps(d)+'\\n')\n",
    "        \n",
    "    return d\n",
    "\n",
    "load_display_scripts()"
   ]
  },
  {
   "cell_type": "code",
   "execution_count": 2,
   "metadata": {},
   "outputs": [
    {
     "data": {
      "text/plain": [
       "['\\\\frac',\n",
       " '{',\n",
       " '1',\n",
       " '}',\n",
       " '{',\n",
       " 'T',\n",
       " '}',\n",
       " 'f',\n",
       " '=',\n",
       " 'x',\n",
       " '\\\\,',\n",
       " '\\\\tab',\n",
       " '\\\\macro',\n",
       " 'y']"
      ]
     },
     "execution_count": 2,
     "metadata": {},
     "output_type": "execute_result"
    }
   ],
   "source": [
    "tokenize('\\\\frac{1}{T} f = x \\, \\n \\\\tab \\macro y')\n",
    "# ret = []\n",
    "# ret_s = ''\n",
    "# for c in 'f = x \\, \\n \\\\tab \\macro y':\n",
    "#     print(c)\n",
    "#     ret.append(c)\n",
    "#     ret_s += c\n",
    "# ret"
   ]
  },
  {
   "cell_type": "code",
   "execution_count": 3,
   "metadata": {},
   "outputs": [],
   "source": [
    "def process_row(r, writer=None):\n",
    "    d = {}\n",
    "    d['eq_id'] = r[0]\n",
    "    d['eq'] = r[1]\n",
    "    d['clean'] = replace(d['eq'])\n",
    "    d['clean_expressions'] = split_exprs(d['clean'])\n",
    "    if not d['clean_expressions']:\n",
    "        return None\n",
    "    d['clean_expressions_split'] = []\n",
    "    for exp in d['clean_expressions']:\n",
    "        split_eqs = split_high_level_eqs(exp)\n",
    "        if split_eqs:\n",
    "            d['clean_expressions_split'].append(split_eqs)\n",
    "    \n",
    "    if len(d['clean_expressions_split']) < 2:\n",
    "        return None\n",
    "    \n",
    "    d['clean_split_filtered'] = []\n",
    "    for exp in d['clean_expressions_split']:\n",
    "        suitable = test_for_suitable(exp)\n",
    "        if not suitable:\n",
    "            return None\n",
    "        d['clean_split_filtered'].append(suitable)\n",
    "        \n",
    "    return d\n",
    "#     d['clean_expressions_split'] = split_high_level_eqs(d['clean_expressions'])\n"
   ]
  },
  {
   "cell_type": "code",
   "execution_count": 4,
   "metadata": {
    "scrolled": false
   },
   "outputs": [
    {
     "name": "stdout",
     "output_type": "stream",
     "text": [
      "['\\\\frac', '{', 'L', '^', '{', '3', '/', '2', '}', '}', '{', '1', '2', '\\\\pi', '}', '+', '\\\\frac', '{', '\\\\sqrt', '{', 'L', '}', '}', '{', '\\\\pi', '}']\n"
     ]
    },
    {
     "data": {
      "text/html": [
       "<div id=\"07290cf6-4660-11e8-9f7a-600308a8611a\"/>"
      ]
     },
     "metadata": {},
     "output_type": "display_data"
    },
    {
     "data": {
      "application/javascript": [
       "\n",
       "var ctx = function()                                  {\n",
       "var whenAvailable = function(name,                                     callback) {\n",
       "\tvar interval = 10; // ms\n",
       "\twindow.setTimeout(function() {\n",
       "\tif (window[name]) {\n",
       "\t\tcallback();\n",
       "\t} else {\n",
       "\t\twindow.setTimeout(arguments.callee,                                     interval);\n",
       "\t}\n",
       "}, interval);\n",
       "}\n",
       "\n",
       "var katex_try = function(s, el) {\n",
       "\t try {\t\twindow.katex.render(s, el);\n",
       "} catch(err) {\n",
       "\t\t el.innerHTML = s;\n",
       "\t}\n",
       "}\n",
       "var render_katex = function(id) { \n",
       "\tvar parent = document.getElementById(id);\n",
       "\tvar newChild = document.createElement('span');\n",
       "katex_try(\"\\\\frac { L ^ { 3 / 2 } } { 1 2 \\\\pi } + \\\\frac { \\\\sqrt { L } } { \\\\pi }\", newChild);\n",
       "parent.appendChild(newChild);\n",
       "}\n",
       "whenAvailable(\"katex\", function(){render_katex(\"07290cf6-4660-11e8-9f7a-600308a8611a\");});\n",
       "}\n",
       "ctx();\n"
      ]
     },
     "metadata": {},
     "output_type": "display_data"
    },
    {
     "name": "stdout",
     "output_type": "stream",
     "text": [
      "['s', '\\\\,', '\\\\sqrt', '{', 'b', '}', '\\\\;', '\\\\;', '\\\\;', '\\\\textrm', '{', 'a', 'n', 'd', '}', '\\\\;', '\\\\;', '\\\\;', 'R']\n"
     ]
    },
    {
     "data": {
      "text/html": [
       "<div id=\"072a9f94-4660-11e8-b7ed-600308a8611a\"/>"
      ]
     },
     "metadata": {},
     "output_type": "display_data"
    },
    {
     "data": {
      "application/javascript": [
       "\n",
       "var ctx = function()                                  {\n",
       "var whenAvailable = function(name,                                     callback) {\n",
       "\tvar interval = 10; // ms\n",
       "\twindow.setTimeout(function() {\n",
       "\tif (window[name]) {\n",
       "\t\tcallback();\n",
       "\t} else {\n",
       "\t\twindow.setTimeout(arguments.callee,                                     interval);\n",
       "\t}\n",
       "}, interval);\n",
       "}\n",
       "\n",
       "var katex_try = function(s, el) {\n",
       "\t try {\t\twindow.katex.render(s, el);\n",
       "} catch(err) {\n",
       "\t\t el.innerHTML = s;\n",
       "\t}\n",
       "}\n",
       "var render_katex = function(id) { \n",
       "\tvar parent = document.getElementById(id);\n",
       "\tvar newChild = document.createElement('span');\n",
       "katex_try(\"s \\\\, \\\\sqrt { b } \\\\; \\\\; \\\\; \\\\textrm { a n d } \\\\; \\\\; \\\\; R\", newChild);\n",
       "parent.appendChild(newChild);\n",
       "}\n",
       "whenAvailable(\"katex\", function(){render_katex(\"072a9f94-4660-11e8-b7ed-600308a8611a\");});\n",
       "}\n",
       "ctx();\n"
      ]
     },
     "metadata": {},
     "output_type": "display_data"
    },
    {
     "name": "stdout",
     "output_type": "stream",
     "text": [
      "['\\\\frac', '{', '2', '\\\\pi', '}', '{', '\\\\sqrt', '{', 'L', '}', '}', '-', '\\\\frac', '{', '\\\\pi', '\\\\sqrt', '{', 'L', '}', '}', '{', '2', '}']\n"
     ]
    },
    {
     "data": {
      "text/html": [
       "<div id=\"072cf488-4660-11e8-8723-600308a8611a\"/>"
      ]
     },
     "metadata": {},
     "output_type": "display_data"
    },
    {
     "data": {
      "application/javascript": [
       "\n",
       "var ctx = function()                                  {\n",
       "var whenAvailable = function(name,                                     callback) {\n",
       "\tvar interval = 10; // ms\n",
       "\twindow.setTimeout(function() {\n",
       "\tif (window[name]) {\n",
       "\t\tcallback();\n",
       "\t} else {\n",
       "\t\twindow.setTimeout(arguments.callee,                                     interval);\n",
       "\t}\n",
       "}, interval);\n",
       "}\n",
       "\n",
       "var katex_try = function(s, el) {\n",
       "\t try {\t\twindow.katex.render(s, el);\n",
       "} catch(err) {\n",
       "\t\t el.innerHTML = s;\n",
       "\t}\n",
       "}\n",
       "var render_katex = function(id) { \n",
       "\tvar parent = document.getElementById(id);\n",
       "\tvar newChild = document.createElement('span');\n",
       "katex_try(\"\\\\frac { 2 \\\\pi } { \\\\sqrt { L } } - \\\\frac { \\\\pi \\\\sqrt { L } } { 2 }\", newChild);\n",
       "parent.appendChild(newChild);\n",
       "}\n",
       "whenAvailable(\"katex\", function(){render_katex(\"072cf488-4660-11e8-8723-600308a8611a\");});\n",
       "}\n",
       "ctx();\n"
      ]
     },
     "metadata": {},
     "output_type": "display_data"
    },
    {
     "name": "stdout",
     "output_type": "stream",
     "text": [
      "\n",
      "new\n",
      "\n",
      "\\bigcup_{i \\in I} \\Omega_i : {\\mathcal{X}} {\\dashrightarrow} {\\mathcal{Y}},  \\left( \\bigcup_{i \\in I} \\Omega_i \\right)(x):=\n",
      "\\bigcup_{i \\in I} \\Omega_i(x) \\text{ for all } x \\in {\\mathcal{X}}.\n",
      "\n"
     ]
    },
    {
     "data": {
      "text/html": [
       "<div id=\"072ff518-4660-11e8-b11f-600308a8611a\"/>"
      ]
     },
     "metadata": {},
     "output_type": "display_data"
    },
    {
     "data": {
      "application/javascript": [
       "\n",
       "var ctx = function()                                  {\n",
       "var whenAvailable = function(name,                                     callback) {\n",
       "\tvar interval = 10; // ms\n",
       "\twindow.setTimeout(function() {\n",
       "\tif (window[name]) {\n",
       "\t\tcallback();\n",
       "\t} else {\n",
       "\t\twindow.setTimeout(arguments.callee,                                     interval);\n",
       "\t}\n",
       "}, interval);\n",
       "}\n",
       "\n",
       "var katex_try = function(s, el) {\n",
       "\t try {\t\twindow.katex.render(s, el);\n",
       "} catch(err) {\n",
       "\t\t el.innerHTML = s;\n",
       "\t}\n",
       "}\n",
       "var render_katex = function(id) { \n",
       "\tvar parent = document.getElementById(id);\n",
       "\tvar newChild = document.createElement('span');\n",
       "katex_try(\"\\\\bigcup_{i \\\\in I} \\\\Omega_i : {\\\\mathcal{X}} {\\\\dashrightarrow} {\\\\mathcal{Y}},  \\\\left( \\\\bigcup_{i \\\\in I} \\\\Omega_i \\\\right)(x):=\\n\\\\bigcup_{i \\\\in I} \\\\Omega_i(x) \\\\text{ for all } x \\\\in {\\\\mathcal{X}}.\\n\", newChild);\n",
       "parent.appendChild(newChild);\n",
       "}\n",
       "whenAvailable(\"katex\", function(){render_katex(\"072ff518-4660-11e8-b11f-600308a8611a\");});\n",
       "}\n",
       "ctx();\n"
      ]
     },
     "metadata": {},
     "output_type": "display_data"
    },
    {
     "name": "stdout",
     "output_type": "stream",
     "text": [
      "['\\\\left', '(', '\\\\bigcup', '_', '{', 'i', '\\\\in', 'I', '}', '\\\\Omega', '_', 'i', '\\\\right', ')', '(', 'x', ')', ':']\n"
     ]
    },
    {
     "data": {
      "text/html": [
       "<div id=\"0730d210-4660-11e8-b686-600308a8611a\"/>"
      ]
     },
     "metadata": {},
     "output_type": "display_data"
    },
    {
     "data": {
      "application/javascript": [
       "\n",
       "var ctx = function()                                  {\n",
       "var whenAvailable = function(name,                                     callback) {\n",
       "\tvar interval = 10; // ms\n",
       "\twindow.setTimeout(function() {\n",
       "\tif (window[name]) {\n",
       "\t\tcallback();\n",
       "\t} else {\n",
       "\t\twindow.setTimeout(arguments.callee,                                     interval);\n",
       "\t}\n",
       "}, interval);\n",
       "}\n",
       "\n",
       "var katex_try = function(s, el) {\n",
       "\t try {\t\twindow.katex.render(s, el);\n",
       "} catch(err) {\n",
       "\t\t el.innerHTML = s;\n",
       "\t}\n",
       "}\n",
       "var render_katex = function(id) { \n",
       "\tvar parent = document.getElementById(id);\n",
       "\tvar newChild = document.createElement('span');\n",
       "katex_try(\"\\\\left ( \\\\bigcup _ { i \\\\in I } \\\\Omega _ i \\\\right ) ( x ) :\", newChild);\n",
       "parent.appendChild(newChild);\n",
       "}\n",
       "whenAvailable(\"katex\", function(){render_katex(\"0730d210-4660-11e8-b686-600308a8611a\");});\n",
       "}\n",
       "ctx();\n"
      ]
     },
     "metadata": {},
     "output_type": "display_data"
    },
    {
     "name": "stdout",
     "output_type": "stream",
     "text": [
      "['\\\\bigcup', '_', '{', 'i', '\\\\in', 'I', '}', '\\\\Omega', '_', 'i', '(', 'x', ')', '\\\\text', '{', 'f', 'o', 'r', 'a', 'l', 'l', '}', 'x', '\\\\in', '{', '\\\\mathcal', '{', 'X', '}', '}', '.']\n"
     ]
    },
    {
     "data": {
      "text/html": [
       "<div id=\"073280f6-4660-11e8-a3a3-600308a8611a\"/>"
      ]
     },
     "metadata": {},
     "output_type": "display_data"
    },
    {
     "data": {
      "application/javascript": [
       "\n",
       "var ctx = function()                                  {\n",
       "var whenAvailable = function(name,                                     callback) {\n",
       "\tvar interval = 10; // ms\n",
       "\twindow.setTimeout(function() {\n",
       "\tif (window[name]) {\n",
       "\t\tcallback();\n",
       "\t} else {\n",
       "\t\twindow.setTimeout(arguments.callee,                                     interval);\n",
       "\t}\n",
       "}, interval);\n",
       "}\n",
       "\n",
       "var katex_try = function(s, el) {\n",
       "\t try {\t\twindow.katex.render(s, el);\n",
       "} catch(err) {\n",
       "\t\t el.innerHTML = s;\n",
       "\t}\n",
       "}\n",
       "var render_katex = function(id) { \n",
       "\tvar parent = document.getElementById(id);\n",
       "\tvar newChild = document.createElement('span');\n",
       "katex_try(\"\\\\bigcup _ { i \\\\in I } \\\\Omega _ i ( x ) \\\\text { f o r a l l } x \\\\in { \\\\mathcal { X } } .\", newChild);\n",
       "parent.appendChild(newChild);\n",
       "}\n",
       "whenAvailable(\"katex\", function(){render_katex(\"073280f6-4660-11e8-a3a3-600308a8611a\");});\n",
       "}\n",
       "ctx();\n"
      ]
     },
     "metadata": {},
     "output_type": "display_data"
    },
    {
     "name": "stdout",
     "output_type": "stream",
     "text": [
      "\n",
      "new\n",
      "\n",
      "\\textstyle p_0-1=\\frac{2\\delta}{\\delta+1} (p-1),  \\frac{1}{p}= \\frac{1}{2p_0}+\\frac{1}{2p_1}.\n",
      "\n"
     ]
    },
    {
     "data": {
      "text/html": [
       "<div id=\"07355100-4660-11e8-b44c-600308a8611a\"/>"
      ]
     },
     "metadata": {},
     "output_type": "display_data"
    },
    {
     "data": {
      "application/javascript": [
       "\n",
       "var ctx = function()                                  {\n",
       "var whenAvailable = function(name,                                     callback) {\n",
       "\tvar interval = 10; // ms\n",
       "\twindow.setTimeout(function() {\n",
       "\tif (window[name]) {\n",
       "\t\tcallback();\n",
       "\t} else {\n",
       "\t\twindow.setTimeout(arguments.callee,                                     interval);\n",
       "\t}\n",
       "}, interval);\n",
       "}\n",
       "\n",
       "var katex_try = function(s, el) {\n",
       "\t try {\t\twindow.katex.render(s, el);\n",
       "} catch(err) {\n",
       "\t\t el.innerHTML = s;\n",
       "\t}\n",
       "}\n",
       "var render_katex = function(id) { \n",
       "\tvar parent = document.getElementById(id);\n",
       "\tvar newChild = document.createElement('span');\n",
       "katex_try(\"\\\\textstyle p_0-1=\\\\frac{2\\\\delta}{\\\\delta+1} (p-1),  \\\\frac{1}{p}= \\\\frac{1}{2p_0}+\\\\frac{1}{2p_1}.\\n\", newChild);\n",
       "parent.appendChild(newChild);\n",
       "}\n",
       "whenAvailable(\"katex\", function(){render_katex(\"07355100-4660-11e8-b44c-600308a8611a\");});\n",
       "}\n",
       "ctx();\n"
      ]
     },
     "metadata": {},
     "output_type": "display_data"
    },
    {
     "name": "stdout",
     "output_type": "stream",
     "text": [
      "['\\\\textstyle', 'p', '_', '0', '-', '1']\n"
     ]
    },
    {
     "data": {
      "text/html": [
       "<div id=\"0735c49e-4660-11e8-8374-600308a8611a\"/>"
      ]
     },
     "metadata": {},
     "output_type": "display_data"
    },
    {
     "data": {
      "application/javascript": [
       "\n",
       "var ctx = function()                                  {\n",
       "var whenAvailable = function(name,                                     callback) {\n",
       "\tvar interval = 10; // ms\n",
       "\twindow.setTimeout(function() {\n",
       "\tif (window[name]) {\n",
       "\t\tcallback();\n",
       "\t} else {\n",
       "\t\twindow.setTimeout(arguments.callee,                                     interval);\n",
       "\t}\n",
       "}, interval);\n",
       "}\n",
       "\n",
       "var katex_try = function(s, el) {\n",
       "\t try {\t\twindow.katex.render(s, el);\n",
       "} catch(err) {\n",
       "\t\t el.innerHTML = s;\n",
       "\t}\n",
       "}\n",
       "var render_katex = function(id) { \n",
       "\tvar parent = document.getElementById(id);\n",
       "\tvar newChild = document.createElement('span');\n",
       "katex_try(\"\\\\textstyle p _ 0 - 1\", newChild);\n",
       "parent.appendChild(newChild);\n",
       "}\n",
       "whenAvailable(\"katex\", function(){render_katex(\"0735c49e-4660-11e8-8374-600308a8611a\");});\n",
       "}\n",
       "ctx();\n"
      ]
     },
     "metadata": {},
     "output_type": "display_data"
    },
    {
     "name": "stdout",
     "output_type": "stream",
     "text": [
      "['\\\\frac', '{', '2', '\\\\delta', '}', '{', '\\\\delta', '+', '1', '}', '(', 'p', '-', '1', ')']\n"
     ]
    },
    {
     "data": {
      "text/html": [
       "<div id=\"07368d2c-4660-11e8-b54d-600308a8611a\"/>"
      ]
     },
     "metadata": {},
     "output_type": "display_data"
    },
    {
     "data": {
      "application/javascript": [
       "\n",
       "var ctx = function()                                  {\n",
       "var whenAvailable = function(name,                                     callback) {\n",
       "\tvar interval = 10; // ms\n",
       "\twindow.setTimeout(function() {\n",
       "\tif (window[name]) {\n",
       "\t\tcallback();\n",
       "\t} else {\n",
       "\t\twindow.setTimeout(arguments.callee,                                     interval);\n",
       "\t}\n",
       "}, interval);\n",
       "}\n",
       "\n",
       "var katex_try = function(s, el) {\n",
       "\t try {\t\twindow.katex.render(s, el);\n",
       "} catch(err) {\n",
       "\t\t el.innerHTML = s;\n",
       "\t}\n",
       "}\n",
       "var render_katex = function(id) { \n",
       "\tvar parent = document.getElementById(id);\n",
       "\tvar newChild = document.createElement('span');\n",
       "katex_try(\"\\\\frac { 2 \\\\delta } { \\\\delta + 1 } ( p - 1 )\", newChild);\n",
       "parent.appendChild(newChild);\n",
       "}\n",
       "whenAvailable(\"katex\", function(){render_katex(\"07368d2c-4660-11e8-b54d-600308a8611a\");});\n",
       "}\n",
       "ctx();\n"
      ]
     },
     "metadata": {},
     "output_type": "display_data"
    },
    {
     "name": "stdout",
     "output_type": "stream",
     "text": [
      "\n",
      "new\n",
      "\n",
      "\\textstyle p_0-1=\\frac{2\\delta}{\\delta+1} (p-1),  \\frac{1}{p}= \\frac{1}{2p_0}+\\frac{1}{2p_1}.\n",
      "\n"
     ]
    },
    {
     "data": {
      "text/html": [
       "<div id=\"073710ee-4660-11e8-8a85-600308a8611a\"/>"
      ]
     },
     "metadata": {},
     "output_type": "display_data"
    },
    {
     "data": {
      "application/javascript": [
       "\n",
       "var ctx = function()                                  {\n",
       "var whenAvailable = function(name,                                     callback) {\n",
       "\tvar interval = 10; // ms\n",
       "\twindow.setTimeout(function() {\n",
       "\tif (window[name]) {\n",
       "\t\tcallback();\n",
       "\t} else {\n",
       "\t\twindow.setTimeout(arguments.callee,                                     interval);\n",
       "\t}\n",
       "}, interval);\n",
       "}\n",
       "\n",
       "var katex_try = function(s, el) {\n",
       "\t try {\t\twindow.katex.render(s, el);\n",
       "} catch(err) {\n",
       "\t\t el.innerHTML = s;\n",
       "\t}\n",
       "}\n",
       "var render_katex = function(id) { \n",
       "\tvar parent = document.getElementById(id);\n",
       "\tvar newChild = document.createElement('span');\n",
       "katex_try(\"\\\\textstyle p_0-1=\\\\frac{2\\\\delta}{\\\\delta+1} (p-1),  \\\\frac{1}{p}= \\\\frac{1}{2p_0}+\\\\frac{1}{2p_1}.\\n\", newChild);\n",
       "parent.appendChild(newChild);\n",
       "}\n",
       "whenAvailable(\"katex\", function(){render_katex(\"073710ee-4660-11e8-8a85-600308a8611a\");});\n",
       "}\n",
       "ctx();\n"
      ]
     },
     "metadata": {},
     "output_type": "display_data"
    },
    {
     "name": "stdout",
     "output_type": "stream",
     "text": [
      "['\\\\frac', '{', '1', '}', '{', 'p', '}']\n"
     ]
    },
    {
     "data": {
      "text/html": [
       "<div id=\"07377976-4660-11e8-9191-600308a8611a\"/>"
      ]
     },
     "metadata": {},
     "output_type": "display_data"
    },
    {
     "data": {
      "application/javascript": [
       "\n",
       "var ctx = function()                                  {\n",
       "var whenAvailable = function(name,                                     callback) {\n",
       "\tvar interval = 10; // ms\n",
       "\twindow.setTimeout(function() {\n",
       "\tif (window[name]) {\n",
       "\t\tcallback();\n",
       "\t} else {\n",
       "\t\twindow.setTimeout(arguments.callee,                                     interval);\n",
       "\t}\n",
       "}, interval);\n",
       "}\n",
       "\n",
       "var katex_try = function(s, el) {\n",
       "\t try {\t\twindow.katex.render(s, el);\n",
       "} catch(err) {\n",
       "\t\t el.innerHTML = s;\n",
       "\t}\n",
       "}\n",
       "var render_katex = function(id) { \n",
       "\tvar parent = document.getElementById(id);\n",
       "\tvar newChild = document.createElement('span');\n",
       "katex_try(\"\\\\frac { 1 } { p }\", newChild);\n",
       "parent.appendChild(newChild);\n",
       "}\n",
       "whenAvailable(\"katex\", function(){render_katex(\"07377976-4660-11e8-9191-600308a8611a\");});\n",
       "}\n",
       "ctx();\n"
      ]
     },
     "metadata": {},
     "output_type": "display_data"
    },
    {
     "name": "stdout",
     "output_type": "stream",
     "text": [
      "['\\\\frac', '{', '1', '}', '{', '2', 'p', '_', '0', '}', '+', '\\\\frac', '{', '1', '}', '{', '2', 'p', '_', '1', '}', '.']\n"
     ]
    },
    {
     "data": {
      "text/html": [
       "<div id=\"0737f7d4-4660-11e8-9efc-600308a8611a\"/>"
      ]
     },
     "metadata": {},
     "output_type": "display_data"
    },
    {
     "data": {
      "application/javascript": [
       "\n",
       "var ctx = function()                                  {\n",
       "var whenAvailable = function(name,                                     callback) {\n",
       "\tvar interval = 10; // ms\n",
       "\twindow.setTimeout(function() {\n",
       "\tif (window[name]) {\n",
       "\t\tcallback();\n",
       "\t} else {\n",
       "\t\twindow.setTimeout(arguments.callee,                                     interval);\n",
       "\t}\n",
       "}, interval);\n",
       "}\n",
       "\n",
       "var katex_try = function(s, el) {\n",
       "\t try {\t\twindow.katex.render(s, el);\n",
       "} catch(err) {\n",
       "\t\t el.innerHTML = s;\n",
       "\t}\n",
       "}\n",
       "var render_katex = function(id) { \n",
       "\tvar parent = document.getElementById(id);\n",
       "\tvar newChild = document.createElement('span');\n",
       "katex_try(\"\\\\frac { 1 } { 2 p _ 0 } + \\\\frac { 1 } { 2 p _ 1 } .\", newChild);\n",
       "parent.appendChild(newChild);\n",
       "}\n",
       "whenAvailable(\"katex\", function(){render_katex(\"0737f7d4-4660-11e8-9efc-600308a8611a\");});\n",
       "}\n",
       "ctx();\n"
      ]
     },
     "metadata": {},
     "output_type": "display_data"
    },
    {
     "name": "stdout",
     "output_type": "stream",
     "text": [
      "\n",
      "new\n",
      "\n",
      "\n",
      "\\label{}\n",
      "{\\mathfrak J}=\\frac{\\vec{\\eta} \\cdot \\vec{\\xi} + \\Omega\\vec{\\xi} \\cdot \\vec{\\xi}}{\\vec{\\eta}\\cdot \\vec{\\eta} + \\Omega\\vec{\\eta} \\cdot \\vec{\\xi}}\n",
      "=\n",
      "\\frac{{\\mathfrak R}^2\\Omega - \\omega}{\\Omega\\omega -1}.\n",
      "\n",
      "\n"
     ]
    },
    {
     "data": {
      "text/html": [
       "<div id=\"073974c6-4660-11e8-b2e7-600308a8611a\"/>"
      ]
     },
     "metadata": {},
     "output_type": "display_data"
    },
    {
     "data": {
      "application/javascript": [
       "\n",
       "var ctx = function()                                  {\n",
       "var whenAvailable = function(name,                                     callback) {\n",
       "\tvar interval = 10; // ms\n",
       "\twindow.setTimeout(function() {\n",
       "\tif (window[name]) {\n",
       "\t\tcallback();\n",
       "\t} else {\n",
       "\t\twindow.setTimeout(arguments.callee,                                     interval);\n",
       "\t}\n",
       "}, interval);\n",
       "}\n",
       "\n",
       "var katex_try = function(s, el) {\n",
       "\t try {\t\twindow.katex.render(s, el);\n",
       "} catch(err) {\n",
       "\t\t el.innerHTML = s;\n",
       "\t}\n",
       "}\n",
       "var render_katex = function(id) { \n",
       "\tvar parent = document.getElementById(id);\n",
       "\tvar newChild = document.createElement('span');\n",
       "katex_try(\"\\n\\\\label{}\\n{\\\\mathfrak J}=\\\\frac{\\\\vec{\\\\eta} \\\\cdot \\\\vec{\\\\xi} + \\\\Omega\\\\vec{\\\\xi} \\\\cdot \\\\vec{\\\\xi}}{\\\\vec{\\\\eta}\\\\cdot \\\\vec{\\\\eta} + \\\\Omega\\\\vec{\\\\eta} \\\\cdot \\\\vec{\\\\xi}}\\n=\\n\\\\frac{{\\\\mathfrak R}^2\\\\Omega - \\\\omega}{\\\\Omega\\\\omega -1}.\\n\\n\", newChild);\n",
       "parent.appendChild(newChild);\n",
       "}\n",
       "whenAvailable(\"katex\", function(){render_katex(\"073974c6-4660-11e8-b2e7-600308a8611a\");});\n",
       "}\n",
       "ctx();\n"
      ]
     },
     "metadata": {},
     "output_type": "display_data"
    },
    {
     "name": "stdout",
     "output_type": "stream",
     "text": [
      "['\\\\frac', '{', '\\\\vec', '{', '\\\\eta', '}', '\\\\cdot', '\\\\vec', '{', '\\\\xi', '}', '+', '\\\\Omega', '\\\\', 'v', 'e', 'c', '{', '\\\\xi', '}', '\\\\cdot', '\\\\vec', '{', '\\\\xi', '}', '}', '{', '\\\\vec', '{', '\\\\eta', '}', '\\\\cdot', '\\\\vec', '{', '\\\\eta', '}', '+', '\\\\Omega', '\\\\', 'v', 'e', 'c', '{', '\\\\eta', '}', '\\\\cdot', '\\\\vec', '{', '\\\\xi', '}', '}']\n"
     ]
    },
    {
     "data": {
      "text/html": [
       "<div id=\"073a3c7e-4660-11e8-ad4e-600308a8611a\"/>"
      ]
     },
     "metadata": {},
     "output_type": "display_data"
    },
    {
     "data": {
      "application/javascript": [
       "\n",
       "var ctx = function()                                  {\n",
       "var whenAvailable = function(name,                                     callback) {\n",
       "\tvar interval = 10; // ms\n",
       "\twindow.setTimeout(function() {\n",
       "\tif (window[name]) {\n",
       "\t\tcallback();\n",
       "\t} else {\n",
       "\t\twindow.setTimeout(arguments.callee,                                     interval);\n",
       "\t}\n",
       "}, interval);\n",
       "}\n",
       "\n",
       "var katex_try = function(s, el) {\n",
       "\t try {\t\twindow.katex.render(s, el);\n",
       "} catch(err) {\n",
       "\t\t el.innerHTML = s;\n",
       "\t}\n",
       "}\n",
       "var render_katex = function(id) { \n",
       "\tvar parent = document.getElementById(id);\n",
       "\tvar newChild = document.createElement('span');\n",
       "katex_try(\"\\\\frac { \\\\vec { \\\\eta } \\\\cdot \\\\vec { \\\\xi } + \\\\Omega \\\\ v e c { \\\\xi } \\\\cdot \\\\vec { \\\\xi } } { \\\\vec { \\\\eta } \\\\cdot \\\\vec { \\\\eta } + \\\\Omega \\\\ v e c { \\\\eta } \\\\cdot \\\\vec { \\\\xi } }\", newChild);\n",
       "parent.appendChild(newChild);\n",
       "}\n",
       "whenAvailable(\"katex\", function(){render_katex(\"073a3c7e-4660-11e8-ad4e-600308a8611a\");});\n",
       "}\n",
       "ctx();\n"
      ]
     },
     "metadata": {},
     "output_type": "display_data"
    },
    {
     "name": "stdout",
     "output_type": "stream",
     "text": [
      "['\\\\frac', '{', '{', '\\\\mathfrak', 'R', '}', '^', '2', '\\\\Omega', '-', '\\\\omega', '}', '{', '\\\\Omega', '\\\\', 'o', 'm', 'e', 'g', 'a', '-', '1', '}', '.']\n"
     ]
    },
    {
     "data": {
      "text/html": [
       "<div id=\"073ab942-4660-11e8-b0d4-600308a8611a\"/>"
      ]
     },
     "metadata": {},
     "output_type": "display_data"
    },
    {
     "data": {
      "application/javascript": [
       "\n",
       "var ctx = function()                                  {\n",
       "var whenAvailable = function(name,                                     callback) {\n",
       "\tvar interval = 10; // ms\n",
       "\twindow.setTimeout(function() {\n",
       "\tif (window[name]) {\n",
       "\t\tcallback();\n",
       "\t} else {\n",
       "\t\twindow.setTimeout(arguments.callee,                                     interval);\n",
       "\t}\n",
       "}, interval);\n",
       "}\n",
       "\n",
       "var katex_try = function(s, el) {\n",
       "\t try {\t\twindow.katex.render(s, el);\n",
       "} catch(err) {\n",
       "\t\t el.innerHTML = s;\n",
       "\t}\n",
       "}\n",
       "var render_katex = function(id) { \n",
       "\tvar parent = document.getElementById(id);\n",
       "\tvar newChild = document.createElement('span');\n",
       "katex_try(\"\\\\frac { { \\\\mathfrak R } ^ 2 \\\\Omega - \\\\omega } { \\\\Omega \\\\ o m e g a - 1 } .\", newChild);\n",
       "parent.appendChild(newChild);\n",
       "}\n",
       "whenAvailable(\"katex\", function(){render_katex(\"073ab942-4660-11e8-b0d4-600308a8611a\");});\n",
       "}\n",
       "ctx();\n"
      ]
     },
     "metadata": {},
     "output_type": "display_data"
    },
    {
     "name": "stdout",
     "output_type": "stream",
     "text": [
      "\n",
      "new\n",
      "\n",
      "2-\\frac{\\nu}{z_1}-\\frac{\\nu}{z_2}=1\\mbox{with}\\frac{\\nu}{z_3}\\geq1\n",
      "\n"
     ]
    },
    {
     "data": {
      "text/html": [
       "<div id=\"073b9e8c-4660-11e8-856f-600308a8611a\"/>"
      ]
     },
     "metadata": {},
     "output_type": "display_data"
    },
    {
     "data": {
      "application/javascript": [
       "\n",
       "var ctx = function()                                  {\n",
       "var whenAvailable = function(name,                                     callback) {\n",
       "\tvar interval = 10; // ms\n",
       "\twindow.setTimeout(function() {\n",
       "\tif (window[name]) {\n",
       "\t\tcallback();\n",
       "\t} else {\n",
       "\t\twindow.setTimeout(arguments.callee,                                     interval);\n",
       "\t}\n",
       "}, interval);\n",
       "}\n",
       "\n",
       "var katex_try = function(s, el) {\n",
       "\t try {\t\twindow.katex.render(s, el);\n",
       "} catch(err) {\n",
       "\t\t el.innerHTML = s;\n",
       "\t}\n",
       "}\n",
       "var render_katex = function(id) { \n",
       "\tvar parent = document.getElementById(id);\n",
       "\tvar newChild = document.createElement('span');\n",
       "katex_try(\"2-\\\\frac{\\\\nu}{z_1}-\\\\frac{\\\\nu}{z_2}=1\\\\mbox{with}\\\\frac{\\\\nu}{z_3}\\\\geq1\\n\", newChild);\n",
       "parent.appendChild(newChild);\n",
       "}\n",
       "whenAvailable(\"katex\", function(){render_katex(\"073b9e8c-4660-11e8-856f-600308a8611a\");});\n",
       "}\n",
       "ctx();\n"
      ]
     },
     "metadata": {},
     "output_type": "display_data"
    },
    {
     "name": "stdout",
     "output_type": "stream",
     "text": [
      "['2', '-', '\\\\frac', '{', '\\\\nu', '}', '{', 'z', '_', '1', '}', '-', '\\\\frac', '{', '\\\\nu', '}', '{', 'z', '_', '2', '}']\n"
     ]
    },
    {
     "data": {
      "text/html": [
       "<div id=\"073c71ba-4660-11e8-bc54-600308a8611a\"/>"
      ]
     },
     "metadata": {},
     "output_type": "display_data"
    },
    {
     "data": {
      "application/javascript": [
       "\n",
       "var ctx = function()                                  {\n",
       "var whenAvailable = function(name,                                     callback) {\n",
       "\tvar interval = 10; // ms\n",
       "\twindow.setTimeout(function() {\n",
       "\tif (window[name]) {\n",
       "\t\tcallback();\n",
       "\t} else {\n",
       "\t\twindow.setTimeout(arguments.callee,                                     interval);\n",
       "\t}\n",
       "}, interval);\n",
       "}\n",
       "\n",
       "var katex_try = function(s, el) {\n",
       "\t try {\t\twindow.katex.render(s, el);\n",
       "} catch(err) {\n",
       "\t\t el.innerHTML = s;\n",
       "\t}\n",
       "}\n",
       "var render_katex = function(id) { \n",
       "\tvar parent = document.getElementById(id);\n",
       "\tvar newChild = document.createElement('span');\n",
       "katex_try(\"2 - \\\\frac { \\\\nu } { z _ 1 } - \\\\frac { \\\\nu } { z _ 2 }\", newChild);\n",
       "parent.appendChild(newChild);\n",
       "}\n",
       "whenAvailable(\"katex\", function(){render_katex(\"073c71ba-4660-11e8-bc54-600308a8611a\");});\n",
       "}\n",
       "ctx();\n"
      ]
     },
     "metadata": {},
     "output_type": "display_data"
    },
    {
     "name": "stdout",
     "output_type": "stream",
     "text": [
      "['1', '\\\\mbox', '{', 'w', 'i', 't', 'h', '}', '\\\\frac', '{', '\\\\nu', '}', '{', 'z', '_', '3', '}', '\\\\geq', '1']\n"
     ]
    },
    {
     "data": {
      "text/html": [
       "<div id=\"073cee42-4660-11e8-ba6a-600308a8611a\"/>"
      ]
     },
     "metadata": {},
     "output_type": "display_data"
    },
    {
     "data": {
      "application/javascript": [
       "\n",
       "var ctx = function()                                  {\n",
       "var whenAvailable = function(name,                                     callback) {\n",
       "\tvar interval = 10; // ms\n",
       "\twindow.setTimeout(function() {\n",
       "\tif (window[name]) {\n",
       "\t\tcallback();\n",
       "\t} else {\n",
       "\t\twindow.setTimeout(arguments.callee,                                     interval);\n",
       "\t}\n",
       "}, interval);\n",
       "}\n",
       "\n",
       "var katex_try = function(s, el) {\n",
       "\t try {\t\twindow.katex.render(s, el);\n",
       "} catch(err) {\n",
       "\t\t el.innerHTML = s;\n",
       "\t}\n",
       "}\n",
       "var render_katex = function(id) { \n",
       "\tvar parent = document.getElementById(id);\n",
       "\tvar newChild = document.createElement('span');\n",
       "katex_try(\"1 \\\\mbox { w i t h } \\\\frac { \\\\nu } { z _ 3 } \\\\geq 1\", newChild);\n",
       "parent.appendChild(newChild);\n",
       "}\n",
       "whenAvailable(\"katex\", function(){render_katex(\"073cee42-4660-11e8-ba6a-600308a8611a\");});\n",
       "}\n",
       "ctx();\n"
      ]
     },
     "metadata": {},
     "output_type": "display_data"
    },
    {
     "name": "stdout",
     "output_type": "stream",
     "text": [
      "\n",
      "new\n",
      "\n",
      " = (s+1)^2+ s(s+1)=dim_{\\mathbb{R}} \\  \\mathbf {so}(s+1,s+1)\n",
      "\n"
     ]
    },
    {
     "data": {
      "text/html": [
       "<div id=\"0744b398-4660-11e8-88f8-600308a8611a\"/>"
      ]
     },
     "metadata": {},
     "output_type": "display_data"
    },
    {
     "data": {
      "application/javascript": [
       "\n",
       "var ctx = function()                                  {\n",
       "var whenAvailable = function(name,                                     callback) {\n",
       "\tvar interval = 10; // ms\n",
       "\twindow.setTimeout(function() {\n",
       "\tif (window[name]) {\n",
       "\t\tcallback();\n",
       "\t} else {\n",
       "\t\twindow.setTimeout(arguments.callee,                                     interval);\n",
       "\t}\n",
       "}, interval);\n",
       "}\n",
       "\n",
       "var katex_try = function(s, el) {\n",
       "\t try {\t\twindow.katex.render(s, el);\n",
       "} catch(err) {\n",
       "\t\t el.innerHTML = s;\n",
       "\t}\n",
       "}\n",
       "var render_katex = function(id) { \n",
       "\tvar parent = document.getElementById(id);\n",
       "\tvar newChild = document.createElement('span');\n",
       "katex_try(\" = (s+1)^2+ s(s+1)=dim_{\\\\mathbb{R}} \\\\  \\\\mathbf {so}(s+1,s+1)\\n\", newChild);\n",
       "parent.appendChild(newChild);\n",
       "}\n",
       "whenAvailable(\"katex\", function(){render_katex(\"0744b398-4660-11e8-88f8-600308a8611a\");});\n",
       "}\n",
       "ctx();\n"
      ]
     },
     "metadata": {},
     "output_type": "display_data"
    },
    {
     "ename": "NameError",
     "evalue": "name 'GetOutOfLoop' is not defined",
     "output_type": "error",
     "traceback": [
      "\u001b[0;31m---------------------------------------------------------------------------\u001b[0m",
      "\u001b[0;31mNameError\u001b[0m                                 Traceback (most recent call last)",
      "\u001b[0;32m<ipython-input-4-0cd3f542a180>\u001b[0m in \u001b[0;36m<module>\u001b[0;34m()\u001b[0m\n\u001b[1;32m     26\u001b[0m                     \u001b[0mfound\u001b[0m \u001b[0;34m+=\u001b[0m \u001b[0;36m1\u001b[0m\u001b[0;34m\u001b[0m\u001b[0m\n\u001b[1;32m     27\u001b[0m                     \u001b[0;32mif\u001b[0m \u001b[0mfound\u001b[0m \u001b[0;34m>\u001b[0m \u001b[0;36m21\u001b[0m\u001b[0;34m:\u001b[0m\u001b[0;34m\u001b[0m\u001b[0m\n\u001b[0;32m---> 28\u001b[0;31m                         \u001b[0;32mraise\u001b[0m \u001b[0mGetOutOfLoop\u001b[0m\u001b[0;34m\u001b[0m\u001b[0m\n\u001b[0m\u001b[1;32m     29\u001b[0m                     \u001b[0;32mfor\u001b[0m \u001b[0ms\u001b[0m \u001b[0;32min\u001b[0m \u001b[0msuit\u001b[0m\u001b[0;34m:\u001b[0m\u001b[0;34m\u001b[0m\u001b[0m\n\u001b[1;32m     30\u001b[0m                         \u001b[0;32mif\u001b[0m \u001b[0mfound\u001b[0m \u001b[0;34m>\u001b[0m \u001b[0;36m15\u001b[0m\u001b[0;34m:\u001b[0m\u001b[0;34m\u001b[0m\u001b[0m\n",
      "\u001b[0;31mNameError\u001b[0m: name 'GetOutOfLoop' is not defined"
     ]
    }
   ],
   "source": [
    "found = 0\n",
    "with open('eqs_100k.tsv', 'rb') as reader:\n",
    "    for i, row in enumerate(reader):\n",
    "        # The equations were saved in the json-encoded format, which double the number of \\\\ \n",
    "        # escapes that we want.\n",
    "        row = row.decode(\"unicode_escape\")\n",
    "        row = row.split('\\t', 1)[1]\n",
    "        rowcp = row\n",
    "\n",
    "        row = replace(row)\n",
    "\n",
    "        tokenized = tokenize(row)\n",
    "\n",
    "        ses = split_exprs(tokenized)\n",
    "        if ses:\n",
    "            \n",
    "            for expr in ses:\n",
    "                se = split_high_level_eqs(expr)\n",
    "\n",
    "                suit = test_for_suitable(se)\n",
    "                if suit:\n",
    "                    if found > 15:\n",
    "                        print(\"\\nnew\\n\")\n",
    "                        print(row)\n",
    "                        katex(row)._ipython_display_()\n",
    "                    found += 1\n",
    "                    if found > 21:\n",
    "                        raise GetOutOfLoop\n",
    "                    for s in suit:\n",
    "                        if found > 15:\n",
    "                            print(s)\n",
    "                            katex(\" \".join(s))._ipython_display_()       "
   ]
  },
  {
   "cell_type": "code",
   "execution_count": null,
   "metadata": {},
   "outputs": [],
   "source": [
    "# test: \"../data/eqs_100k.tsv\" 'aligned_ex.csv'\n",
    "if len(sys.argv) < 3:\n",
    "    print(\"usage: python identify_and_tokenize.py /path/to/tsv outpath/filename.csv\")\n",
    "else:\n",
    "    filename = sys.argv[1]\n",
    "    outpath = sys.argv[2]\n",
    "\n",
    "with open(filename, 'r') as csvfile:\n",
    "    with open(outpath, \"w+\") as outfile:\n",
    "        reader = csvfile #csv.reader(csvfile, quoting=csv.QUOTE_MINIMAL, delimiter='\\t') \n",
    "        for i, row in enumerate(reader):\n",
    "            row = row.split('\\t', 1)\n",
    "            if i == 0:\n",
    "                continue\n",
    "            process_row(row, outfile)\n",
    "\n",
    "            if i % 100000 == 0:\n",
    "                print(\"{i} rows processed\".format(i=i))\n",
    "\n",
    "\n"
   ]
  },
  {
   "cell_type": "code",
   "execution_count": null,
   "metadata": {},
   "outputs": [],
   "source": []
  }
 ],
 "metadata": {
  "kernelspec": {
   "display_name": "data_cleaning",
   "language": "python",
   "name": "data_cleaning"
  },
  "language_info": {
   "codemirror_mode": {
    "name": "ipython",
    "version": 3
   },
   "file_extension": ".py",
   "mimetype": "text/x-python",
   "name": "python",
   "nbconvert_exporter": "python",
   "pygments_lexer": "ipython3",
   "version": "3.6.4"
  }
 },
 "nbformat": 4,
 "nbformat_minor": 2
}
