{
 "cells": [
  {
   "cell_type": "markdown",
   "metadata": {},
   "source": [
    "In this notebook, I identify similar equations using a few heuristics I created. The heuristics check for \"complete\" mathematical expressions, w. You can see the heuristics in common/heuristics.py\n",
    "\n",
    "You can see the results in the last cell.\n",
    "\n",
    "things to add to split on at a high level: [,;.]"
   ]
  },
  {
   "cell_type": "code",
   "execution_count": null,
   "metadata": {},
   "outputs": [],
   "source": [
    "import pandas as pd\n",
    "from common.clean import replace\n",
    "from common.heuristics import has_op, test_for_suitable\n",
    "from common.tokenize import tokenize"
   ]
  },
  {
   "cell_type": "code",
   "execution_count": null,
   "metadata": {},
   "outputs": [],
   "source": [
    "df = pd.DataFrame(pd.read_csv(\"../data/eqs_100k.tsv\", sep = \"\\t\", header=None))\n",
    "df.columns = [\"eq_id\", \"eq\"]"
   ]
  },
  {
   "cell_type": "code",
   "execution_count": null,
   "metadata": {},
   "outputs": [],
   "source": [
    "df.head()"
   ]
  },
  {
   "cell_type": "code",
   "execution_count": null,
   "metadata": {},
   "outputs": [],
   "source": [
    "df['clean'] = replace(df['eq'])"
   ]
  },
  {
   "cell_type": "code",
   "execution_count": null,
   "metadata": {},
   "outputs": [],
   "source": [
    "from common.heuristics import split_high_level_eqs\n",
    "df['clean_split'] = df['clean'].apply(split_high_level_eqs)"
   ]
  },
  {
   "cell_type": "code",
   "execution_count": null,
   "metadata": {},
   "outputs": [],
   "source": [
    "se = df['clean_split'].apply(lambda x: len(x) > 1 if x is not None else False)\n",
    "df = df[se].reset_index()"
   ]
  },
  {
   "cell_type": "code",
   "execution_count": null,
   "metadata": {
    "scrolled": true
   },
   "outputs": [],
   "source": [
    "se = df['clean_split'].apply(test_for_suitable)\n",
    "df['clean_split_filtered'] = se\n",
    "filt = df['clean_split_filtered'].apply(lambda x: x is not None)\n",
    "df = df[filt]"
   ]
  },
  {
   "cell_type": "code",
   "execution_count": null,
   "metadata": {
    "scrolled": true
   },
   "outputs": [],
   "source": [
    "for i in range(0, df['clean_split_filtered'].size):\n",
    "    print(\"equation number \"+str(i))\n",
    "    for j in range(0, len(df['clean_split_filtered'].iloc[i])):\n",
    "        print(\"sub-equation number \"+str(j))\n",
    "        print (df['clean_split_filtered'].iloc[i][j])\n",
    "        print(tokenize(df['clean_split_filtered'].iloc[i][j]))\n",
    "    if i == 400:\n",
    "        break\n",
    "    print(\"=============\")"
   ]
  },
  {
   "cell_type": "markdown",
   "metadata": {},
   "source": [
    "Buglist:\n",
    "1. \\n Didn't get filtered:\n",
    "\\\\Sigma_{jk}(p)-\\\\varphi^{l}  (\\\\Lambda_{lj;k}^{(3)}(p)-\\\\Gamma_{ljk}^{(3)})  \\\\\\\\\\n \n",
    "\n",
    "['START', '\\\\', '\\\\Sigma', '{', 'j', 'k', '}', '(', 'p', ')', '-', '\\\\', '\\\\varphi', '{', 'l', '}', '(', '\\\\', '\\\\Lambda', '{', 'l', 'j', 'k', '}', '{', '(', '3', ')', '}', '(', 'p', ')', '-', '\\\\', '\\\\Gamma', '{', 'l', 'j', 'k', '}', '{', '(', '3', ')', '}', ')', '\\\\', '\\\\', '\\\\', '\\\\', '\\\\n']\n",
    "\n",
    "2. Did I handle periods and commas?"
   ]
  }
 ],
 "metadata": {
  "kernelspec": {
   "display_name": "data_cleaning",
   "language": "python",
   "name": "data_cleaning"
  },
  "language_info": {
   "codemirror_mode": {
    "name": "ipython",
    "version": 3
   },
   "file_extension": ".py",
   "mimetype": "text/x-python",
   "name": "python",
   "nbconvert_exporter": "python",
   "pygments_lexer": "ipython3",
   "version": "3.6.4"
  }
 },
 "nbformat": 4,
 "nbformat_minor": 2
}
