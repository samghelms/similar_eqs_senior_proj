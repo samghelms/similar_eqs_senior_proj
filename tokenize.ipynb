{
 "cells": [
  {
   "cell_type": "code",
   "execution_count": 14,
   "metadata": {},
   "outputs": [
    {
     "data": {
      "text/html": [
       "\n",
       "            <script>\n",
       "            requirejs.config({\n",
       "                paths: { \n",
       "                   'katex': ['//cdnjs.cloudflare.com/ajax/libs/KaTeX/0.9.0-beta1/katex.min'], \n",
       "                                                          // strip .js ^, require adds it back\n",
       "                },\n",
       "            });\n",
       "\n",
       "            require(['katex'], function(katex) {\n",
       "                 console.log(\"Loaded :)\");\n",
       "                 console.log(katex)\n",
       "                 window.katex = katex\n",
       "                 return {};\n",
       "            });\n",
       "            </script>\n",
       "            "
      ],
      "text/plain": [
       "<IPython.core.display.HTML object>"
      ]
     },
     "metadata": {},
     "output_type": "display_data"
    },
    {
     "data": {
      "text/html": [
       "<link rel=\"stylesheet\" href=\"https://cdnjs.cloudflare.com/ajax/libs/KaTeX/0.9.0-beta1/katex.min.css\" integrity=\"sha384-VEnyslhHLHiYPca9KFkBB3CMeslnM9CzwjxsEbZTeA21JBm7tdLwKoZmCt3cZTYD\" crossorigin=\"anonymous\">"
      ],
      "text/plain": [
       "<IPython.core.display.HTML object>"
      ]
     },
     "metadata": {},
     "output_type": "display_data"
    }
   ],
   "source": [
    "from common.tokenize import tokenize, fix_macros, CouldNotFindError\n",
    "from common.clean import replace\n",
    "from common.heuristics import test_for_suitable, split_high_level_eqs, split_exprs, filter_tokens\n",
    "from common.tokenize import tokenize\n",
    "from common.katex import katex, load_display_scripts\n",
    "\n",
    "load_display_scripts()"
   ]
  },
  {
   "cell_type": "code",
   "execution_count": 11,
   "metadata": {
    "collapsed": true
   },
   "outputs": [],
   "source": [
    "import json\n",
    "macro_sources = ['data/all_symbols.json', 'data/inside_set_indicators.json',\n",
    "                 'data/operator_list.json',\n",
    "                'data/punctuation_list.json', 'data/close_list.json',\n",
    "                'data/open_list.json', 'data/spacing_list.json',\n",
    "                'data/relations_list.json', 'data/functions.json', \n",
    "                 'data/macros.json', 'data/symbols.json']\n",
    "all_macros = {}\n",
    "for s in macro_sources:\n",
    "    f = open(s)\n",
    "    symbls = json.load(f)\n",
    "    for s in symbls:\n",
    "        all_macros[s.strip()] = 1\n",
    "#     with open('all_latex_symbols.txt', 'r', encoding = 'utf-8') as f:\n",
    "#         for l in json.load(f):\n",
    "#             print( l)\n",
    "#             all_macros[l.strip()] = 1"
   ]
  },
  {
   "cell_type": "code",
   "execution_count": 16,
   "metadata": {},
   "outputs": [
    {
     "data": {
      "text/plain": [
       "['\\\\frac', '{', 'x', '}', '{', 'y', '}', 'x', '=', '\\\\int', '1.0', '.6']"
      ]
     },
     "execution_count": 16,
     "metadata": {},
     "output_type": "execute_result"
    }
   ],
   "source": [
    "filter_tokens(tokenize('\\\\frac{x} {y} \\\\begin{eq }x = \\\\textfadfsad{tets} \\\\int 1.0 .6 \\\\end{test}'))"
   ]
  },
  {
   "cell_type": "code",
   "execution_count": 17,
   "metadata": {},
   "outputs": [
    {
     "name": "stdout",
     "output_type": "stream",
     "text": [
      "finding: \\frac\n",
      "found: \\frac\n",
      "finding: \\delta\n",
      "found: \\delta\n",
      "finding: \\frac\n",
      "found: \\frac\n",
      "finding: \\rm\n",
      "found: \\rm\n"
     ]
    },
    {
     "data": {
      "text/plain": [
       "'\\\\zeta t  xy'"
      ]
     },
     "execution_count": 17,
     "metadata": {},
     "output_type": "execute_result"
    }
   ],
   "source": [
    "fix_macros('\\int x \\gammaxy ', all_macros)\n",
    "fix_macros('\\\\frac{\\\\delta c_s}{c_s} = \\\\frac{c_{s,\\\\, {\\\\rm mag}} - c_{s,\\\\, 0}}{c_{s,\\\\, 0}},', all_macros, debug=True)\n",
    "# fix_macros('\\nabla M\\'', all_macros)\n",
    "\n",
    "fix_macros(replace('\\\\zetat xy'), all_macros)\n",
    "# fix_macros(r'K_T = \\frac{(1-\\gamma) \\log(Tt^2)}{K(\\theta_a^*-t,\\theta_a^*+\\zetat)} = \\frac{(1-\\gamma) \\log(Tt^2)}{K(\\overline{\\theta}_a,\\theta_a^*+\\zetat)},', all_macros)"
   ]
  },
  {
   "cell_type": "code",
   "execution_count": 20,
   "metadata": {
    "scrolled": false
   },
   "outputs": [
    {
     "name": "stdout",
     "output_type": "stream",
     "text": [
      "\n",
      "new\n",
      "\n",
      " \\frac{\\partial f_t}{\\partial t}(x)=V'(x)f'_t(x)-\\frac{\\beta}{4} \\int \\frac{f'_t(x)-f'_t(y)}{x-y} (X_t^N(dy)+X_t(dy))   \n",
      "\n",
      " \\frac{\\partial f_t}{\\partial t}(x)=V'(x)f'_t(x)-\\frac{\\beta}{4} \\int \\frac {f'_t(x)-f'_t(y)}{x-y} (X_t^N(dy)+X_t(dy))   \n",
      "\n"
     ]
    },
    {
     "data": {
      "text/html": [
       "<div id=\"3eaf4810-4cdd-11e8-ba7b-600308a8611a\"/>"
      ]
     },
     "metadata": {},
     "output_type": "display_data"
    },
    {
     "data": {
      "application/javascript": [
       "\n",
       "var ctx = function()                                  {\n",
       "var whenAvailable = function(name,                                     callback) {\n",
       "\tvar interval = 10; // ms\n",
       "\twindow.setTimeout(function() {\n",
       "\tif (window[name]) {\n",
       "\t\tcallback();\n",
       "\t} else {\n",
       "\t\twindow.setTimeout(arguments.callee,                                     interval);\n",
       "\t}\n",
       "}, interval);\n",
       "}\n",
       "\n",
       "var katex_try = function(s, el) {\n",
       "\t try {\t\twindow.katex.render(s, el);\n",
       "} catch(err) {\n",
       "\t\t el.innerHTML = s;\n",
       "\t}\n",
       "}\n",
       "var render_katex = function(id) { \n",
       "\tvar parent = document.getElementById(id);\n",
       "\tvar newChild = document.createElement('span');\n",
       "katex_try(\" \\\\frac{\\\\partial f_t}{\\\\partial t}(x)=V'(x)f'_t(x)-\\\\frac{\\\\beta}{4} \\\\int \\\\frac {f'_t(x)-f'_t(y)}{x-y} (X_t^N(dy)+X_t(dy))   \\n\", newChild);\n",
       "parent.appendChild(newChild);\n",
       "}\n",
       "whenAvailable(\"katex\", function(){render_katex(\"3eaf4810-4cdd-11e8-ba7b-600308a8611a\");});\n",
       "}\n",
       "ctx();\n"
      ]
     },
     "metadata": {},
     "output_type": "display_data"
    },
    {
     "name": "stdout",
     "output_type": "stream",
     "text": [
      "finding: \\frac\n",
      "found: \\frac\n",
      "finding: \\partial\n",
      "found: \\partial\n",
      "finding: \\partial\n",
      "found: \\partial\n",
      "finding: \\frac\n",
      "found: \\frac\n",
      "finding: \\beta\n",
      "found: \\beta\n",
      "finding: \\int\n",
      "found: \\int\n",
      "finding: \\frac\n",
      "found: \\frac\n",
      "fixed2\n",
      " \\frac{\\partial f_t}{\\partial t}(x)=V'(x)f'_t(x)-\\frac{\\beta}{4} \\int \\frac {f'_t(x)-f'_t(y)}{x-y} (X_t^N(dy)+X_t(dy))   \n",
      "\n",
      "['\\\\frac', '{', '\\\\partial', 'f', '_', 't', '}', '{', '\\\\partial', 't', '}', '(', 'x', ')']\n"
     ]
    },
    {
     "data": {
      "text/html": [
       "<div id=\"3eb3c94c-4cdd-11e8-a52f-600308a8611a\"/>"
      ]
     },
     "metadata": {},
     "output_type": "display_data"
    },
    {
     "data": {
      "application/javascript": [
       "\n",
       "var ctx = function()                                  {\n",
       "var whenAvailable = function(name,                                     callback) {\n",
       "\tvar interval = 10; // ms\n",
       "\twindow.setTimeout(function() {\n",
       "\tif (window[name]) {\n",
       "\t\tcallback();\n",
       "\t} else {\n",
       "\t\twindow.setTimeout(arguments.callee,                                     interval);\n",
       "\t}\n",
       "}, interval);\n",
       "}\n",
       "\n",
       "var katex_try = function(s, el) {\n",
       "\t try {\t\twindow.katex.render(s, el);\n",
       "} catch(err) {\n",
       "\t\t el.innerHTML = s;\n",
       "\t}\n",
       "}\n",
       "var render_katex = function(id) { \n",
       "\tvar parent = document.getElementById(id);\n",
       "\tvar newChild = document.createElement('span');\n",
       "katex_try(\"\\\\frac { \\\\partial f _ t } { \\\\partial t } ( x )\", newChild);\n",
       "parent.appendChild(newChild);\n",
       "}\n",
       "whenAvailable(\"katex\", function(){render_katex(\"3eb3c94c-4cdd-11e8-a52f-600308a8611a\");});\n",
       "}\n",
       "ctx();\n"
      ]
     },
     "metadata": {},
     "output_type": "display_data"
    },
    {
     "name": "stdout",
     "output_type": "stream",
     "text": [
      "['V', \"'\", '(', 'x', ')', 'f', \"'\", '_', 't', '(', 'x', ')', '-', '\\\\frac', '{', '\\\\beta', '}', '{', '4', '}', '\\\\int', '\\\\frac', '{', 'f', \"'\", '_', 't', '(', 'x', ')', '-', 'f', \"'\", '_', 't', '(', 'y', ')', '}', '{', 'x', '-', 'y', '}', '(', 'X', '_', 't', '^', 'N', '(', 'd', 'y', ')', '+', 'X', '_', 't', '(', 'd', 'y', ')', ')']\n"
     ]
    },
    {
     "data": {
      "text/html": [
       "<div id=\"3eb44f86-4cdd-11e8-b5a3-600308a8611a\"/>"
      ]
     },
     "metadata": {},
     "output_type": "display_data"
    },
    {
     "data": {
      "application/javascript": [
       "\n",
       "var ctx = function()                                  {\n",
       "var whenAvailable = function(name,                                     callback) {\n",
       "\tvar interval = 10; // ms\n",
       "\twindow.setTimeout(function() {\n",
       "\tif (window[name]) {\n",
       "\t\tcallback();\n",
       "\t} else {\n",
       "\t\twindow.setTimeout(arguments.callee,                                     interval);\n",
       "\t}\n",
       "}, interval);\n",
       "}\n",
       "\n",
       "var katex_try = function(s, el) {\n",
       "\t try {\t\twindow.katex.render(s, el);\n",
       "} catch(err) {\n",
       "\t\t el.innerHTML = s;\n",
       "\t}\n",
       "}\n",
       "var render_katex = function(id) { \n",
       "\tvar parent = document.getElementById(id);\n",
       "\tvar newChild = document.createElement('span');\n",
       "katex_try(\"V ' ( x ) f ' _ t ( x ) - \\\\frac { \\\\beta } { 4 } \\\\int \\\\frac { f ' _ t ( x ) - f ' _ t ( y ) } { x - y } ( X _ t ^ N ( d y ) + X _ t ( d y ) )\", newChild);\n",
       "parent.appendChild(newChild);\n",
       "}\n",
       "whenAvailable(\"katex\", function(){render_katex(\"3eb44f86-4cdd-11e8-b5a3-600308a8611a\");});\n",
       "}\n",
       "ctx();\n"
      ]
     },
     "metadata": {},
     "output_type": "display_data"
    },
    {
     "name": "stdout",
     "output_type": "stream",
     "text": [
      "\n",
      "new\n",
      "\n",
      " \n",
      "\\int_0^{\\infty}\\frac{r^{2n-3}dr}{(1+r^2)^{2n-1}}  =  \\frac{1}{2}\\int_0^{\\infty}\\frac{r^{n-2}dr}{(1+r)^{2n-1}}  =  \\frac{1}{2n-2} {2n-2 \\choose n-1}^{-1}\n",
      "\n",
      "\n",
      " \n",
      "\\int_0^{\\infty}\\frac{r^{2n-3}dr}{(1+r^2)^{2n-1}}  =  \\frac{1}{2}\\int_0^{\\infty}\\frac{r^{n-2}dr}{(1+r)^{2n-1}}  =  \\frac{1}{2n-2} {2n-2 \\choose  n-1}^{-1}\n",
      "\n",
      "\n"
     ]
    },
    {
     "data": {
      "text/html": [
       "<div id=\"3ebe4a40-4cdd-11e8-be48-600308a8611a\"/>"
      ]
     },
     "metadata": {},
     "output_type": "display_data"
    },
    {
     "data": {
      "application/javascript": [
       "\n",
       "var ctx = function()                                  {\n",
       "var whenAvailable = function(name,                                     callback) {\n",
       "\tvar interval = 10; // ms\n",
       "\twindow.setTimeout(function() {\n",
       "\tif (window[name]) {\n",
       "\t\tcallback();\n",
       "\t} else {\n",
       "\t\twindow.setTimeout(arguments.callee,                                     interval);\n",
       "\t}\n",
       "}, interval);\n",
       "}\n",
       "\n",
       "var katex_try = function(s, el) {\n",
       "\t try {\t\twindow.katex.render(s, el);\n",
       "} catch(err) {\n",
       "\t\t el.innerHTML = s;\n",
       "\t}\n",
       "}\n",
       "var render_katex = function(id) { \n",
       "\tvar parent = document.getElementById(id);\n",
       "\tvar newChild = document.createElement('span');\n",
       "katex_try(\" \\n\\\\int_0^{\\\\infty}\\\\frac{r^{2n-3}dr}{(1+r^2)^{2n-1}}  =  \\\\frac{1}{2}\\\\int_0^{\\\\infty}\\\\frac{r^{n-2}dr}{(1+r)^{2n-1}}  =  \\\\frac{1}{2n-2} {2n-2 \\\\choose  n-1}^{-1}\\n\\n\", newChild);\n",
       "parent.appendChild(newChild);\n",
       "}\n",
       "whenAvailable(\"katex\", function(){render_katex(\"3ebe4a40-4cdd-11e8-be48-600308a8611a\");});\n",
       "}\n",
       "ctx();\n"
      ]
     },
     "metadata": {},
     "output_type": "display_data"
    },
    {
     "name": "stdout",
     "output_type": "stream",
     "text": [
      "finding: \\int\n",
      "found: \\int\n",
      "finding: \\infty\n",
      "found: \\infty\n",
      "finding: \\frac\n",
      "found: \\frac\n",
      "finding: \\frac\n",
      "found: \\frac\n",
      "finding: \\int\n",
      "found: \\int\n",
      "finding: \\infty\n",
      "found: \\infty\n",
      "finding: \\frac\n",
      "found: \\frac\n",
      "finding: \\frac\n",
      "found: \\frac\n",
      "finding: \\choose\n",
      "found: \\choose\n",
      "fixed2\n",
      " \n",
      "\\int_0^{\\infty}\\frac{r^{2n-3}dr}{(1+r^2)^{2n-1}}  =  \\frac{1}{2}\\int_0^{\\infty}\\frac{r^{n-2}dr}{(1+r)^{2n-1}}  =  \\frac{1}{2n-2} {2n-2 \\choose  n-1}^{-1}\n",
      "\n",
      "\n",
      "['\\\\int', '_', '0', '^', '{', '\\\\infty', '}', '\\\\frac', '{', 'r', '^', '{', '2', 'n', '-', '3', '}', 'd', 'r', '}', '{', '(', '1', '+', 'r', '^', '2', ')', '^', '{', '2', 'n', '-', '1', '}', '}']\n"
     ]
    },
    {
     "data": {
      "text/html": [
       "<div id=\"3ec07074-4cdd-11e8-9919-600308a8611a\"/>"
      ]
     },
     "metadata": {},
     "output_type": "display_data"
    },
    {
     "data": {
      "application/javascript": [
       "\n",
       "var ctx = function()                                  {\n",
       "var whenAvailable = function(name,                                     callback) {\n",
       "\tvar interval = 10; // ms\n",
       "\twindow.setTimeout(function() {\n",
       "\tif (window[name]) {\n",
       "\t\tcallback();\n",
       "\t} else {\n",
       "\t\twindow.setTimeout(arguments.callee,                                     interval);\n",
       "\t}\n",
       "}, interval);\n",
       "}\n",
       "\n",
       "var katex_try = function(s, el) {\n",
       "\t try {\t\twindow.katex.render(s, el);\n",
       "} catch(err) {\n",
       "\t\t el.innerHTML = s;\n",
       "\t}\n",
       "}\n",
       "var render_katex = function(id) { \n",
       "\tvar parent = document.getElementById(id);\n",
       "\tvar newChild = document.createElement('span');\n",
       "katex_try(\"\\\\int _ 0 ^ { \\\\infty } \\\\frac { r ^ { 2 n - 3 } d r } { ( 1 + r ^ 2 ) ^ { 2 n - 1 } }\", newChild);\n",
       "parent.appendChild(newChild);\n",
       "}\n",
       "whenAvailable(\"katex\", function(){render_katex(\"3ec07074-4cdd-11e8-9919-600308a8611a\");});\n",
       "}\n",
       "ctx();\n"
      ]
     },
     "metadata": {},
     "output_type": "display_data"
    },
    {
     "name": "stdout",
     "output_type": "stream",
     "text": [
      "['\\\\frac', '{', '1', '}', '{', '2', '}', '\\\\int', '_', '0', '^', '{', '\\\\infty', '}', '\\\\frac', '{', 'r', '^', '{', 'n', '-', '2', '}', 'd', 'r', '}', '{', '(', '1', '+', 'r', ')', '^', '{', '2', 'n', '-', '1', '}', '}']\n"
     ]
    },
    {
     "data": {
      "text/html": [
       "<div id=\"3ec19e70-4cdd-11e8-b66c-600308a8611a\"/>"
      ]
     },
     "metadata": {},
     "output_type": "display_data"
    },
    {
     "data": {
      "application/javascript": [
       "\n",
       "var ctx = function()                                  {\n",
       "var whenAvailable = function(name,                                     callback) {\n",
       "\tvar interval = 10; // ms\n",
       "\twindow.setTimeout(function() {\n",
       "\tif (window[name]) {\n",
       "\t\tcallback();\n",
       "\t} else {\n",
       "\t\twindow.setTimeout(arguments.callee,                                     interval);\n",
       "\t}\n",
       "}, interval);\n",
       "}\n",
       "\n",
       "var katex_try = function(s, el) {\n",
       "\t try {\t\twindow.katex.render(s, el);\n",
       "} catch(err) {\n",
       "\t\t el.innerHTML = s;\n",
       "\t}\n",
       "}\n",
       "var render_katex = function(id) { \n",
       "\tvar parent = document.getElementById(id);\n",
       "\tvar newChild = document.createElement('span');\n",
       "katex_try(\"\\\\frac { 1 } { 2 } \\\\int _ 0 ^ { \\\\infty } \\\\frac { r ^ { n - 2 } d r } { ( 1 + r ) ^ { 2 n - 1 } }\", newChild);\n",
       "parent.appendChild(newChild);\n",
       "}\n",
       "whenAvailable(\"katex\", function(){render_katex(\"3ec19e70-4cdd-11e8-b66c-600308a8611a\");});\n",
       "}\n",
       "ctx();\n"
      ]
     },
     "metadata": {},
     "output_type": "display_data"
    },
    {
     "name": "stdout",
     "output_type": "stream",
     "text": [
      "['\\\\frac', '{', '1', '}', '{', '2', 'n', '-', '2', '}', '{', '2', 'n', '-', '2', '\\\\choose', 'n', '-', '1', '}', '^', '{', '-', '1', '}']\n"
     ]
    },
    {
     "data": {
      "text/html": [
       "<div id=\"3ec20fcc-4cdd-11e8-b51d-600308a8611a\"/>"
      ]
     },
     "metadata": {},
     "output_type": "display_data"
    },
    {
     "data": {
      "application/javascript": [
       "\n",
       "var ctx = function()                                  {\n",
       "var whenAvailable = function(name,                                     callback) {\n",
       "\tvar interval = 10; // ms\n",
       "\twindow.setTimeout(function() {\n",
       "\tif (window[name]) {\n",
       "\t\tcallback();\n",
       "\t} else {\n",
       "\t\twindow.setTimeout(arguments.callee,                                     interval);\n",
       "\t}\n",
       "}, interval);\n",
       "}\n",
       "\n",
       "var katex_try = function(s, el) {\n",
       "\t try {\t\twindow.katex.render(s, el);\n",
       "} catch(err) {\n",
       "\t\t el.innerHTML = s;\n",
       "\t}\n",
       "}\n",
       "var render_katex = function(id) { \n",
       "\tvar parent = document.getElementById(id);\n",
       "\tvar newChild = document.createElement('span');\n",
       "katex_try(\"\\\\frac { 1 } { 2 n - 2 } { 2 n - 2 \\\\choose n - 1 } ^ { - 1 }\", newChild);\n",
       "parent.appendChild(newChild);\n",
       "}\n",
       "whenAvailable(\"katex\", function(){render_katex(\"3ec20fcc-4cdd-11e8-b51d-600308a8611a\");});\n",
       "}\n",
       "ctx();\n"
      ]
     },
     "metadata": {},
     "output_type": "display_data"
    },
    {
     "name": "stdout",
     "output_type": "stream",
     "text": [
      "\n",
      "new\n",
      "\n",
      "\n",
      "\\frac {\\partial L}{\\partial {\\vartheta}} = - \\frac {\\partial^2 E}{\\partial w \\partial {\\vartheta}}\n",
      "\\left( \\frac {\\partial^2 E}{\\partial {w}^2}\\right)^{-1}\n",
      "\\frac {\\partial L}{\\partial w} \\bigg|_{w = w^*}\n",
      "\n",
      "\n",
      "\n",
      "\\frac {\\partial L}{\\partial {\\vartheta}} = - \\frac {\\partial^2 E}{\\partial w \\partial {\\vartheta}}\n",
      "\\left( \\frac {\\partial^2 E}{\\partial {w}^2}\\right)^{-1}\n",
      "\\frac {\\partial L}{\\partial w} \\bigg |_{w = w^*}\n",
      "\n",
      "\n"
     ]
    },
    {
     "data": {
      "text/html": [
       "<div id=\"3ec4cd3e-4cdd-11e8-8dcd-600308a8611a\"/>"
      ]
     },
     "metadata": {},
     "output_type": "display_data"
    },
    {
     "data": {
      "application/javascript": [
       "\n",
       "var ctx = function()                                  {\n",
       "var whenAvailable = function(name,                                     callback) {\n",
       "\tvar interval = 10; // ms\n",
       "\twindow.setTimeout(function() {\n",
       "\tif (window[name]) {\n",
       "\t\tcallback();\n",
       "\t} else {\n",
       "\t\twindow.setTimeout(arguments.callee,                                     interval);\n",
       "\t}\n",
       "}, interval);\n",
       "}\n",
       "\n",
       "var katex_try = function(s, el) {\n",
       "\t try {\t\twindow.katex.render(s, el);\n",
       "} catch(err) {\n",
       "\t\t el.innerHTML = s;\n",
       "\t}\n",
       "}\n",
       "var render_katex = function(id) { \n",
       "\tvar parent = document.getElementById(id);\n",
       "\tvar newChild = document.createElement('span');\n",
       "katex_try(\"\\n\\\\frac {\\\\partial L}{\\\\partial {\\\\vartheta}} = - \\\\frac {\\\\partial^2 E}{\\\\partial w \\\\partial {\\\\vartheta}}\\n\\\\left( \\\\frac {\\\\partial^2 E}{\\\\partial {w}^2}\\\\right)^{-1}\\n\\\\frac {\\\\partial L}{\\\\partial w} \\\\bigg |_{w = w^*}\\n\\n\", newChild);\n",
       "parent.appendChild(newChild);\n",
       "}\n",
       "whenAvailable(\"katex\", function(){render_katex(\"3ec4cd3e-4cdd-11e8-8dcd-600308a8611a\");});\n",
       "}\n",
       "ctx();\n"
      ]
     },
     "metadata": {},
     "output_type": "display_data"
    },
    {
     "name": "stdout",
     "output_type": "stream",
     "text": [
      "finding: \\frac\n",
      "found: \\frac\n",
      "finding: \\partial\n",
      "found: \\partial\n",
      "finding: \\partial\n",
      "found: \\partial\n",
      "finding: \\vartheta\n",
      "found: \\vartheta\n",
      "finding: \\frac\n",
      "found: \\frac\n",
      "finding: \\partial\n",
      "found: \\partial\n",
      "finding: \\partial\n",
      "found: \\partial\n",
      "finding: \\partial\n",
      "found: \\partial\n",
      "finding: \\vartheta\n",
      "found: \\vartheta\n",
      "finding: \\left\n",
      "found: \\left\n",
      "finding: \\frac\n",
      "found: \\frac\n",
      "finding: \\partial\n",
      "found: \\partial\n",
      "finding: \\partial\n",
      "found: \\partial\n",
      "finding: \\right\n",
      "found: \\right\n",
      "finding: \\frac\n",
      "found: \\frac\n",
      "finding: \\partial\n",
      "found: \\partial\n",
      "finding: \\partial\n",
      "found: \\partial\n",
      "finding: \\bigg\n",
      "found: \\bigg\n",
      "fixed2\n",
      "\n",
      "\\frac {\\partial L}{\\partial {\\vartheta}} = - \\frac {\\partial^2 E}{\\partial w \\partial {\\vartheta}}\n",
      "\\left( \\frac {\\partial^2 E}{\\partial {w}^2}\\right)^{-1}\n",
      "\\frac {\\partial L}{\\partial w} \\bigg |_{w = w^*}\n",
      "\n",
      "\n",
      "['\\\\frac', '{', '\\\\partial', 'L', '}', '{', '\\\\partial', '{', '\\\\vartheta', '}', '}']\n"
     ]
    },
    {
     "data": {
      "text/html": [
       "<div id=\"3ec5d594-4cdd-11e8-8bd4-600308a8611a\"/>"
      ]
     },
     "metadata": {},
     "output_type": "display_data"
    },
    {
     "data": {
      "application/javascript": [
       "\n",
       "var ctx = function()                                  {\n",
       "var whenAvailable = function(name,                                     callback) {\n",
       "\tvar interval = 10; // ms\n",
       "\twindow.setTimeout(function() {\n",
       "\tif (window[name]) {\n",
       "\t\tcallback();\n",
       "\t} else {\n",
       "\t\twindow.setTimeout(arguments.callee,                                     interval);\n",
       "\t}\n",
       "}, interval);\n",
       "}\n",
       "\n",
       "var katex_try = function(s, el) {\n",
       "\t try {\t\twindow.katex.render(s, el);\n",
       "} catch(err) {\n",
       "\t\t el.innerHTML = s;\n",
       "\t}\n",
       "}\n",
       "var render_katex = function(id) { \n",
       "\tvar parent = document.getElementById(id);\n",
       "\tvar newChild = document.createElement('span');\n",
       "katex_try(\"\\\\frac { \\\\partial L } { \\\\partial { \\\\vartheta } }\", newChild);\n",
       "parent.appendChild(newChild);\n",
       "}\n",
       "whenAvailable(\"katex\", function(){render_katex(\"3ec5d594-4cdd-11e8-8bd4-600308a8611a\");});\n",
       "}\n",
       "ctx();\n"
      ]
     },
     "metadata": {},
     "output_type": "display_data"
    },
    {
     "name": "stdout",
     "output_type": "stream",
     "text": [
      "['-', '\\\\frac', '{', '\\\\partial', '^', '2', 'E', '}', '{', '\\\\partial', 'w', '\\\\partial', '{', '\\\\vartheta', '}', '}', '\\\\left', '(', '\\\\frac', '{', '\\\\partial', '^', '2', 'E', '}', '{', '\\\\partial', '{', 'w', '}', '^', '2', '}', '\\\\right', ')', '^', '{', '-', '1', '}', '\\\\frac', '{', '\\\\partial', 'L', '}', '{', '\\\\partial', 'w', '}', '\\\\bigg', '|', '_', '{', 'w', '=', 'w', '^', '*', '}']\n"
     ]
    },
    {
     "data": {
      "text/html": [
       "<div id=\"3ec6be00-4cdd-11e8-8ef9-600308a8611a\"/>"
      ]
     },
     "metadata": {},
     "output_type": "display_data"
    },
    {
     "data": {
      "application/javascript": [
       "\n",
       "var ctx = function()                                  {\n",
       "var whenAvailable = function(name,                                     callback) {\n",
       "\tvar interval = 10; // ms\n",
       "\twindow.setTimeout(function() {\n",
       "\tif (window[name]) {\n",
       "\t\tcallback();\n",
       "\t} else {\n",
       "\t\twindow.setTimeout(arguments.callee,                                     interval);\n",
       "\t}\n",
       "}, interval);\n",
       "}\n",
       "\n",
       "var katex_try = function(s, el) {\n",
       "\t try {\t\twindow.katex.render(s, el);\n",
       "} catch(err) {\n",
       "\t\t el.innerHTML = s;\n",
       "\t}\n",
       "}\n",
       "var render_katex = function(id) { \n",
       "\tvar parent = document.getElementById(id);\n",
       "\tvar newChild = document.createElement('span');\n",
       "katex_try(\"- \\\\frac { \\\\partial ^ 2 E } { \\\\partial w \\\\partial { \\\\vartheta } } \\\\left ( \\\\frac { \\\\partial ^ 2 E } { \\\\partial { w } ^ 2 } \\\\right ) ^ { - 1 } \\\\frac { \\\\partial L } { \\\\partial w } \\\\bigg | _ { w = w ^ * }\", newChild);\n",
       "parent.appendChild(newChild);\n",
       "}\n",
       "whenAvailable(\"katex\", function(){render_katex(\"3ec6be00-4cdd-11e8-8ef9-600308a8611a\");});\n",
       "}\n",
       "ctx();\n"
      ]
     },
     "metadata": {},
     "output_type": "display_data"
    },
    {
     "name": "stdout",
     "output_type": "stream",
     "text": [
      "\n",
      "new\n",
      "\n",
      "\\mathcal{V}:=\\bigcap_{i\\in\\Lambda}\\mathcal{W}_i\\mbox{and}\\mathcal{V}':=\\bigcap_{i\\in\\Lambda}\\mathcal{W}_i'\n",
      "\n",
      "\\mathcal{V}:=\\bigcap_{i\\in\\Lambda}\\mathcal{W}_i\\mbox{and}\\mathcal{V}':=\\bigcap_{i\\in\\Lambda}\\mathcal {W}_i'\n",
      "\n"
     ]
    },
    {
     "data": {
      "text/html": [
       "<div id=\"3ec7cbf6-4cdd-11e8-955e-600308a8611a\"/>"
      ]
     },
     "metadata": {},
     "output_type": "display_data"
    },
    {
     "data": {
      "application/javascript": [
       "\n",
       "var ctx = function()                                  {\n",
       "var whenAvailable = function(name,                                     callback) {\n",
       "\tvar interval = 10; // ms\n",
       "\twindow.setTimeout(function() {\n",
       "\tif (window[name]) {\n",
       "\t\tcallback();\n",
       "\t} else {\n",
       "\t\twindow.setTimeout(arguments.callee,                                     interval);\n",
       "\t}\n",
       "}, interval);\n",
       "}\n",
       "\n",
       "var katex_try = function(s, el) {\n",
       "\t try {\t\twindow.katex.render(s, el);\n",
       "} catch(err) {\n",
       "\t\t el.innerHTML = s;\n",
       "\t}\n",
       "}\n",
       "var render_katex = function(id) { \n",
       "\tvar parent = document.getElementById(id);\n",
       "\tvar newChild = document.createElement('span');\n",
       "katex_try(\"\\\\mathcal{V}:=\\\\bigcap_{i\\\\in\\\\Lambda}\\\\mathcal{W}_i\\\\mbox{and}\\\\mathcal{V}':=\\\\bigcap_{i\\\\in\\\\Lambda}\\\\mathcal {W}_i'\\n\", newChild);\n",
       "parent.appendChild(newChild);\n",
       "}\n",
       "whenAvailable(\"katex\", function(){render_katex(\"3ec7cbf6-4cdd-11e8-955e-600308a8611a\");});\n",
       "}\n",
       "ctx();\n"
      ]
     },
     "metadata": {},
     "output_type": "display_data"
    },
    {
     "name": "stdout",
     "output_type": "stream",
     "text": [
      "finding: \\mathcal\n",
      "found: \\mathcal\n",
      "finding: \\bigcap\n",
      "found: \\bigcap\n",
      "finding: \\in\n",
      "found: \\in\n",
      "finding: \\Lambda\n",
      "found: \\Lambda\n",
      "finding: \\mathcal\n",
      "found: \\mathcal\n",
      "finding: \\mbox\n",
      "found: \\mbox\n",
      "finding: \\mathcal\n",
      "found: \\mathcal\n",
      "finding: \\bigcap\n",
      "found: \\bigcap\n",
      "finding: \\in\n",
      "found: \\in\n",
      "finding: \\Lambda\n",
      "found: \\Lambda\n",
      "finding: \\mathcal\n",
      "found: \\mathcal\n",
      "fixed2\n",
      "\\mathcal{V}:=\\bigcap_{i\\in\\Lambda}\\mathcal{W}_i\\mbox{and}\\mathcal{V}':=\\bigcap_{i\\in\\Lambda}\\mathcal {W}_i'\n",
      "\n",
      "['\\\\bigcap', '_', '{', 'i', '\\\\in', '\\\\Lambda', '}', '\\\\mathcal', '{', 'W', '}', '_', 'i', '\\\\mbox', '{', 'a', 'n', 'd', '}', '\\\\mathcal', '{', 'V', '}', \"'\", ':']\n"
     ]
    },
    {
     "data": {
      "text/html": [
       "<div id=\"3ec8496e-4cdd-11e8-9136-600308a8611a\"/>"
      ]
     },
     "metadata": {},
     "output_type": "display_data"
    },
    {
     "data": {
      "application/javascript": [
       "\n",
       "var ctx = function()                                  {\n",
       "var whenAvailable = function(name,                                     callback) {\n",
       "\tvar interval = 10; // ms\n",
       "\twindow.setTimeout(function() {\n",
       "\tif (window[name]) {\n",
       "\t\tcallback();\n",
       "\t} else {\n",
       "\t\twindow.setTimeout(arguments.callee,                                     interval);\n",
       "\t}\n",
       "}, interval);\n",
       "}\n",
       "\n",
       "var katex_try = function(s, el) {\n",
       "\t try {\t\twindow.katex.render(s, el);\n",
       "} catch(err) {\n",
       "\t\t el.innerHTML = s;\n",
       "\t}\n",
       "}\n",
       "var render_katex = function(id) { \n",
       "\tvar parent = document.getElementById(id);\n",
       "\tvar newChild = document.createElement('span');\n",
       "katex_try(\"\\\\bigcap _ { i \\\\in \\\\Lambda } \\\\mathcal { W } _ i \\\\mbox { a n d } \\\\mathcal { V } ' :\", newChild);\n",
       "parent.appendChild(newChild);\n",
       "}\n",
       "whenAvailable(\"katex\", function(){render_katex(\"3ec8496e-4cdd-11e8-9136-600308a8611a\");});\n",
       "}\n",
       "ctx();\n"
      ]
     },
     "metadata": {},
     "output_type": "display_data"
    },
    {
     "name": "stdout",
     "output_type": "stream",
     "text": [
      "['\\\\bigcap', '_', '{', 'i', '\\\\in', '\\\\Lambda', '}', '\\\\mathcal', '{', 'W', '}', '_', 'i', \"'\"]\n"
     ]
    },
    {
     "data": {
      "text/html": [
       "<div id=\"3ec92208-4cdd-11e8-b30a-600308a8611a\"/>"
      ]
     },
     "metadata": {},
     "output_type": "display_data"
    },
    {
     "data": {
      "application/javascript": [
       "\n",
       "var ctx = function()                                  {\n",
       "var whenAvailable = function(name,                                     callback) {\n",
       "\tvar interval = 10; // ms\n",
       "\twindow.setTimeout(function() {\n",
       "\tif (window[name]) {\n",
       "\t\tcallback();\n",
       "\t} else {\n",
       "\t\twindow.setTimeout(arguments.callee,                                     interval);\n",
       "\t}\n",
       "}, interval);\n",
       "}\n",
       "\n",
       "var katex_try = function(s, el) {\n",
       "\t try {\t\twindow.katex.render(s, el);\n",
       "} catch(err) {\n",
       "\t\t el.innerHTML = s;\n",
       "\t}\n",
       "}\n",
       "var render_katex = function(id) { \n",
       "\tvar parent = document.getElementById(id);\n",
       "\tvar newChild = document.createElement('span');\n",
       "katex_try(\"\\\\bigcap _ { i \\\\in \\\\Lambda } \\\\mathcal { W } _ i '\", newChild);\n",
       "parent.appendChild(newChild);\n",
       "}\n",
       "whenAvailable(\"katex\", function(){render_katex(\"3ec92208-4cdd-11e8-b30a-600308a8611a\");});\n",
       "}\n",
       "ctx();\n"
      ]
     },
     "metadata": {},
     "output_type": "display_data"
    },
    {
     "name": "stdout",
     "output_type": "stream",
     "text": [
      "\n",
      "new\n",
      "\n",
      "\\big({\\mathbf{z}}[{\\vec{\\mathrmx}}]\\big)_\\kappa=\\frac{\\delta}{x_{{\\kappa+\\frac12}}-x_{{\\kappa-\\frac12}}}=\\frac1{[{\\operatorname{D}_\\delta}^1{\\vec{\\mathrmx}}]_\\kappa}\\text{for}\\kappa=\\frac12,\\frac32,\\ldots,K-\\frac12,\n",
      "\n",
      "\\big({\\mathbf{z}}[{\\vec{\\mathrm x}}]\\big)_\\kappa=\\frac{\\delta}{x_{{\\kappa+\\frac12}}-x_{{\\kappa-\\frac12}}}=\\frac1{[{\\operatorname{D}_\\delta}^1{\\vec{\\mathrm x}}]_\\kappa}\\text{for}\\kappa=\\frac12,\\frac32,\\ldots,K-\\frac 12,\n",
      "\n"
     ]
    },
    {
     "data": {
      "text/html": [
       "<div id=\"3eca7d38-4cdd-11e8-890a-600308a8611a\"/>"
      ]
     },
     "metadata": {},
     "output_type": "display_data"
    },
    {
     "data": {
      "application/javascript": [
       "\n",
       "var ctx = function()                                  {\n",
       "var whenAvailable = function(name,                                     callback) {\n",
       "\tvar interval = 10; // ms\n",
       "\twindow.setTimeout(function() {\n",
       "\tif (window[name]) {\n",
       "\t\tcallback();\n",
       "\t} else {\n",
       "\t\twindow.setTimeout(arguments.callee,                                     interval);\n",
       "\t}\n",
       "}, interval);\n",
       "}\n",
       "\n",
       "var katex_try = function(s, el) {\n",
       "\t try {\t\twindow.katex.render(s, el);\n",
       "} catch(err) {\n",
       "\t\t el.innerHTML = s;\n",
       "\t}\n",
       "}\n",
       "var render_katex = function(id) { \n",
       "\tvar parent = document.getElementById(id);\n",
       "\tvar newChild = document.createElement('span');\n",
       "katex_try(\"\\\\big({\\\\mathbf{z}}[{\\\\vec{\\\\mathrm x}}]\\\\big)_\\\\kappa=\\\\frac{\\\\delta}{x_{{\\\\kappa+\\\\frac12}}-x_{{\\\\kappa-\\\\frac12}}}=\\\\frac1{[{\\\\operatorname{D}_\\\\delta}^1{\\\\vec{\\\\mathrm x}}]_\\\\kappa}\\\\text{for}\\\\kappa=\\\\frac12,\\\\frac32,\\\\ldots,K-\\\\frac 12,\\n\", newChild);\n",
       "parent.appendChild(newChild);\n",
       "}\n",
       "whenAvailable(\"katex\", function(){render_katex(\"3eca7d38-4cdd-11e8-890a-600308a8611a\");});\n",
       "}\n",
       "ctx();\n"
      ]
     },
     "metadata": {},
     "output_type": "display_data"
    },
    {
     "name": "stdout",
     "output_type": "stream",
     "text": [
      "finding: \\big\n",
      "found: \\big\n",
      "finding: \\mathbf\n",
      "found: \\mathbf\n",
      "finding: \\vec\n",
      "found: \\vec\n",
      "finding: \\mathrmx\n",
      "found: \\mathrm x\n",
      "finding: \\big\n",
      "found: \\big\n",
      "finding: \\kappa\n",
      "found: \\kappa\n",
      "finding: \\frac\n",
      "found: \\frac\n",
      "finding: \\delta\n",
      "found: \\delta\n",
      "finding: \\kappa\n",
      "found: \\kappa\n",
      "finding: \\frac\n",
      "found: \\frac\n",
      "finding: \\kappa\n",
      "found: \\kappa\n",
      "finding: \\frac\n",
      "found: \\frac\n",
      "finding: \\frac\n",
      "found: \\frac\n",
      "finding: \\operatorname\n",
      "found: \\operatorname\n",
      "finding: \\delta\n",
      "found: \\delta\n",
      "finding: \\vec\n",
      "found: \\vec\n",
      "finding: \\mathrmx\n",
      "found: \\mathrm x\n",
      "finding: \\kappa\n",
      "found: \\kappa\n",
      "finding: \\text\n",
      "found: \\text\n",
      "finding: \\kappa\n",
      "found: \\kappa\n",
      "finding: \\frac\n",
      "found: \\frac\n",
      "finding: \\frac\n",
      "found: \\frac\n",
      "finding: \\ldots\n",
      "found: \\ldots\n",
      "finding: \\frac\n",
      "found: \\frac\n",
      "fixed2\n",
      "\\big({\\mathbf{z}}[{\\vec{\\mathrm x}}]\\big)_\\kappa=\\frac{\\delta}{x_{{\\kappa+\\frac12}}-x_{{\\kappa-\\frac12}}}=\\frac1{[{\\operatorname{D}_\\delta}^1{\\vec{\\mathrm x}}]_\\kappa}\\text{for}\\kappa=\\frac12,\\frac32,\\ldots,K-\\frac 12,\n",
      "\n",
      "['\\\\frac', '{', '\\\\delta', '}', '{', 'x', '_', '{', '{', '\\\\kappa', '+', '\\\\frac', '12', '}', '}', '-', 'x', '_', '{', '{', '\\\\kappa', '-', '\\\\frac', '12', '}', '}', '}']\n"
     ]
    },
    {
     "data": {
      "text/html": [
       "<div id=\"3ecb2846-4cdd-11e8-8ce2-600308a8611a\"/>"
      ]
     },
     "metadata": {},
     "output_type": "display_data"
    },
    {
     "data": {
      "application/javascript": [
       "\n",
       "var ctx = function()                                  {\n",
       "var whenAvailable = function(name,                                     callback) {\n",
       "\tvar interval = 10; // ms\n",
       "\twindow.setTimeout(function() {\n",
       "\tif (window[name]) {\n",
       "\t\tcallback();\n",
       "\t} else {\n",
       "\t\twindow.setTimeout(arguments.callee,                                     interval);\n",
       "\t}\n",
       "}, interval);\n",
       "}\n",
       "\n",
       "var katex_try = function(s, el) {\n",
       "\t try {\t\twindow.katex.render(s, el);\n",
       "} catch(err) {\n",
       "\t\t el.innerHTML = s;\n",
       "\t}\n",
       "}\n",
       "var render_katex = function(id) { \n",
       "\tvar parent = document.getElementById(id);\n",
       "\tvar newChild = document.createElement('span');\n",
       "katex_try(\"\\\\frac { \\\\delta } { x _ { { \\\\kappa + \\\\frac 12 } } - x _ { { \\\\kappa - \\\\frac 12 } } }\", newChild);\n",
       "parent.appendChild(newChild);\n",
       "}\n",
       "whenAvailable(\"katex\", function(){render_katex(\"3ecb2846-4cdd-11e8-8ce2-600308a8611a\");});\n",
       "}\n",
       "ctx();\n"
      ]
     },
     "metadata": {},
     "output_type": "display_data"
    },
    {
     "name": "stdout",
     "output_type": "stream",
     "text": [
      "['\\\\frac', '1', '{', '[', '{', '\\\\operatorname', '{', 'D', '}', '_', '\\\\delta', '}', '^', '1', '{', '\\\\vec', '{', '\\\\mathrm', 'x', '}', '}', ']', '_', '\\\\kappa', '}', '\\\\text', '{', 'f', 'o', 'r', '}', '\\\\kappa']\n"
     ]
    },
    {
     "data": {
      "text/html": [
       "<div id=\"3ecc0bc6-4cdd-11e8-bfb4-600308a8611a\"/>"
      ]
     },
     "metadata": {},
     "output_type": "display_data"
    },
    {
     "data": {
      "application/javascript": [
       "\n",
       "var ctx = function()                                  {\n",
       "var whenAvailable = function(name,                                     callback) {\n",
       "\tvar interval = 10; // ms\n",
       "\twindow.setTimeout(function() {\n",
       "\tif (window[name]) {\n",
       "\t\tcallback();\n",
       "\t} else {\n",
       "\t\twindow.setTimeout(arguments.callee,                                     interval);\n",
       "\t}\n",
       "}, interval);\n",
       "}\n",
       "\n",
       "var katex_try = function(s, el) {\n",
       "\t try {\t\twindow.katex.render(s, el);\n",
       "} catch(err) {\n",
       "\t\t el.innerHTML = s;\n",
       "\t}\n",
       "}\n",
       "var render_katex = function(id) { \n",
       "\tvar parent = document.getElementById(id);\n",
       "\tvar newChild = document.createElement('span');\n",
       "katex_try(\"\\\\frac 1 { [ { \\\\operatorname { D } _ \\\\delta } ^ 1 { \\\\vec { \\\\mathrm x } } ] _ \\\\kappa } \\\\text { f o r } \\\\kappa\", newChild);\n",
       "parent.appendChild(newChild);\n",
       "}\n",
       "whenAvailable(\"katex\", function(){render_katex(\"3ecc0bc6-4cdd-11e8-bfb4-600308a8611a\");});\n",
       "}\n",
       "ctx();\n"
      ]
     },
     "metadata": {},
     "output_type": "display_data"
    },
    {
     "name": "stdout",
     "output_type": "stream",
     "text": [
      "['\\\\frac', '12']\n"
     ]
    },
    {
     "data": {
      "text/html": [
       "<div id=\"3ecc726e-4cdd-11e8-a050-600308a8611a\"/>"
      ]
     },
     "metadata": {},
     "output_type": "display_data"
    },
    {
     "data": {
      "application/javascript": [
       "\n",
       "var ctx = function()                                  {\n",
       "var whenAvailable = function(name,                                     callback) {\n",
       "\tvar interval = 10; // ms\n",
       "\twindow.setTimeout(function() {\n",
       "\tif (window[name]) {\n",
       "\t\tcallback();\n",
       "\t} else {\n",
       "\t\twindow.setTimeout(arguments.callee,                                     interval);\n",
       "\t}\n",
       "}, interval);\n",
       "}\n",
       "\n",
       "var katex_try = function(s, el) {\n",
       "\t try {\t\twindow.katex.render(s, el);\n",
       "} catch(err) {\n",
       "\t\t el.innerHTML = s;\n",
       "\t}\n",
       "}\n",
       "var render_katex = function(id) { \n",
       "\tvar parent = document.getElementById(id);\n",
       "\tvar newChild = document.createElement('span');\n",
       "katex_try(\"\\\\frac 12\", newChild);\n",
       "parent.appendChild(newChild);\n",
       "}\n",
       "whenAvailable(\"katex\", function(){render_katex(\"3ecc726e-4cdd-11e8-a050-600308a8611a\");});\n",
       "}\n",
       "ctx();\n"
      ]
     },
     "metadata": {},
     "output_type": "display_data"
    },
    {
     "name": "stdout",
     "output_type": "stream",
     "text": [
      "\n",
      "new\n",
      "\n",
      "\\int_{-\\infty}^\\infty\\text{d}x\\,\\text{e}^{-x^2}=\\;h+2h\\sum_{m=1}^{M}\\text{e}^{-(mh)^2}\n",
      "\n",
      "\\int_{-\\infty}^\\infty\\text{d}x{d}x\\,\\text{e}^{-x^2}={e}^{-x^2}=\\;h+2h\\sum_{m=1}^{M}\\text {e}^{-(mh)^2}\n",
      "\n"
     ]
    },
    {
     "data": {
      "text/html": [
       "<div id=\"3ed3b754-4cdd-11e8-95bb-600308a8611a\"/>"
      ]
     },
     "metadata": {},
     "output_type": "display_data"
    },
    {
     "data": {
      "application/javascript": [
       "\n",
       "var ctx = function()                                  {\n",
       "var whenAvailable = function(name,                                     callback) {\n",
       "\tvar interval = 10; // ms\n",
       "\twindow.setTimeout(function() {\n",
       "\tif (window[name]) {\n",
       "\t\tcallback();\n",
       "\t} else {\n",
       "\t\twindow.setTimeout(arguments.callee,                                     interval);\n",
       "\t}\n",
       "}, interval);\n",
       "}\n",
       "\n",
       "var katex_try = function(s, el) {\n",
       "\t try {\t\twindow.katex.render(s, el);\n",
       "} catch(err) {\n",
       "\t\t el.innerHTML = s;\n",
       "\t}\n",
       "}\n",
       "var render_katex = function(id) { \n",
       "\tvar parent = document.getElementById(id);\n",
       "\tvar newChild = document.createElement('span');\n",
       "katex_try(\"\\\\int_{-\\\\infty}^\\\\infty\\\\text{d}x{d}x\\\\,\\\\text{e}^{-x^2}={e}^{-x^2}=\\\\;h+2h\\\\sum_{m=1}^{M}\\\\text {e}^{-(mh)^2}\\n\", newChild);\n",
       "parent.appendChild(newChild);\n",
       "}\n",
       "whenAvailable(\"katex\", function(){render_katex(\"3ed3b754-4cdd-11e8-95bb-600308a8611a\");});\n",
       "}\n",
       "ctx();\n"
      ]
     },
     "metadata": {},
     "output_type": "display_data"
    },
    {
     "name": "stdout",
     "output_type": "stream",
     "text": [
      "finding: \\int\n",
      "found: \\int\n",
      "finding: \\infty\n",
      "found: \\infty\n",
      "finding: \\infty\n",
      "found: \\infty\n",
      "finding: \\text\n",
      "found: \\text\n",
      "finding: \\text\n",
      "found: \\text\n",
      "finding: \\sum\n",
      "found: \\sum\n",
      "finding: \\text\n",
      "found: \\text\n",
      "fixed2\n",
      "\\int_{-\\infty}^\\infty\\text{d}x{d}x\\,\\text{e}^{-x^2}={e}^{-x^2}=\\;h+2h\\sum_{m=1}^{M}\\text {e}^{-(mh)^2}\n",
      "\n",
      "['\\\\int', '_', '{', '-', '\\\\infty', '}', '^', '\\\\infty', '\\\\text', '{', 'd', '}', 'x', '{', 'd', '}', 'x', '\\\\,', '\\\\text', '{', 'e', '}', '^', '{', '-', 'x', '^', '2', '}']\n"
     ]
    },
    {
     "data": {
      "text/html": [
       "<div id=\"3ed43080-4cdd-11e8-8e3c-600308a8611a\"/>"
      ]
     },
     "metadata": {},
     "output_type": "display_data"
    },
    {
     "data": {
      "application/javascript": [
       "\n",
       "var ctx = function()                                  {\n",
       "var whenAvailable = function(name,                                     callback) {\n",
       "\tvar interval = 10; // ms\n",
       "\twindow.setTimeout(function() {\n",
       "\tif (window[name]) {\n",
       "\t\tcallback();\n",
       "\t} else {\n",
       "\t\twindow.setTimeout(arguments.callee,                                     interval);\n",
       "\t}\n",
       "}, interval);\n",
       "}\n",
       "\n",
       "var katex_try = function(s, el) {\n",
       "\t try {\t\twindow.katex.render(s, el);\n",
       "} catch(err) {\n",
       "\t\t el.innerHTML = s;\n",
       "\t}\n",
       "}\n",
       "var render_katex = function(id) { \n",
       "\tvar parent = document.getElementById(id);\n",
       "\tvar newChild = document.createElement('span');\n",
       "katex_try(\"\\\\int _ { - \\\\infty } ^ \\\\infty \\\\text { d } x { d } x \\\\, \\\\text { e } ^ { - x ^ 2 }\", newChild);\n",
       "parent.appendChild(newChild);\n",
       "}\n",
       "whenAvailable(\"katex\", function(){render_katex(\"3ed43080-4cdd-11e8-8e3c-600308a8611a\");});\n",
       "}\n",
       "ctx();\n"
      ]
     },
     "metadata": {},
     "output_type": "display_data"
    },
    {
     "name": "stdout",
     "output_type": "stream",
     "text": [
      "['\\\\;', 'h', '+', '2', 'h', '\\\\sum', '_', '{', 'm', '=', '1', '}', '^', '{', 'M', '}', '\\\\text', '{', 'e', '}', '^', '{', '-', '(', 'm', 'h', ')', '^', '2', '}']\n"
     ]
    },
    {
     "data": {
      "text/html": [
       "<div id=\"3ed4b6f4-4cdd-11e8-9d07-600308a8611a\"/>"
      ]
     },
     "metadata": {},
     "output_type": "display_data"
    },
    {
     "data": {
      "application/javascript": [
       "\n",
       "var ctx = function()                                  {\n",
       "var whenAvailable = function(name,                                     callback) {\n",
       "\tvar interval = 10; // ms\n",
       "\twindow.setTimeout(function() {\n",
       "\tif (window[name]) {\n",
       "\t\tcallback();\n",
       "\t} else {\n",
       "\t\twindow.setTimeout(arguments.callee,                                     interval);\n",
       "\t}\n",
       "}, interval);\n",
       "}\n",
       "\n",
       "var katex_try = function(s, el) {\n",
       "\t try {\t\twindow.katex.render(s, el);\n",
       "} catch(err) {\n",
       "\t\t el.innerHTML = s;\n",
       "\t}\n",
       "}\n",
       "var render_katex = function(id) { \n",
       "\tvar parent = document.getElementById(id);\n",
       "\tvar newChild = document.createElement('span');\n",
       "katex_try(\"\\\\; h + 2 h \\\\sum _ { m = 1 } ^ { M } \\\\text { e } ^ { - ( m h ) ^ 2 }\", newChild);\n",
       "parent.appendChild(newChild);\n",
       "}\n",
       "whenAvailable(\"katex\", function(){render_katex(\"3ed4b6f4-4cdd-11e8-9d07-600308a8611a\");});\n",
       "}\n",
       "ctx();\n"
      ]
     },
     "metadata": {},
     "output_type": "display_data"
    },
    {
     "name": "stdout",
     "output_type": "stream",
     "text": [
      "\n",
      "new\n",
      "\n",
      "\n",
      "\\frac{1}{ab}=\\int^1_0 \\frac{dz}{[az+b(1-z)]^2},\n",
      "\n",
      "\n",
      "\n",
      "\\frac{1}{ab}=\\int^1_0 \\frac {dz}{[az+b(1-z)]^2},\n",
      "\n",
      "\n"
     ]
    },
    {
     "data": {
      "text/html": [
       "<div id=\"3ed6ae78-4cdd-11e8-97e0-600308a8611a\"/>"
      ]
     },
     "metadata": {},
     "output_type": "display_data"
    },
    {
     "data": {
      "application/javascript": [
       "\n",
       "var ctx = function()                                  {\n",
       "var whenAvailable = function(name,                                     callback) {\n",
       "\tvar interval = 10; // ms\n",
       "\twindow.setTimeout(function() {\n",
       "\tif (window[name]) {\n",
       "\t\tcallback();\n",
       "\t} else {\n",
       "\t\twindow.setTimeout(arguments.callee,                                     interval);\n",
       "\t}\n",
       "}, interval);\n",
       "}\n",
       "\n",
       "var katex_try = function(s, el) {\n",
       "\t try {\t\twindow.katex.render(s, el);\n",
       "} catch(err) {\n",
       "\t\t el.innerHTML = s;\n",
       "\t}\n",
       "}\n",
       "var render_katex = function(id) { \n",
       "\tvar parent = document.getElementById(id);\n",
       "\tvar newChild = document.createElement('span');\n",
       "katex_try(\"\\n\\\\frac{1}{ab}=\\\\int^1_0 \\\\frac {dz}{[az+b(1-z)]^2},\\n\\n\", newChild);\n",
       "parent.appendChild(newChild);\n",
       "}\n",
       "whenAvailable(\"katex\", function(){render_katex(\"3ed6ae78-4cdd-11e8-97e0-600308a8611a\");});\n",
       "}\n",
       "ctx();\n"
      ]
     },
     "metadata": {},
     "output_type": "display_data"
    },
    {
     "name": "stdout",
     "output_type": "stream",
     "text": [
      "finding: \\frac\n",
      "found: \\frac\n",
      "finding: \\int\n",
      "found: \\int\n",
      "finding: \\frac\n",
      "found: \\frac\n",
      "fixed2\n",
      "\n",
      "\\frac{1}{ab}=\\int^1_0 \\frac {dz}{[az+b(1-z)]^2},\n",
      "\n",
      "\n",
      "['\\\\frac', '{', '1', '}', '{', 'a', 'b', '}']\n"
     ]
    },
    {
     "data": {
      "text/html": [
       "<div id=\"3ed71e1c-4cdd-11e8-aad4-600308a8611a\"/>"
      ]
     },
     "metadata": {},
     "output_type": "display_data"
    },
    {
     "data": {
      "application/javascript": [
       "\n",
       "var ctx = function()                                  {\n",
       "var whenAvailable = function(name,                                     callback) {\n",
       "\tvar interval = 10; // ms\n",
       "\twindow.setTimeout(function() {\n",
       "\tif (window[name]) {\n",
       "\t\tcallback();\n",
       "\t} else {\n",
       "\t\twindow.setTimeout(arguments.callee,                                     interval);\n",
       "\t}\n",
       "}, interval);\n",
       "}\n",
       "\n",
       "var katex_try = function(s, el) {\n",
       "\t try {\t\twindow.katex.render(s, el);\n",
       "} catch(err) {\n",
       "\t\t el.innerHTML = s;\n",
       "\t}\n",
       "}\n",
       "var render_katex = function(id) { \n",
       "\tvar parent = document.getElementById(id);\n",
       "\tvar newChild = document.createElement('span');\n",
       "katex_try(\"\\\\frac { 1 } { a b }\", newChild);\n",
       "parent.appendChild(newChild);\n",
       "}\n",
       "whenAvailable(\"katex\", function(){render_katex(\"3ed71e1c-4cdd-11e8-aad4-600308a8611a\");});\n",
       "}\n",
       "ctx();\n"
      ]
     },
     "metadata": {},
     "output_type": "display_data"
    },
    {
     "name": "stdout",
     "output_type": "stream",
     "text": [
      "['\\\\int', '^', '1', '_', '0', '\\\\frac', '{', 'd', 'z', '}', '{', '[', 'a', 'z', '+', 'b', '(', '1', '-', 'z', ')', ']', '^', '2', '}']\n"
     ]
    },
    {
     "data": {
      "text/html": [
       "<div id=\"3ed79478-4cdd-11e8-a0ea-600308a8611a\"/>"
      ]
     },
     "metadata": {},
     "output_type": "display_data"
    },
    {
     "data": {
      "application/javascript": [
       "\n",
       "var ctx = function()                                  {\n",
       "var whenAvailable = function(name,                                     callback) {\n",
       "\tvar interval = 10; // ms\n",
       "\twindow.setTimeout(function() {\n",
       "\tif (window[name]) {\n",
       "\t\tcallback();\n",
       "\t} else {\n",
       "\t\twindow.setTimeout(arguments.callee,                                     interval);\n",
       "\t}\n",
       "}, interval);\n",
       "}\n",
       "\n",
       "var katex_try = function(s, el) {\n",
       "\t try {\t\twindow.katex.render(s, el);\n",
       "} catch(err) {\n",
       "\t\t el.innerHTML = s;\n",
       "\t}\n",
       "}\n",
       "var render_katex = function(id) { \n",
       "\tvar parent = document.getElementById(id);\n",
       "\tvar newChild = document.createElement('span');\n",
       "katex_try(\"\\\\int ^ 1 _ 0 \\\\frac { d z } { [ a z + b ( 1 - z ) ] ^ 2 }\", newChild);\n",
       "parent.appendChild(newChild);\n",
       "}\n",
       "whenAvailable(\"katex\", function(){render_katex(\"3ed79478-4cdd-11e8-a0ea-600308a8611a\");});\n",
       "}\n",
       "ctx();\n"
      ]
     },
     "metadata": {},
     "output_type": "display_data"
    },
    {
     "name": "stdout",
     "output_type": "stream",
     "text": [
      "\n",
      "new\n",
      "\n",
      "b_1(u) = \\frac{1 - u q^{1/2} }{1 - u q^{-1/2}} \\mbox{ and }b_2(u) = \\frac{ -uq^{-1/2}+ q^{-1}}{ 1 - uq^{-1/2}}.\n",
      "\n",
      "b_1(u) = \\frac{1 - u q^{1/2} }{1 - u q^{-1/2}} \\mbox{ and }b_2(u) = \\frac { -uq^{-1/2}+ q^{-1}}{ 1 - uq^{-1/2}}.\n",
      "\n"
     ]
    },
    {
     "data": {
      "text/html": [
       "<div id=\"3ed8e9ae-4cdd-11e8-af0d-600308a8611a\"/>"
      ]
     },
     "metadata": {},
     "output_type": "display_data"
    },
    {
     "data": {
      "application/javascript": [
       "\n",
       "var ctx = function()                                  {\n",
       "var whenAvailable = function(name,                                     callback) {\n",
       "\tvar interval = 10; // ms\n",
       "\twindow.setTimeout(function() {\n",
       "\tif (window[name]) {\n",
       "\t\tcallback();\n",
       "\t} else {\n",
       "\t\twindow.setTimeout(arguments.callee,                                     interval);\n",
       "\t}\n",
       "}, interval);\n",
       "}\n",
       "\n",
       "var katex_try = function(s, el) {\n",
       "\t try {\t\twindow.katex.render(s, el);\n",
       "} catch(err) {\n",
       "\t\t el.innerHTML = s;\n",
       "\t}\n",
       "}\n",
       "var render_katex = function(id) { \n",
       "\tvar parent = document.getElementById(id);\n",
       "\tvar newChild = document.createElement('span');\n",
       "katex_try(\"b_1(u) = \\\\frac{1 - u q^{1/2} }{1 - u q^{-1/2}} \\\\mbox{ and }b_2(u) = \\\\frac { -uq^{-1/2}+ q^{-1}}{ 1 - uq^{-1/2}}.\\n\", newChild);\n",
       "parent.appendChild(newChild);\n",
       "}\n",
       "whenAvailable(\"katex\", function(){render_katex(\"3ed8e9ae-4cdd-11e8-af0d-600308a8611a\");});\n",
       "}\n",
       "ctx();\n"
      ]
     },
     "metadata": {},
     "output_type": "display_data"
    },
    {
     "name": "stdout",
     "output_type": "stream",
     "text": [
      "finding: \\frac\n",
      "found: \\frac\n",
      "finding: \\mbox\n",
      "found: \\mbox\n",
      "finding: \\frac\n",
      "found: \\frac\n",
      "fixed2\n",
      "b_1(u) = \\frac{1 - u q^{1/2} }{1 - u q^{-1/2}} \\mbox{ and }b_2(u) = \\frac { -uq^{-1/2}+ q^{-1}}{ 1 - uq^{-1/2}}.\n",
      "\n",
      "['\\\\frac', '{', '1', '-', 'u', 'q', '^', '{', '1', '/', '2', '}', '}', '{', '1', '-', 'u', 'q', '^', '{', '-', '1', '/', '2', '}', '}', '\\\\mbox', '{', 'a', 'n', 'd', '}', 'b', '_', '2', '(', 'u', ')']\n"
     ]
    },
    {
     "data": {
      "text/html": [
       "<div id=\"3ed96690-4cdd-11e8-a03c-600308a8611a\"/>"
      ]
     },
     "metadata": {},
     "output_type": "display_data"
    },
    {
     "data": {
      "application/javascript": [
       "\n",
       "var ctx = function()                                  {\n",
       "var whenAvailable = function(name,                                     callback) {\n",
       "\tvar interval = 10; // ms\n",
       "\twindow.setTimeout(function() {\n",
       "\tif (window[name]) {\n",
       "\t\tcallback();\n",
       "\t} else {\n",
       "\t\twindow.setTimeout(arguments.callee,                                     interval);\n",
       "\t}\n",
       "}, interval);\n",
       "}\n",
       "\n",
       "var katex_try = function(s, el) {\n",
       "\t try {\t\twindow.katex.render(s, el);\n",
       "} catch(err) {\n",
       "\t\t el.innerHTML = s;\n",
       "\t}\n",
       "}\n",
       "var render_katex = function(id) { \n",
       "\tvar parent = document.getElementById(id);\n",
       "\tvar newChild = document.createElement('span');\n",
       "katex_try(\"\\\\frac { 1 - u q ^ { 1 / 2 } } { 1 - u q ^ { - 1 / 2 } } \\\\mbox { a n d } b _ 2 ( u )\", newChild);\n",
       "parent.appendChild(newChild);\n",
       "}\n",
       "whenAvailable(\"katex\", function(){render_katex(\"3ed96690-4cdd-11e8-a03c-600308a8611a\");});\n",
       "}\n",
       "ctx();\n"
      ]
     },
     "metadata": {},
     "output_type": "display_data"
    },
    {
     "name": "stdout",
     "output_type": "stream",
     "text": [
      "['\\\\frac', '{', '-', 'u', 'q', '^', '{', '-', '1', '/', '2', '}', '+', 'q', '^', '{', '-', '1', '}', '}', '{', '1', '-', 'u', 'q', '^', '{', '-', '1', '/', '2', '}', '}', '.']\n"
     ]
    },
    {
     "data": {
      "text/html": [
       "<div id=\"3ed9dab4-4cdd-11e8-a85c-600308a8611a\"/>"
      ]
     },
     "metadata": {},
     "output_type": "display_data"
    },
    {
     "data": {
      "application/javascript": [
       "\n",
       "var ctx = function()                                  {\n",
       "var whenAvailable = function(name,                                     callback) {\n",
       "\tvar interval = 10; // ms\n",
       "\twindow.setTimeout(function() {\n",
       "\tif (window[name]) {\n",
       "\t\tcallback();\n",
       "\t} else {\n",
       "\t\twindow.setTimeout(arguments.callee,                                     interval);\n",
       "\t}\n",
       "}, interval);\n",
       "}\n",
       "\n",
       "var katex_try = function(s, el) {\n",
       "\t try {\t\twindow.katex.render(s, el);\n",
       "} catch(err) {\n",
       "\t\t el.innerHTML = s;\n",
       "\t}\n",
       "}\n",
       "var render_katex = function(id) { \n",
       "\tvar parent = document.getElementById(id);\n",
       "\tvar newChild = document.createElement('span');\n",
       "katex_try(\"\\\\frac { - u q ^ { - 1 / 2 } + q ^ { - 1 } } { 1 - u q ^ { - 1 / 2 } } .\", newChild);\n",
       "parent.appendChild(newChild);\n",
       "}\n",
       "whenAvailable(\"katex\", function(){render_katex(\"3ed9dab4-4cdd-11e8-a85c-600308a8611a\");});\n",
       "}\n",
       "ctx();\n"
      ]
     },
     "metadata": {},
     "output_type": "display_data"
    },
    {
     "name": "stdout",
     "output_type": "stream",
     "text": [
      "\n",
      "new\n",
      "\n",
      " p_c=\\dfrac{4(\\alpha+1)}{(2\\alpha+3)}\n",
      "\\text{and its conjugate  }p_c'=\\dfrac{4(\\alpha+1)}{(2\\alpha+1)}.\n",
      "\n",
      "\n",
      " p_c=\\dfrac{4(\\alpha+1)}{(2\\alpha+3)}\n",
      "\\text{and its conjugate  }p_c'=\\dfrac{4(\\alpha+1)}{(2\\alpha +1)}.\n",
      "\n",
      "\n"
     ]
    },
    {
     "data": {
      "text/html": [
       "<div id=\"3edf3e8a-4cdd-11e8-9ced-600308a8611a\"/>"
      ]
     },
     "metadata": {},
     "output_type": "display_data"
    },
    {
     "data": {
      "application/javascript": [
       "\n",
       "var ctx = function()                                  {\n",
       "var whenAvailable = function(name,                                     callback) {\n",
       "\tvar interval = 10; // ms\n",
       "\twindow.setTimeout(function() {\n",
       "\tif (window[name]) {\n",
       "\t\tcallback();\n",
       "\t} else {\n",
       "\t\twindow.setTimeout(arguments.callee,                                     interval);\n",
       "\t}\n",
       "}, interval);\n",
       "}\n",
       "\n",
       "var katex_try = function(s, el) {\n",
       "\t try {\t\twindow.katex.render(s, el);\n",
       "} catch(err) {\n",
       "\t\t el.innerHTML = s;\n",
       "\t}\n",
       "}\n",
       "var render_katex = function(id) { \n",
       "\tvar parent = document.getElementById(id);\n",
       "\tvar newChild = document.createElement('span');\n",
       "katex_try(\" p_c=\\\\dfrac{4(\\\\alpha+1)}{(2\\\\alpha+3)}\\n\\\\text{and its conjugate  }p_c'=\\\\dfrac{4(\\\\alpha+1)}{(2\\\\alpha +1)}.\\n\\n\", newChild);\n",
       "parent.appendChild(newChild);\n",
       "}\n",
       "whenAvailable(\"katex\", function(){render_katex(\"3edf3e8a-4cdd-11e8-9ced-600308a8611a\");});\n",
       "}\n",
       "ctx();\n"
      ]
     },
     "metadata": {},
     "output_type": "display_data"
    },
    {
     "name": "stdout",
     "output_type": "stream",
     "text": [
      "finding: \\dfrac\n",
      "found: \\dfrac\n",
      "finding: \\alpha\n",
      "found: \\alpha\n",
      "finding: \\alpha\n",
      "found: \\alpha\n",
      "finding: \\text\n",
      "found: \\text\n",
      "finding: \\dfrac\n",
      "found: \\dfrac\n",
      "finding: \\alpha\n",
      "found: \\alpha\n",
      "finding: \\alpha\n",
      "found: \\alpha\n",
      "fixed2\n",
      " p_c=\\dfrac{4(\\alpha+1)}{(2\\alpha+3)}\n",
      "\\text{and its conjugate  }p_c'=\\dfrac{4(\\alpha+1)}{(2\\alpha +1)}.\n",
      "\n",
      "\n"
     ]
    },
    {
     "ename": "NameError",
     "evalue": "name 'GetOutOfLoop' is not defined",
     "output_type": "error",
     "traceback": [
      "\u001b[0;31m---------------------------------------------------------------------------\u001b[0m",
      "\u001b[0;31mNameError\u001b[0m                                 Traceback (most recent call last)",
      "\u001b[0;32m<ipython-input-20-72504f3cbb4f>\u001b[0m in \u001b[0;36m<module>\u001b[0;34m()\u001b[0m\n\u001b[1;32m     42\u001b[0m                         \u001b[0mprint\u001b[0m\u001b[0;34m(\u001b[0m\u001b[0mfixed2\u001b[0m\u001b[0;34m)\u001b[0m\u001b[0;34m\u001b[0m\u001b[0m\n\u001b[1;32m     43\u001b[0m                     \u001b[0;32mif\u001b[0m \u001b[0mfound\u001b[0m \u001b[0;34m>\u001b[0m \u001b[0;36m40\u001b[0m\u001b[0;34m:\u001b[0m\u001b[0;34m\u001b[0m\u001b[0m\n\u001b[0;32m---> 44\u001b[0;31m                         \u001b[0;32mraise\u001b[0m \u001b[0mGetOutOfLoop\u001b[0m\u001b[0;34m\u001b[0m\u001b[0m\n\u001b[0m\u001b[1;32m     45\u001b[0m                     \u001b[0;32mfor\u001b[0m \u001b[0ms\u001b[0m \u001b[0;32min\u001b[0m \u001b[0msuit\u001b[0m\u001b[0;34m:\u001b[0m\u001b[0;34m\u001b[0m\u001b[0m\n\u001b[1;32m     46\u001b[0m                         \u001b[0;32mif\u001b[0m \u001b[0mfound\u001b[0m \u001b[0;34m>\u001b[0m \u001b[0;36m32\u001b[0m\u001b[0;34m:\u001b[0m\u001b[0;34m\u001b[0m\u001b[0m\n",
      "\u001b[0;31mNameError\u001b[0m: name 'GetOutOfLoop' is not defined"
     ]
    }
   ],
   "source": [
    "err = 0\n",
    "found = 0\n",
    "errors = []\n",
    "all_result = []\n",
    "with open('eqs_100k.tsv', 'rb') as reader:\n",
    "    for i, row in enumerate(reader):\n",
    "        # The equations were saved in the json-encoded format, which double the number of \\\\ \n",
    "        # escapes that we want.\n",
    "        row = row.decode(\"unicode_escape\")\n",
    "        row = replace(row)\n",
    "        row = row.split('\\t', 1)[1]\n",
    "        rowcp = row\n",
    "#         print(row)\n",
    "        try:\n",
    "            row = fix_macros(row, all_macros)\n",
    "        except CouldNotFindError as couldnotfinderr:\n",
    "            err += 1\n",
    "            errors.append((row, couldnotfinderr))\n",
    "            continue\n",
    "#             print(row)\n",
    "#             print(couldnotfinderr)\n",
    "#         print(row)\n",
    "        tokenized = tokenize(row)\n",
    "\n",
    "        ses = split_exprs(tokenized)\n",
    "        if ses:\n",
    "            \n",
    "            for expr in ses:\n",
    "                se = split_high_level_eqs(expr)\n",
    "\n",
    "                suit = test_for_suitable(se)\n",
    "                if suit:\n",
    "                    all_result.append(se)\n",
    "                    found += 1\n",
    "                    if found > 32:\n",
    "                        print(\"\\nnew\\n\")\n",
    "                        print(rowcp)\n",
    "                        print(row)\n",
    "                        katex(row)._ipython_display_()\n",
    "                        fixed2 = fix_macros(replace(rowcp), all_macros, debug=True)\n",
    "                        print(\"fixed2\")\n",
    "                        print(fixed2)\n",
    "                    if found > 40:\n",
    "                        raise GetOutOfLoop\n",
    "                    for s in suit:\n",
    "                        if found > 32:\n",
    "                            print(s)\n",
    "                            katex(\" \".join(s))._ipython_display_()       "
   ]
  },
  {
   "cell_type": "code",
   "execution_count": 10,
   "metadata": {
    "scrolled": false
   },
   "outputs": [
    {
     "name": "stdout",
     "output_type": "stream",
     "text": [
      "641\n",
      "2822\n"
     ]
    }
   ],
   "source": [
    "print(err)\n",
    "print(found)\n",
    "from collections import Counter\n",
    "c = Counter([e[1].parameter[1] for e in errors])"
   ]
  },
  {
   "cell_type": "code",
   "execution_count": 11,
   "metadata": {},
   "outputs": [
    {
     "data": {
      "text/plain": [
       "[('\\\\noalign', 57),\n",
       " ('\\\\node', 50),\n",
       " ('\\\\wd', 46),\n",
       " ('\\\\g', 41),\n",
       " ('\\\\n', 29),\n",
       " ('\\\\y', 23),\n",
       " ('\\\\global', 22),\n",
       " ('\\\\q', 18),\n",
       " ('\\\\V', 17),\n",
       " ('\\\\w', 16),\n",
       " ('\\\\z', 15),\n",
       " ('\\\\noindent', 12),\n",
       " ('\\\\goth', 11),\n",
       " ('\\\\wt', 10),\n",
       " ('\\\\ga', 9),\n",
       " ('\\\\W', 8),\n",
       " ('\\\\nobreak', 7),\n",
       " ('\\\\young', 6),\n",
       " ('\\\\nn', 6),\n",
       " ('\\\\goodbreak', 5),\n",
       " ('\\\\non', 5),\n",
       " ('\\\\nopagebreak', 5),\n",
       " ('\\\\gathered', 4),\n",
       " ('\\\\yng', 4),\n",
       " ('\\\\qbezier', 4),\n",
       " ('\\\\ns', 3),\n",
       " ('\\\\nt', 3),\n",
       " ('\\\\na', 3),\n",
       " ('\\\\gam', 3),\n",
       " ('\\\\grad', 3),\n",
       " ('\\\\ncline', 3),\n",
       " ('\\\\wh', 3),\n",
       " ('\\\\gradf', 3),\n",
       " ('\\\\zero', 3),\n",
       " ('\\\\gf', 3),\n",
       " ('\\\\gradcomm', 2),\n",
       " ('\\\\zref', 2),\n",
       " ('\\\\quantno', 2),\n",
       " ('\\\\WF', 2),\n",
       " ('\\\\qopname', 2),\n",
       " ('\\\\nw', 2),\n",
       " ('\\\\wb', 2),\n",
       " ('\\\\zs', 2),\n",
       " ('\\\\qq', 2),\n",
       " ('\\\\Ã', 2),\n",
       " ('\\\\gl', 2),\n",
       " ('\\\\qty', 2),\n",
       " ('\\\\wtd', 2),\n",
       " ('\\\\nm', 2),\n",
       " ('\\\\zap', 2),\n",
       " ('\\\\nor', 2),\n",
       " ('\\\\wcircle', 2),\n",
       " ('\\\\gb', 2),\n",
       " ('\\\\gh', 2),\n",
       " ('\\\\nsp', 2),\n",
       " ('\\\\gothf', 2),\n",
       " ('\\\\nodeat', 2),\n",
       " ('\\\\nf', 1),\n",
       " ('\\\\gr', 1),\n",
       " ('\\\\gothic', 1),\n",
       " ('\\\\nodata', 1),\n",
       " ('\\\\yp', 1),\n",
       " ('\\\\qua', 1),\n",
       " ('\\\\qandq', 1),\n",
       " ('\\\\yc', 1),\n",
       " ('\\\\nHat', 1),\n",
       " ('\\\\nL', 1),\n",
       " ('\\\\what', 1),\n",
       " ('\\\\qdd', 1),\n",
       " ('\\\\gDd', 1),\n",
       " ('\\\\ynu', 1),\n",
       " ('\\\\gotg', 1),\n",
       " ('\\\\ycoord', 1),\n",
       " ('\\\\zi', 1),\n",
       " ('\\\\nolL', 1),\n",
       " ('\\\\wcov', 1),\n",
       " ('\\\\wsA', 1),\n",
       " ('\\\\Vec', 1),\n",
       " ('\\\\glossary', 1),\n",
       " ('\\\\qbinom', 1),\n",
       " ('\\\\nff', 1),\n",
       " ('\\\\qd', 1),\n",
       " ('\\\\gq', 1),\n",
       " ('\\\\gothg', 1),\n",
       " ('\\\\grg', 1),\n",
       " ('\\\\zerobold', 1),\n",
       " ('\\\\gbeg', 1),\n",
       " ('\\\\Vint', 1),\n",
       " ('\\\\zeH', 1),\n",
       " ('\\\\whm', 1),\n",
       " ('\\\\nsign', 1),\n",
       " ('\\\\Vp', 1),\n",
       " ('\\\\gbar', 1),\n",
       " ('\\\\gat', 1),\n",
       " ('\\\\Vtriangle', 1),\n",
       " ('\\\\WmatsuppT', 1),\n",
       " ('\\\\gbold', 1),\n",
       " ('\\\\gchar', 1),\n",
       " ('\\\\gbx', 1),\n",
       " ('\\\\wth', 1),\n",
       " ('\\\\Vol', 1),\n",
       " ('\\\\zz', 1),\n",
       " ('\\\\zk', 1),\n",
       " ('\\\\zm', 1),\n",
       " ('\\\\wf', 1),\n",
       " ('\\\\zwall', 1),\n",
       " ('\\\\gothfam', 1),\n",
       " ('\\\\gy', 1),\n",
       " ('\\\\no', 1),\n",
       " ('\\\\gsv', 1),\n",
       " ('\\\\wwhat', 1),\n",
       " ('\\\\gmg', 1),\n",
       " ('\\\\np', 1),\n",
       " ('\\\\wbar', 1),\n",
       " ('\\\\qcircx', 1),\n",
       " ('\\\\WR', 1),\n",
       " ('\\\\qt', 1),\n",
       " ('\\\\gmw', 1),\n",
       " ('\\\\zx', 1),\n",
       " ('\\\\WjsD', 1),\n",
       " ('\\\\noindentS', 1),\n",
       " ('\\\\zD', 1),\n",
       " ('\\\\yu', 1),\n",
       " ('\\\\nodc', 1),\n",
       " ('\\\\WA', 1),\n",
       " ('\\\\Ws', 1),\n",
       " ('\\\\giga', 1),\n",
       " ('\\\\gfont', 1),\n",
       " ('\\\\nodes', 1),\n",
       " ('\\\\zcPm', 1),\n",
       " ('\\\\wopt', 1),\n",
       " ('\\\\gs', 1),\n",
       " ('\\\\gtqf', 1),\n",
       " ('\\\\wtildec', 1),\n",
       " ('\\\\whk', 1),\n",
       " ('\\\\nnb', 1),\n",
       " ('\\\\nointerlineskip', 1),\n",
       " ('\\\\gP', 1),\n",
       " ('\\\\wto', 1),\n",
       " ('\\\\Ww', 1),\n",
       " ('\\\\wensize', 1),\n",
       " ('\\\\zr', 1),\n",
       " ('\\\\gax', 1),\n",
       " ('\\\\glb', 1),\n",
       " ('\\\\ncalB', 1),\n",
       " ('\\\\natseg', 1),\n",
       " ('\\\\nb', 1),\n",
       " ('\\\\nccurve', 1),\n",
       " ('\\\\yvect', 1),\n",
       " ('\\\\nomathglue', 1),\n",
       " ('\\\\zh', 1),\n",
       " ('\\\\nbest', 1),\n",
       " ('\\\\nat', 1),\n",
       " ('\\\\Var', 1),\n",
       " ('\\\\zimag', 1),\n",
       " ('\\\\nan', 1),\n",
       " ('\\\\wu', 1),\n",
       " ('\\\\nU', 1),\n",
       " ('\\\\zatskip', 1),\n",
       " ('\\\\qv', 1),\n",
       " ('\\\\VAR', 1),\n",
       " ('\\\\gau', 1),\n",
       " ('\\\\while', 1),\n",
       " ('\\\\ym', 1),\n",
       " ('\\\\ys', 1),\n",
       " ('\\\\which', 1),\n",
       " ('\\\\nbr', 1),\n",
       " ('\\\\wtilde', 1),\n",
       " ('\\\\gls', 1),\n",
       " ('\\\\nld', 1),\n",
       " ('\\\\qz', 1),\n",
       " ('\\\\nset', 1),\n",
       " ('\\\\gt', 1),\n",
       " ('\\\\nobreakspace', 1),\n",
       " ('\\\\ytableaushort', 1),\n",
       " ('\\\\yy', 1),\n",
       " ('\\\\quotj', 1),\n",
       " ('\\\\nnW', 1),\n",
       " ('\\\\natSet', 1),\n",
       " ('\\\\Vcal', 1),\n",
       " ('\\\\nY', 1),\n",
       " ('\\\\goto', 1),\n",
       " ('\\\\nbbE', 1),\n",
       " ('\\\\noexpandf', 1),\n",
       " ('\\\\zl', 1),\n",
       " ('\\\\year', 1),\n",
       " ('\\\\ndot', 1),\n",
       " ('\\\\ybu', 1),\n",
       " ('\\\\zzeroN', 1),\n",
       " ('\\\\VField', 1),\n",
       " ('\\\\VEC', 1),\n",
       " ('\\\\nonce', 1),\n",
       " ('\\\\ytableausetup', 1),\n",
       " ('\\\\grsF', 1)]"
      ]
     },
     "execution_count": 11,
     "metadata": {},
     "output_type": "execute_result"
    }
   ],
   "source": [
    "c.most_common()"
   ]
  },
  {
   "cell_type": "code",
   "execution_count": 12,
   "metadata": {},
   "outputs": [
    {
     "data": {
      "text/plain": [
       "[['3',\n",
       "  '\\\\widetilde',\n",
       "  '{',\n",
       "  '\\\\Gamma',\n",
       "  '}',\n",
       "  '_',\n",
       "  '{',\n",
       "  '2',\n",
       "  'j',\n",
       "  '}',\n",
       "  '-',\n",
       "  '3',\n",
       "  '\\\\Gamma',\n",
       "  '_',\n",
       "  '{',\n",
       "  '2',\n",
       "  'j',\n",
       "  '}'],\n",
       " ['-',\n",
       "  '3',\n",
       "  'R',\n",
       "  '_',\n",
       "  '4',\n",
       "  '(',\n",
       "  '0',\n",
       "  ')',\n",
       "  'a',\n",
       "  '_',\n",
       "  '{',\n",
       "  '2',\n",
       "  'j',\n",
       "  '}',\n",
       "  '^',\n",
       "  '2',\n",
       "  '-',\n",
       "  '6',\n",
       "  '\\\\int',\n",
       "  '_',\n",
       "  '{',\n",
       "  '\\\\gamma',\n",
       "  '_',\n",
       "  'j',\n",
       "  '}',\n",
       "  '\\\\frac',\n",
       "  '{',\n",
       "  'S',\n",
       "  '_',\n",
       "  '2',\n",
       "  'R',\n",
       "  '_',\n",
       "  '4',\n",
       "  '}',\n",
       "  '{',\n",
       "  'r',\n",
       "  '^',\n",
       "  '5',\n",
       "  '}',\n",
       "  '{',\n",
       "  'S',\n",
       "  '_',\n",
       "  '2',\n",
       "  'R',\n",
       "  '_',\n",
       "  '4',\n",
       "  '}',\n",
       "  '{',\n",
       "  'r',\n",
       "  '^',\n",
       "  '5',\n",
       "  '}',\n",
       "  '\\\\,',\n",
       "  '\\\\psi',\n",
       "  '_',\n",
       "  '2',\n",
       "  '\\\\varphi',\n",
       "  '_',\n",
       "  '1',\n",
       "  '^',\n",
       "  '4',\n",
       "  '_',\n",
       "  '1',\n",
       "  '^',\n",
       "  '4',\n",
       "  '\\\\,',\n",
       "  'd',\n",
       "  'w',\n",
       "  '+',\n",
       "  '3',\n",
       "  '\\\\int',\n",
       "  '_',\n",
       "  '{',\n",
       "  '\\\\gamma',\n",
       "  '_',\n",
       "  'j',\n",
       "  '}',\n",
       "  '\\\\frac',\n",
       "  '{',\n",
       "  'S',\n",
       "  '_',\n",
       "  '2',\n",
       "  'R',\n",
       "  '_',\n",
       "  '3',\n",
       "  '}',\n",
       "  '{',\n",
       "  'r',\n",
       "  '^',\n",
       "  '4',\n",
       "  '}',\n",
       "  '{',\n",
       "  'S',\n",
       "  '_',\n",
       "  '2',\n",
       "  'R',\n",
       "  '_',\n",
       "  '3',\n",
       "  '}',\n",
       "  '{',\n",
       "  'r',\n",
       "  '^',\n",
       "  '4',\n",
       "  '}',\n",
       "  '\\\\,',\n",
       "  '\\\\psi',\n",
       "  '_',\n",
       "  '2',\n",
       "  '^',\n",
       "  '2',\n",
       "  '\\\\varphi',\n",
       "  '_',\n",
       "  '1',\n",
       "  '^',\n",
       "  '3',\n",
       "  '_',\n",
       "  '1',\n",
       "  '^',\n",
       "  '3',\n",
       "  '\\\\,',\n",
       "  'd',\n",
       "  'w',\n",
       "  '.']]"
      ]
     },
     "execution_count": 12,
     "metadata": {},
     "output_type": "execute_result"
    }
   ],
   "source": [
    "all_result[0]"
   ]
  },
  {
   "cell_type": "code",
   "execution_count": 13,
   "metadata": {
    "collapsed": true
   },
   "outputs": [],
   "source": [
    "from gensim.models import TfidfModel\n",
    "from gensim.corpora import Dictionary\n",
    "from gensim.similarities import MatrixSimilarity"
   ]
  },
  {
   "cell_type": "code",
   "execution_count": 14,
   "metadata": {
    "collapsed": true
   },
   "outputs": [],
   "source": [
    "docs = [doc for sublist in all_result for doc in sublist]\n",
    "dct = Dictionary(docs)\n",
    "corpus = [dct.doc2bow(line) for line in docs]\n",
    "model = TfidfModel(corpus)"
   ]
  },
  {
   "cell_type": "code",
   "execution_count": 15,
   "metadata": {
    "collapsed": true
   },
   "outputs": [],
   "source": [
    "index = MatrixSimilarity(model[corpus], num_features=len(dct))"
   ]
  },
  {
   "cell_type": "code",
   "execution_count": 16,
   "metadata": {},
   "outputs": [
    {
     "ename": "TypeError",
     "evalue": "decoding to str: need a bytes-like object, list found",
     "output_type": "error",
     "traceback": [
      "\u001b[0;31m---------------------------------------------------------------------------\u001b[0m",
      "\u001b[0;31mTypeError\u001b[0m                                 Traceback (most recent call last)",
      "\u001b[0;32m<ipython-input-16-0245af371b9d>\u001b[0m in \u001b[0;36m<module>\u001b[0;34m()\u001b[0m\n\u001b[1;32m      1\u001b[0m \u001b[0mline\u001b[0m \u001b[0;34m=\u001b[0m \u001b[0mall_result\u001b[0m\u001b[0;34m[\u001b[0m\u001b[0;36m0\u001b[0m\u001b[0;34m]\u001b[0m\u001b[0;34m\u001b[0m\u001b[0m\n\u001b[0;32m----> 2\u001b[0;31m \u001b[0msims\u001b[0m \u001b[0;34m=\u001b[0m \u001b[0mindex\u001b[0m\u001b[0;34m[\u001b[0m\u001b[0mmodel\u001b[0m\u001b[0;34m[\u001b[0m\u001b[0mdct\u001b[0m\u001b[0;34m.\u001b[0m\u001b[0mdoc2bow\u001b[0m\u001b[0;34m(\u001b[0m\u001b[0mline\u001b[0m\u001b[0;34m)\u001b[0m\u001b[0;34m]\u001b[0m\u001b[0;34m]\u001b[0m\u001b[0;34m\u001b[0m\u001b[0m\n\u001b[0m\u001b[1;32m      3\u001b[0m \u001b[0msims\u001b[0m \u001b[0;34m=\u001b[0m \u001b[0msorted\u001b[0m\u001b[0;34m(\u001b[0m\u001b[0menumerate\u001b[0m\u001b[0;34m(\u001b[0m\u001b[0msims\u001b[0m\u001b[0;34m)\u001b[0m\u001b[0;34m,\u001b[0m \u001b[0mkey\u001b[0m\u001b[0;34m=\u001b[0m\u001b[0;32mlambda\u001b[0m \u001b[0mitem\u001b[0m\u001b[0;34m:\u001b[0m \u001b[0;34m-\u001b[0m\u001b[0mitem\u001b[0m\u001b[0;34m[\u001b[0m\u001b[0;36m1\u001b[0m\u001b[0;34m]\u001b[0m\u001b[0;34m)\u001b[0m\u001b[0;34m\u001b[0m\u001b[0m\n",
      "\u001b[0;32m~/miniconda3/envs/data_cleaning/lib/python3.6/site-packages/gensim/corpora/dictionary.py\u001b[0m in \u001b[0;36mdoc2bow\u001b[0;34m(self, document, allow_update, return_missing)\u001b[0m\n\u001b[1;32m    236\u001b[0m         \u001b[0mcounter\u001b[0m \u001b[0;34m=\u001b[0m \u001b[0mdefaultdict\u001b[0m\u001b[0;34m(\u001b[0m\u001b[0mint\u001b[0m\u001b[0;34m)\u001b[0m\u001b[0;34m\u001b[0m\u001b[0m\n\u001b[1;32m    237\u001b[0m         \u001b[0;32mfor\u001b[0m \u001b[0mw\u001b[0m \u001b[0;32min\u001b[0m \u001b[0mdocument\u001b[0m\u001b[0;34m:\u001b[0m\u001b[0;34m\u001b[0m\u001b[0m\n\u001b[0;32m--> 238\u001b[0;31m             \u001b[0mcounter\u001b[0m\u001b[0;34m[\u001b[0m\u001b[0mw\u001b[0m \u001b[0;32mif\u001b[0m \u001b[0misinstance\u001b[0m\u001b[0;34m(\u001b[0m\u001b[0mw\u001b[0m\u001b[0;34m,\u001b[0m \u001b[0municode\u001b[0m\u001b[0;34m)\u001b[0m \u001b[0;32melse\u001b[0m \u001b[0municode\u001b[0m\u001b[0;34m(\u001b[0m\u001b[0mw\u001b[0m\u001b[0;34m,\u001b[0m \u001b[0;34m'utf-8'\u001b[0m\u001b[0;34m)\u001b[0m\u001b[0;34m]\u001b[0m \u001b[0;34m+=\u001b[0m \u001b[0;36m1\u001b[0m\u001b[0;34m\u001b[0m\u001b[0m\n\u001b[0m\u001b[1;32m    239\u001b[0m \u001b[0;34m\u001b[0m\u001b[0m\n\u001b[1;32m    240\u001b[0m         \u001b[0mtoken2id\u001b[0m \u001b[0;34m=\u001b[0m \u001b[0mself\u001b[0m\u001b[0;34m.\u001b[0m\u001b[0mtoken2id\u001b[0m\u001b[0;34m\u001b[0m\u001b[0m\n",
      "\u001b[0;31mTypeError\u001b[0m: decoding to str: need a bytes-like object, list found"
     ]
    }
   ],
   "source": [
    "# line = all_result[0]\n",
    "# sims = index[model[dct.doc2bow(line)]]\n",
    "# sims = sorted(enumerate(sims), key=lambda item: -item[1])"
   ]
  },
  {
   "cell_type": "code",
   "execution_count": 17,
   "metadata": {
    "collapsed": true
   },
   "outputs": [],
   "source": [
    "eqs = all_result\n",
    "from gensim import interfaces, utils, matutils\n",
    "import numpy as np\n",
    "num_features = len(dct)\n",
    "all_dists = []\n",
    "for aligned_eqs in eqs:\n",
    "    vecs = []\n",
    "    for e in aligned_eqs: \n",
    "        sparse_vec = model[dct.doc2bow(e)]\n",
    "        query = matutils.sparse2full(sparse_vec, num_features)\n",
    "        query = np.asarray(query, dtype=np.float32)\n",
    "        vecs.append(query)\n",
    "    \n",
    "    dists = []\n",
    "    for i, v in enumerate(vecs):\n",
    "        for j, v2 in enumerate(vecs):\n",
    "            if i != j:\n",
    "#                 print(\"aligned:\")\n",
    "#                 print(aligned_eqs[i])\n",
    "#                 print(aligned_eqs[j])\n",
    "                dists.append(v.dot(v2))\n",
    "    all_dists.extend(list(set(dists)))\n",
    "\n"
   ]
  },
  {
   "cell_type": "code",
   "execution_count": null,
   "metadata": {
    "collapsed": true
   },
   "outputs": [],
   "source": []
  },
  {
   "cell_type": "code",
   "execution_count": 18,
   "metadata": {
    "collapsed": true
   },
   "outputs": [],
   "source": [
    "# now do a random pass\n",
    "N = len(eqs)\n",
    "num_features = len(dct)\n",
    "rand_dists = []\n",
    "for aligned_eqs in eqs:\n",
    "    vecs = []\n",
    "    for e in aligned_eqs: \n",
    "        sparse_vec = model[dct.doc2bow(e)]\n",
    "        query = matutils.sparse2full(sparse_vec, num_features)\n",
    "        query = np.asarray(query, dtype=np.float32)\n",
    "        vecs.append(query)\n",
    "    \n",
    "    dists = []\n",
    "    for i, v in enumerate(vecs):\n",
    "        # pick a random vector\n",
    "        rand_i = np.random.randint(N)\n",
    "        # Note: had to pull in a long range dependency on the docs list here. Could cause problems later.\n",
    "        sparse_vec = model[dct.doc2bow(docs[rand_i])]\n",
    "        rand_vec = matutils.sparse2full(sparse_vec, num_features)\n",
    "        rand_vec = np.asarray(rand_vec, dtype=np.float32)\n",
    "        dists.append(v.dot(rand_vec))\n",
    "    rand_dists.extend(list(set(dists)))\n"
   ]
  },
  {
   "cell_type": "code",
   "execution_count": 24,
   "metadata": {},
   "outputs": [
    {
     "data": {
      "image/png": "[encoded data removed]",
      "text/plain": [
       "<matplotlib.figure.Figure at 0x1a24840a90>"
      ]
     },
     "metadata": {},
     "output_type": "display_data"
    }
   ],
   "source": [
    "%matplotlib inline\n",
    "import seaborn as sns\n",
    "import matplotlib.pyplot as plt\n",
    "# test = pd.DataFrame([rand_dists, all_dists])\n",
    "# plt.hist(test.values.T)\n",
    "# plt.show()\n",
    "sns.distplot(rand_dists[0:1000], hist=False, rug=True, label=\"random\")\n",
    "sns.distplot(all_dists[0:1000], hist=False, rug=True, label=\"pairs\").set_title('Dot product')\n",
    "plt.savefig('dists.png')"
   ]
  },
  {
   "cell_type": "code",
   "execution_count": 27,
   "metadata": {},
   "outputs": [
    {
     "data": {
      "text/plain": [
       "0.26734915"
      ]
     },
     "execution_count": 27,
     "metadata": {},
     "output_type": "execute_result"
    }
   ],
   "source": [
    "all_dists[0]"
   ]
  },
  {
   "cell_type": "code",
   "execution_count": 24,
   "metadata": {},
   "outputs": [
    {
     "ename": "UnicodeDecodeError",
     "evalue": "'ascii' codec can't decode byte 0xe9 in position 2: ordinal not in range(128)",
     "output_type": "error",
     "traceback": [
      "\u001b[0;31m---------------------------------------------------------------------------\u001b[0m",
      "\u001b[0;31mUnicodeDecodeError\u001b[0m                        Traceback (most recent call last)",
      "\u001b[0;32m<ipython-input-24-5e167efff787>\u001b[0m in \u001b[0;36m<module>\u001b[0;34m()\u001b[0m\n\u001b[1;32m      1\u001b[0m \u001b[0;32mimport\u001b[0m \u001b[0mpickle\u001b[0m\u001b[0;34m\u001b[0m\u001b[0m\n\u001b[0;32m----> 2\u001b[0;31m \u001b[0mpickle\u001b[0m\u001b[0;34m.\u001b[0m\u001b[0mload\u001b[0m\u001b[0;34m(\u001b[0m\u001b[0mopen\u001b[0m\u001b[0;34m(\u001b[0m\u001b[0;34m'raw_tr_embed_proj.pkl'\u001b[0m\u001b[0;34m,\u001b[0m \u001b[0;34m'rb'\u001b[0m\u001b[0;34m)\u001b[0m\u001b[0;34m)\u001b[0m\u001b[0;34m\u001b[0m\u001b[0m\n\u001b[0m\u001b[1;32m      3\u001b[0m \u001b[0;34m\u001b[0m\u001b[0m\n\u001b[1;32m      4\u001b[0m \u001b[0;31m# sns.distplot(rand_dists[0:1000], hist=False, rug=True)\u001b[0m\u001b[0;34m\u001b[0m\u001b[0;34m\u001b[0m\u001b[0m\n\u001b[1;32m      5\u001b[0m \u001b[0;31m# sns.distplot(all_dists[0:1000], hist=False, rug=True)\u001b[0m\u001b[0;34m\u001b[0m\u001b[0;34m\u001b[0m\u001b[0m\n",
      "\u001b[0;31mUnicodeDecodeError\u001b[0m: 'ascii' codec can't decode byte 0xe9 in position 2: ordinal not in range(128)"
     ]
    }
   ],
   "source": [
    "import pickle\n",
    "pickle.load(open('raw_tr_embed_proj.pkl', 'rb'))\n",
    "\n",
    "# sns.distplot(rand_dists[0:1000], hist=False, rug=True)\n",
    "# sns.distplot(all_dists[0:1000], hist=False, rug=True)"
   ]
  },
  {
   "cell_type": "code",
   "execution_count": null,
   "metadata": {
    "collapsed": true
   },
   "outputs": [],
   "source": [
    "[[\"\\\\frac\", \"{\", \"1\", \"}\", \"{\", \"T\", \"}\", \"\\\\cdot\", \"\\\\sum\", \"_\", \"{\", \"t\", \"=\", \"0\", \"}\", \"^\", \"{\", \"T\", \"-\", \"1\", \"}\", \"z\", \"_\", \"j\", \"(\", \"p\", \"^\", \"t\", \")\"], [\"\\\\frac\", \"{\", \"1\", \"}\", \"{\", \"T\", \"}\", \"\\\\cdot\", \"\\\\sum\", \"_\", \"{\", \"t\", \"=\", \"0\", \"}\", \"^\", \"{\", \"T\", \"_\", \"0\", \"}\", \"z\", \"_\", \"j\", \"(\", \"p\", \"^\", \"t\", \")\"],\n",
    " [\"\\\\frac\", \"1\", \"8\", \"\\\\cdot\", \"2\", \"{\", \"\\\\varepsilon\", \"}\", \"w\", \"^\", \"2\"]]"
   ]
  }
 ],
 "metadata": {
  "kernelspec": {
   "display_name": "data_cleaning",
   "language": "python",
   "name": "data_cleaning"
  },
  "language_info": {
   "codemirror_mode": {
    "name": "ipython",
    "version": 3
   },
   "file_extension": ".py",
   "mimetype": "text/x-python",
   "name": "python",
   "nbconvert_exporter": "python",
   "pygments_lexer": "ipython3",
   "version": "3.6.4"
  }
 },
 "nbformat": 4,
 "nbformat_minor": 2
}
