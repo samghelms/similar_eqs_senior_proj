{
 "cells": [
  {
   "cell_type": "code",
   "execution_count": 6,
   "metadata": {},
   "outputs": [],
   "source": [
    "import pickle\n",
    "\n",
    "E = pickle.load(open('raw_tr_embed.pkl', 'rb'))"
   ]
  },
  {
   "cell_type": "code",
   "execution_count": 11,
   "metadata": {},
   "outputs": [],
   "source": [
    "from scipy.sparse.linalg import svds\n",
    "k = 5\n",
    "U, s, V = svds(E, k=k)"
   ]
  },
  {
   "cell_type": "code",
   "execution_count": 22,
   "metadata": {},
   "outputs": [
    {
     "data": {
      "text/plain": [
       "array([[-0.1532853 ,  0.        ,  0.        ,  0.        ,  0.        ],\n",
       "       [-0.15655401,  0.        ,  0.        ,  0.        ,  0.        ],\n",
       "       [-0.14673465,  0.        ,  0.        ,  0.        ,  0.        ],\n",
       "       [-0.15498847,  0.        ,  0.        ,  0.        ,  0.        ],\n",
       "       [-0.15284859,  0.        ,  0.        ,  0.        ,  0.        ],\n",
       "       [-0.1362536 ,  0.        ,  0.        ,  0.        ,  0.        ],\n",
       "       [-0.13246878,  0.        ,  0.        ,  0.        ,  0.        ],\n",
       "       [-0.15662485,  0.        ,  0.        ,  0.        ,  0.        ],\n",
       "       [-0.1532853 ,  0.        ,  0.        ,  0.        ,  0.        ],\n",
       "       [-0.1532853 ,  0.        ,  0.        ,  0.        ,  0.        ]])"
      ]
     },
     "execution_count": 22,
     "metadata": {},
     "output_type": "execute_result"
    }
   ],
   "source": [
    "import numpy as np\n",
    "U.dot(np.diag(s))"
   ]
  },
  {
   "cell_type": "code",
   "execution_count": 23,
   "metadata": {},
   "outputs": [
    {
     "data": {
      "text/plain": [
       "array([[0.47387535, 0.        , 0.        , 0.        , 0.        ],\n",
       "       [0.        , 0.        , 0.        , 0.        , 0.        ],\n",
       "       [0.        , 0.        , 0.        , 0.        , 0.        ],\n",
       "       [0.        , 0.        , 0.        , 0.        , 0.        ],\n",
       "       [0.        , 0.        , 0.        , 0.        , 0.        ]])"
      ]
     },
     "execution_count": 23,
     "metadata": {},
     "output_type": "execute_result"
    }
   ],
   "source": [
    "np.diag(s)"
   ]
  },
  {
   "cell_type": "code",
   "execution_count": null,
   "metadata": {},
   "outputs": [],
   "source": []
  }
 ],
 "metadata": {
  "kernelspec": {
   "display_name": "data_cleaning",
   "language": "python",
   "name": "data_cleaning"
  },
  "language_info": {
   "codemirror_mode": {
    "name": "ipython",
    "version": 3
   },
   "file_extension": ".py",
   "mimetype": "text/x-python",
   "name": "python",
   "nbconvert_exporter": "python",
   "pygments_lexer": "ipython3",
   "version": "3.6.4"
  }
 },
 "nbformat": 4,
 "nbformat_minor": 2
}
