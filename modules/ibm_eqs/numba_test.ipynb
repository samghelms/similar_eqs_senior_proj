{
 "cells": [
  {
   "cell_type": "code",
   "execution_count": 2,
   "metadata": {},
   "outputs": [],
   "source": [
    "from numba import jit\n",
    "import numpy as np\n",
    "\n",
    "def compute_log_lik(T, e_list, f_list):\n",
    "    cur_log_lik = 0\n",
    "    log_sum = None\n",
    "    e = None\n",
    "    f = None\n",
    "    n = len(e_list)\n",
    "    # e list = f _list len\n",
    "    for i in range(n):\n",
    "        e = e_list[i]\n",
    "        f = f_list[i]\n",
    "        for e_t in e:\n",
    "            log_sum = 0\n",
    "            for f_t in f:\n",
    "                log_sum += T[e_t, f_t]\n",
    "            cur_log_lik += np.log(log_sum)\n",
    "    return cur_log_lik"
   ]
  },
  {
   "cell_type": "code",
   "execution_count": 4,
   "metadata": {},
   "outputs": [],
   "source": [
    "@jit(nopython=True)\n",
    "def _inner_log_lik(e, f, T):\n",
    "    cur_log_lik = 0\n",
    "    for e_t in e:\n",
    "        log_sum = 0\n",
    "        for f_t in f:\n",
    "            log_sum += T[e_t, f_t]\n",
    "        cur_log_lik += np.log(log_sum)\n",
    "    return cur_log_lik\n",
    "\n",
    "\n",
    "def compute_log_lik(T, pairs):\n",
    "    cur_log_lik = 0\n",
    "    # e list = f _list len\n",
    "    for e, f in pairs:\n",
    "        cur_log_lik += _inner_log_lik(e, f, T)\n",
    "    return cur_log_lik"
   ]
  },
  {
   "cell_type": "code",
   "execution_count": 30,
   "metadata": {
    "scrolled": false
   },
   "outputs": [
    {
     "name": "stdout",
     "output_type": "stream",
     "text": [
      "124 ms ± 2.92 ms per loop (mean ± std. dev. of 7 runs, 10 loops each)\n"
     ]
    }
   ],
   "source": [
    "%timeit compute_log_lik(np.ones((100,100), dtype=np.float32), [[j for j in range(i)] for i in range(1, 100)], [[j for j in range(i)] for i in range(1, 100)])"
   ]
  },
  {
   "cell_type": "code",
   "execution_count": 29,
   "metadata": {},
   "outputs": [
    {
     "name": "stdout",
     "output_type": "stream",
     "text": [
      "1.67 ms ± 108 µs per loop (mean ± std. dev. of 7 runs, 1000 loops each)\n"
     ]
    }
   ],
   "source": [
    "%timeit compute_log_lik_numba(np.ones((100,100), dtype=np.float32), [[j for j in range(i)] for i in range(1, 100)], [[j for j in range(i)] for i in range(1, 100)])"
   ]
  },
  {
   "cell_type": "code",
   "execution_count": 21,
   "metadata": {},
   "outputs": [],
   "source": [
    "import time\n",
    "\n",
    "def _estimate(T, pairs, start_log_lik, tol):\n",
    "    prev_log_lik = -np.inf\n",
    "    counts = np.zeros(T.shape)\n",
    "    total = np.zeros(T.shape[1])\n",
    "    it_counter = 0\n",
    "    cur_log_lik = start_log_lik\n",
    "    while (cur_log_lik - prev_log_lik) > tol:\n",
    "        start_it_time = time.clock()\n",
    "#         print(\"current log likelihood: {cur_log_lik}\".format(cur_log_lik=cur_log_lik))\n",
    "        for e, f in pairs:\n",
    "            # compute normalization\n",
    "            s_total = np.zeros(T.shape[0])\n",
    "            for e_t in e:\n",
    "                for f_t in f:\n",
    "                    s_total[e_t] += T[e_t, f_t]\n",
    "\n",
    "            # counts\n",
    "            for e_t in e:\n",
    "                for f_t in f:\n",
    "                    counts[e_t, f_t] += T[e_t, f_t] / s_total[e_t]\n",
    "                    total[f_t] += T[e_t, f_t] / s_total[e_t]\n",
    "\n",
    "        for e_t in range(T.shape[0]):\n",
    "            for f_t in range(T.shape[1]):\n",
    "                T[e_t, f_t] = counts[e_t, f_t] / total[f_t]\n",
    "\n",
    "        prev_log_lik = cur_log_lik\n",
    "        cur_log_lik = compute_log_lik(T, pairs)\n",
    "\n",
    "#         print(\"time taken for loop {it}: {time}\".format(it=str(it_counter),\n",
    "#             time=str(time.clock() - start_it_time)))\n",
    "        # serialize\n",
    "#         pickle.dump(T, open('T_'+str(it_counter)+'.pkl', 'wb+'))\n",
    "        it_counter += 1\n",
    "    return T\n"
   ]
  },
  {
   "cell_type": "code",
   "execution_count": 64,
   "metadata": {},
   "outputs": [],
   "source": [
    "import time\n",
    "\n",
    "@jit(nopython=True)\n",
    "def _estimate_numba_inner(e, f, s_total, counts, total):\n",
    "    for e_t in e:\n",
    "        for f_t in f:\n",
    "            s_total[e_t] += T[e_t, f_t]\n",
    "\n",
    "    # counts\n",
    "    for e_t in e:\n",
    "        for f_t in f:\n",
    "            counts[e_t, f_t] += T[e_t, f_t] / s_total[e_t]\n",
    "            total[f_t] += T[e_t, f_t] / s_total[e_t]\n",
    "\n",
    "@jit(nopython=True)\n",
    "def _fill_T(T, counts, total):\n",
    "    for e_t in range(T.shape[0]):\n",
    "        for f_t in range(T.shape[1]):\n",
    "            T[e_t, f_t] = counts[e_t, f_t] / (total[f_t] + 0.00001)\n",
    "\n",
    "\n",
    "def _estimate(T, pairs, start_log_lik, tol):\n",
    "    prev_log_lik = -np.inf\n",
    "    counts = np.zeros(T.shape)\n",
    "    total = np.zeros(T.shape[1])\n",
    "    it_counter = 0\n",
    "    cur_log_lik = start_log_lik\n",
    "    while (cur_log_lik - prev_log_lik) > tol:\n",
    "        start_it_time = time.clock()\n",
    "        print(\"current log likelihood: {cur_log_lik}\".format(cur_log_lik=cur_log_lik))\n",
    "        for e, f in pairs:\n",
    "            # compute normalization\n",
    "            s_total = np.zeros(T.shape[0])\n",
    "            _estimate_numba_inner(e, f, s_total, counts, total)\n",
    "\n",
    "        _fill_T(T, counts, total)\n",
    "\n",
    "        prev_log_lik = cur_log_lik\n",
    "        cur_log_lik = compute_log_lik(T, pairs)\n",
    "\n",
    "        print(\"time taken for loop {it}: {time}\".format(it=str(it_counter),\n",
    "            time=str(time.clock() - start_it_time)))\n",
    "        # serialize\n",
    "        pickle.dump(T, open('T_'+str(it_counter)+'.pkl', 'wb+'))\n",
    "        it_counter += 1\n",
    "    return T\n",
    "\n"
   ]
  },
  {
   "cell_type": "code",
   "execution_count": 58,
   "metadata": {},
   "outputs": [],
   "source": [
    "n = 100\n",
    "T = np.ones((n,n), dtype=np.float32) * 1 / n\n",
    "\n",
    "e = [[j-1 for j in range(n)] for i in range(1, n)]\n",
    "f = [[j-1 for j in range(n)] for i in range(1, n)]\n",
    "pairs = zip(e, f)\n",
    "start_log_lik = compute_log_lik(T, pairs)\n",
    "tol = 100"
   ]
  },
  {
   "cell_type": "code",
   "execution_count": 47,
   "metadata": {},
   "outputs": [
    {
     "name": "stderr",
     "output_type": "stream",
     "text": [
      "/Users/sam/miniconda3/envs/data_cleaning/lib/python3.6/site-packages/ipykernel_launcher.py:27: RuntimeWarning: invalid value encountered in double_scalars\n"
     ]
    },
    {
     "name": "stdout",
     "output_type": "stream",
     "text": [
      "41.1 ms ± 1.14 ms per loop (mean ± std. dev. of 7 runs, 10 loops each)\n"
     ]
    }
   ],
   "source": [
    "%timeit _estimate(T, pairs, start_log_lik, tol)"
   ]
  },
  {
   "cell_type": "code",
   "execution_count": 63,
   "metadata": {},
   "outputs": [
    {
     "name": "stdout",
     "output_type": "stream",
     "text": [
      "37.2 µs ± 908 ns per loop (mean ± std. dev. of 7 runs, 10000 loops each)\n"
     ]
    }
   ],
   "source": [
    "%timeit _estimate_numba(T, pairs, start_log_lik, tol)"
   ]
  },
  {
   "cell_type": "code",
   "execution_count": 3,
   "metadata": {},
   "outputs": [],
   "source": [
    "@jit(nopython=True)\n",
    "def _inner_log_lik(e, f, T):\n",
    "    cur_log_lik = 0\n",
    "    for e_t in e:\n",
    "        log_sum = 0\n",
    "        for f_t in f:\n",
    "            log_sum += T[e_t, f_t]\n",
    "        cur_log_lik += np.log(log_sum)\n",
    "    return cur_log_lik\n",
    "\n",
    "\n",
    "def compute_log_lik(T, pairs):\n",
    "    cur_log_lik = 0\n",
    "    # e list = f _list len\n",
    "    for e, f in pairs:\n",
    "        cur_log_lik += _inner_log_lik(e, f, T)\n",
    "    return cur_log_lik"
   ]
  },
  {
   "cell_type": "code",
   "execution_count": 11,
   "metadata": {},
   "outputs": [
    {
     "data": {
      "text/plain": [
       "1.0000000000004343"
      ]
     },
     "execution_count": 11,
     "metadata": {},
     "output_type": "execute_result"
    }
   ],
   "source": [
    "import pickle\n",
    "t0 = pickle.load(open('T_0.pkl', 'rb'))\n",
    "t0[:,8].sum()"
   ]
  },
  {
   "cell_type": "code",
   "execution_count": 16,
   "metadata": {},
   "outputs": [
    {
     "data": {
      "text/plain": [
       "1.0000000000002183"
      ]
     },
     "execution_count": 16,
     "metadata": {},
     "output_type": "execute_result"
    }
   ],
   "source": [
    "t1 = pickle.load(open('T_1.pkl', 'rb'))\n",
    "\n",
    "t1[:,2].sum()"
   ]
  },
  {
   "cell_type": "code",
   "execution_count": 22,
   "metadata": {},
   "outputs": [
    {
     "data": {
      "text/plain": [
       "1.2530698700885523e-11"
      ]
     },
     "execution_count": 22,
     "metadata": {},
     "output_type": "execute_result"
    }
   ],
   "source": [
    "(np.abs(t0-t1)).max()"
   ]
  },
  {
   "cell_type": "code",
   "execution_count": 26,
   "metadata": {},
   "outputs": [
    {
     "data": {
      "text/plain": [
       "array([1.38398727e-04, 1.08643000e-02, 1.38398727e-04, 2.07598090e-03,\n",
       "       2.56037644e-03, 6.91993634e-05, 3.45996817e-04, 2.07598090e-04,\n",
       "       6.91993634e-05, 4.15196180e-04, 7.61192997e-04, 2.76797453e-04,\n",
       "       6.91993634e-05, 9.27271469e-03, 6.91993634e-05, 6.91993634e-05,\n",
       "       1.38398727e-04, 2.76797453e-04, 1.45318663e-03, 1.38398727e-04,\n",
       "       6.91993634e-05, 7.81952806e-03, 6.91993634e-05, 6.91993634e-05,\n",
       "       1.38398727e-04, 6.22794270e-04, 2.76797453e-04, 1.38398727e-04,\n",
       "       2.14518026e-03, 2.56037644e-03, 6.91993634e-05, 2.56037644e-03,\n",
       "       9.68791087e-04, 6.91993634e-05, 6.91993634e-05, 6.91993634e-05,\n",
       "       6.91993634e-05, 2.76797453e-04, 6.91993634e-05, 6.91993634e-05,\n",
       "       1.45318663e-03, 6.91993634e-05, 6.91993634e-05, 1.38398727e-04,\n",
       "       6.91993634e-05, 6.91993634e-05, 6.91993634e-05, 6.91993634e-05,\n",
       "       6.91993634e-05, 6.22794270e-04, 6.91993634e-05, 1.38398727e-04,\n",
       "       2.69877517e-03, 6.91993634e-05, 6.91993634e-05, 6.91993634e-05,\n",
       "       6.91993634e-05, 1.38398727e-04, 8.23472424e-03, 6.91993634e-05,\n",
       "       2.07598090e-04, 3.07245173e-02, 2.07598090e-04, 6.91993634e-05,\n",
       "       4.01356308e-03, 6.91993634e-05, 3.18317072e-03, 2.07598090e-04,\n",
       "       2.76797453e-04, 5.46674971e-03, 2.21437963e-03, 6.91993634e-05,\n",
       "       2.07598090e-04, 6.91993634e-05, 6.91993634e-05, 6.91993634e-05,\n",
       "       1.38398727e-04, 6.91993634e-05, 1.38398727e-04, 6.91993634e-05,\n",
       "       6.91993634e-05, 2.90637326e-03, 8.99591724e-04, 6.91993634e-05,\n",
       "       1.38398727e-04, 2.07598090e-04, 6.91993634e-05, 1.79918345e-03,\n",
       "       2.07598090e-03, 6.91993634e-05, 6.91993634e-05, 2.07598090e-04,\n",
       "       6.91993634e-05, 6.91993634e-05, 5.53594907e-04, 1.38398727e-04,\n",
       "       6.91993634e-05, 6.91993634e-05, 5.53594907e-04, 6.91993634e-05,\n",
       "       2.07598090e-04, 1.79918345e-03, 6.91993634e-05, 6.91993634e-05,\n",
       "       1.38398727e-04, 4.84395544e-04, 1.38398727e-04, 2.76797453e-03,\n",
       "       2.00678154e-03, 1.55006574e-02, 6.91993634e-05, 6.91993634e-05,\n",
       "       6.91993634e-05, 6.91993634e-05, 6.91993634e-05, 1.38398727e-04,\n",
       "       5.53594907e-04, 6.91993634e-05, 1.24558854e-03, 1.24558854e-03,\n",
       "       6.91993634e-05, 6.91993634e-05, 9.68791087e-04, 6.91993634e-05,\n",
       "       9.68791087e-04, 3.45996817e-04, 6.91993634e-05, 6.91993634e-05,\n",
       "       2.35277835e-03, 2.07598090e-04, 1.38398727e-04, 5.05155353e-03,\n",
       "       3.86132448e-02, 6.91993634e-05, 8.99591724e-04, 8.99591724e-04,\n",
       "       6.57393952e-03, 6.91993634e-05, 2.07598090e-04, 3.45996817e-04,\n",
       "       6.36634143e-03, 1.38398727e-04, 2.76797453e-04, 6.91993634e-05,\n",
       "       6.52549997e-02, 2.56037644e-03, 1.12794962e-02, 6.91993634e-05,\n",
       "       1.38398727e-04, 4.98235416e-03, 6.91993634e-05, 6.91993634e-05,\n",
       "       6.91993634e-05, 6.91993634e-05, 4.15196180e-04, 6.91993634e-05,\n",
       "       6.91993634e-05, 6.91993634e-05, 6.91993634e-05, 1.66078472e-03,\n",
       "       1.72998408e-03, 6.91993634e-05, 6.91993634e-05, 1.93758217e-03,\n",
       "       6.91993634e-05, 6.91993634e-05, 5.53594907e-04, 4.33188015e-02,\n",
       "       1.10718981e-03, 6.91993634e-05, 6.91993634e-05, 1.38398727e-04,\n",
       "       6.91993634e-05, 1.38398727e-04, 6.91993634e-05, 6.91993634e-05,\n",
       "       6.91993634e-05, 2.28357899e-03, 6.91993634e-05, 1.10718981e-03,\n",
       "       6.91993634e-05, 6.91993634e-05, 6.91993634e-05, 6.91993634e-05,\n",
       "       6.91993634e-05, 1.31478790e-03, 2.07598090e-04, 6.91993634e-05,\n",
       "       1.38398727e-04, 6.91993634e-05, 6.91993634e-05, 4.84395544e-04,\n",
       "       1.38398727e-04, 4.42875926e-03, 6.91993634e-05, 6.91993634e-05,\n",
       "       1.97910179e-02, 6.91993634e-05, 6.91993634e-05, 7.88872742e-03,\n",
       "       6.91993634e-05, 2.21437963e-03, 6.91993634e-05, 1.86838281e-03,\n",
       "       6.91993634e-05, 6.91993634e-05, 1.38398727e-04, 6.91993634e-05,\n",
       "       6.91993634e-05, 1.38398727e-04, 1.31478790e-03, 6.91993634e-05,\n",
       "       3.87516435e-03, 1.10718981e-03, 1.38398727e-04, 6.36634143e-03,\n",
       "       6.91993634e-05, 1.72998408e-03, 3.45996817e-04, 6.91993634e-05,\n",
       "       6.91993634e-05, 1.38398727e-04, 1.10718981e-03, 6.91993634e-05,\n",
       "       3.94436371e-03, 2.76797453e-04, 1.17638918e-03, 1.38398727e-04,\n",
       "       1.38398727e-04, 6.91993634e-05, 6.91993634e-05, 6.91993634e-05,\n",
       "       1.38398727e-04, 4.98235416e-03, 6.91993634e-05, 6.91993634e-05,\n",
       "       6.91993634e-05, 2.90637326e-03, 2.90637326e-03, 4.15196180e-04,\n",
       "       6.29714207e-03, 6.91993634e-05, 5.53594907e-04, 8.30392360e-04,\n",
       "       4.84395544e-04, 6.91993634e-05, 6.91993634e-05, 6.91993634e-05,\n",
       "       6.91993634e-05, 2.83717390e-03, 7.33513252e-03, 6.91993634e-05,\n",
       "       1.45318663e-03, 1.31478790e-03, 3.45996817e-04, 6.91993634e-05,\n",
       "       6.91993634e-05, 6.91993634e-05, 5.74354716e-03, 4.15196180e-03,\n",
       "       6.91993634e-05, 3.04477199e-03, 3.45996817e-04, 6.91993634e-05,\n",
       "       3.45996817e-04, 1.03799045e-03, 2.07598090e-04, 3.11397135e-03,\n",
       "       6.91993634e-05, 3.45996817e-04, 8.30392360e-04, 1.38398727e-04,\n",
       "       1.38398727e-04, 6.91993634e-05, 6.91993634e-05, 6.91993634e-05,\n",
       "       6.91993634e-05, 6.91993634e-05, 6.91993634e-05, 3.45996817e-04,\n",
       "       6.91993634e-05, 6.91993634e-05, 8.30392360e-04, 2.07598090e-04,\n",
       "       6.91993634e-05, 6.91993634e-05, 1.38398727e-04, 6.91993634e-05,\n",
       "       6.91993634e-05, 2.07598090e-04, 6.91993634e-05, 2.49117708e-03,\n",
       "       6.91993634e-05, 1.38398727e-04, 6.91993634e-05, 6.91993634e-05,\n",
       "       6.91993634e-05, 3.45996817e-04, 8.99591724e-04, 6.91993634e-05,\n",
       "       2.28357899e-03, 6.91993634e-05, 6.91993634e-05, 1.28018822e-02,\n",
       "       2.49117708e-03, 6.91993634e-05, 6.91993634e-05, 1.38398727e-04,\n",
       "       6.91993634e-05, 1.38398727e-04, 6.91993634e-05, 6.91993634e-05,\n",
       "       2.07598090e-04, 6.91993634e-05, 6.91993634e-05, 1.38398727e-04,\n",
       "       6.91993634e-05, 6.91993634e-05, 6.91993634e-05, 6.91993634e-05,\n",
       "       6.91993634e-05, 1.38398727e-04, 2.76797453e-04, 6.91993634e-05,\n",
       "       5.46674971e-03, 6.91993634e-05, 7.47353124e-03, 2.62957581e-03,\n",
       "       2.07598090e-04, 6.91993634e-05, 6.91993634e-05, 2.90637326e-03,\n",
       "       9.68791087e-04, 6.91993634e-05, 6.91993634e-05, 4.15196180e-04,\n",
       "       4.15196180e-04, 6.91993634e-05, 2.28357899e-03, 2.42197772e-03,\n",
       "       6.91993634e-05, 6.91993634e-05, 6.91993634e-05, 6.91993634e-05,\n",
       "       6.91993634e-05, 1.38398727e-04, 6.91993634e-05, 6.91993634e-05,\n",
       "       5.53594907e-04, 6.91993634e-05, 6.91993634e-05, 6.91993634e-05,\n",
       "       6.91993634e-05, 2.76797453e-04, 2.07598090e-03, 2.07598090e-04,\n",
       "       6.91993634e-05, 4.01356308e-03, 6.91993634e-04, 8.99591724e-04,\n",
       "       6.91993634e-05, 6.52549997e-02, 9.89550896e-03, 2.28357899e-03,\n",
       "       1.38398727e-04, 1.38398727e-04, 1.10718981e-03, 1.17638918e-03,\n",
       "       2.62957581e-03, 6.91993634e-05, 2.97557263e-03, 1.72998408e-03,\n",
       "       6.91993634e-05, 1.38398727e-04, 6.91993634e-05, 2.62957581e-03,\n",
       "       6.91993634e-05, 3.86132448e-02, 1.38398727e-04, 2.07598090e-04,\n",
       "       3.16241091e-02, 6.91993634e-05, 6.91993634e-05, 1.86838281e-03,\n",
       "       6.91993634e-05, 1.46702650e-02, 6.91993634e-05, 6.91993634e-05,\n",
       "       6.91993634e-05, 1.66078472e-03, 1.38398727e-04, 6.91993634e-05,\n",
       "       6.91993634e-05, 6.91993634e-05, 4.08276244e-03, 6.91993634e-05,\n",
       "       6.91993634e-05, 6.91993634e-05, 3.25237008e-03, 8.99591724e-04,\n",
       "       6.91993634e-05, 1.38398727e-04, 6.91993634e-05, 1.38398727e-04,\n",
       "       1.38398727e-04, 6.91993634e-05, 1.03799045e-03, 6.91993634e-04,\n",
       "       6.91993634e-05, 1.38398727e-04, 6.91993634e-05, 6.91993634e-05,\n",
       "       6.91993634e-05, 1.38398727e-03, 5.53594907e-04, 1.38398727e-04,\n",
       "       6.91993634e-05, 6.91993634e-05, 6.22794270e-04, 6.91993634e-05,\n",
       "       8.71911979e-03, 1.59158536e-03, 5.32835098e-03, 6.91993634e-05,\n",
       "       9.27271469e-03, 1.38398727e-04, 6.91993634e-05, 6.42170092e-02,\n",
       "       4.98235416e-03, 6.91993634e-05, 1.38398727e-04, 6.91993634e-05,\n",
       "       6.91993634e-05, 6.91993634e-05, 6.91993634e-05, 3.32156944e-03,\n",
       "       1.93758217e-03, 6.91993634e-05, 1.38398727e-03, 6.91993634e-05,\n",
       "       6.91993634e-05, 6.91993634e-05, 2.28357899e-03, 2.35277835e-03,\n",
       "       4.63635735e-03, 2.71953498e-02, 6.91993634e-05, 1.38398727e-04,\n",
       "       6.91993634e-05, 3.73676562e-03, 3.87516435e-03, 6.91993634e-05,\n",
       "       1.38398727e-04, 6.91993634e-05, 5.95114525e-03, 2.07598090e-04,\n",
       "       4.63635735e-03, 6.91993634e-05, 6.91993634e-05, 6.91993634e-05,\n",
       "       6.91993634e-05, 6.91993634e-05, 1.38398727e-04, 6.91993634e-05,\n",
       "       5.53594907e-04, 6.91993634e-05, 5.53594907e-04, 2.21437963e-03,\n",
       "       6.91993634e-05, 6.91993634e-05, 3.87516435e-03, 2.76797453e-04,\n",
       "       6.91993634e-05, 6.91993634e-05, 3.34232925e-02, 6.91993634e-05,\n",
       "       1.86838281e-03, 6.91993634e-05, 6.91993634e-04, 1.86838281e-03,\n",
       "       5.53594907e-04, 6.91993634e-05, 1.38398727e-04, 6.91993634e-05,\n",
       "       4.84395544e-04, 6.91993634e-05, 6.91993634e-05, 6.91993634e-05,\n",
       "       1.38398727e-04, 6.91993634e-05, 6.91993634e-05, 5.53594907e-04,\n",
       "       6.91993634e-05, 2.76797453e-04, 6.91993634e-05, 1.38398727e-04,\n",
       "       6.91993634e-05, 6.91993634e-05, 6.91993634e-05, 1.38398727e-04,\n",
       "       3.39076881e-03, 5.39755034e-03, 1.38398727e-04, 5.12075289e-03,\n",
       "       1.38398727e-04, 6.91993634e-05, 8.30392360e-04, 1.38398727e-04,\n",
       "       1.38398727e-04, 6.91993634e-05, 3.45996817e-04, 1.38398727e-04,\n",
       "       6.91993634e-05, 6.91993634e-05, 6.91993634e-05, 6.91993634e-05,\n",
       "       6.91993634e-05, 6.91993634e-05, 6.91993634e-05, 6.91993634e-05,\n",
       "       1.38398727e-04, 1.38398727e-04, 6.91993634e-05, 6.91993634e-05,\n",
       "       6.91993634e-05, 6.91993634e-05, 2.07598090e-04, 2.07598090e-04,\n",
       "       7.40433188e-03, 6.91993634e-05, 1.38398727e-04, 3.87516435e-03,\n",
       "       4.84395544e-04, 4.84395544e-04, 6.91993634e-05, 1.33554771e-02,\n",
       "       6.91993634e-05, 6.91993634e-05, 6.91993634e-05, 6.91993634e-05,\n",
       "       2.07598090e-04, 6.91993634e-05, 6.91993634e-05, 3.45996817e-04,\n",
       "       6.91993634e-05, 2.49117708e-03, 3.66756626e-03, 6.91993634e-05,\n",
       "       6.91993634e-05, 2.76797453e-04, 6.91993634e-05, 6.91993634e-05,\n",
       "       6.91993634e-05, 6.91993634e-05, 6.91993634e-05, 6.91993634e-05,\n",
       "       6.91993634e-05, 3.52916753e-03, 8.30392360e-04, 2.07598090e-04,\n",
       "       6.91993634e-05, 6.91993634e-05, 3.32156944e-03, 6.91993634e-05,\n",
       "       6.91993634e-05, 3.52916753e-03, 4.08276244e-03, 6.91993634e-05,\n",
       "       1.24558854e-03, 6.91993634e-05, 6.91993634e-05, 1.38398727e-04,\n",
       "       1.17638918e-03, 6.91993634e-05, 2.07598090e-04, 6.91993634e-05])"
      ]
     },
     "execution_count": 26,
     "metadata": {},
     "output_type": "execute_result"
    }
   ],
   "source": [
    "t1.max(axis=1)"
   ]
  }
 ],
 "metadata": {
  "kernelspec": {
   "display_name": "data_cleaning",
   "language": "python",
   "name": "data_cleaning"
  },
  "language_info": {
   "codemirror_mode": {
    "name": "ipython",
    "version": 3
   },
   "file_extension": ".py",
   "mimetype": "text/x-python",
   "name": "python",
   "nbconvert_exporter": "python",
   "pygments_lexer": "ipython3",
   "version": "3.6.4"
  }
 },
 "nbformat": 4,
 "nbformat_minor": 2
}
