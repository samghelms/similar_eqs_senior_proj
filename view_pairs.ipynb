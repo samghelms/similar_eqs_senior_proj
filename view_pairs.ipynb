{
 "cells": [
  {
   "cell_type": "code",
   "execution_count": 69,
   "metadata": {
    "collapsed": false
   },
   "outputs": [],
   "source": [
    "from common.katex import katex\n",
    "from IPython.core.display import display, HTML"
   ]
  },
  {
   "cell_type": "code",
   "execution_count": 70,
   "metadata": {
    "collapsed": false
   },
   "outputs": [
    {
     "data": {
      "text/html": [
       "\n",
       "<script>\n",
       "requirejs.config({\n",
       "    paths: { \n",
       "       'katex': ['//cdnjs.cloudflare.com/ajax/libs/KaTeX/0.9.0-beta1/katex.min'], \n",
       "                                              // strip .js ^, require adds it back\n",
       "    },\n",
       "});\n",
       "\n",
       "require(['katex'], function(katex) {\n",
       "     console.log(\"Loaded :)\");\n",
       "     console.log(katex)\n",
       "     window.katex = katex\n",
       "     return {};\n",
       "});\n",
       "</script>\n"
      ],
      "text/plain": [
       "<IPython.core.display.HTML object>"
      ]
     },
     "metadata": {},
     "output_type": "display_data"
    },
    {
     "data": {
      "text/html": [
       "<link rel=\"stylesheet\" href=\"https://cdnjs.cloudflare.com/ajax/libs/KaTeX/0.9.0-beta1/katex.min.css\" integrity=\"sha384-VEnyslhHLHiYPca9KFkBB3CMeslnM9CzwjxsEbZTeA21JBm7tdLwKoZmCt3cZTYD\" crossorigin=\"anonymous\">"
      ],
      "text/plain": [
       "<IPython.core.display.HTML object>"
      ]
     },
     "metadata": {},
     "output_type": "display_data"
    }
   ],
   "source": [
    "script = \\\n",
    "\"\"\"\n",
    "<script>\n",
    "requirejs.config({\n",
    "    paths: { \n",
    "       'katex': ['//cdnjs.cloudflare.com/ajax/libs/KaTeX/0.9.0-beta1/katex.min'], \n",
    "                                              // strip .js ^, require adds it back\n",
    "    },\n",
    "});\n",
    "\n",
    "require(['katex'], function(katex) {\n",
    "     console.log(\"Loaded :)\");\n",
    "     console.log(katex)\n",
    "     window.katex = katex\n",
    "     return {};\n",
    "});\n",
    "</script>\n",
    "\"\"\"\n",
    "display(HTML(script))\n",
    "display(HTML('<link rel=\"stylesheet\" href=\"https://cdnjs.cloudflare.com/ajax/libs/KaTeX/0.9.0-beta1/katex.min.css\" integrity=\"sha384-VEnyslhHLHiYPca9KFkBB3CMeslnM9CzwjxsEbZTeA21JBm7tdLwKoZmCt3cZTYD\" crossorigin=\"anonymous\">'))\n"
   ]
  },
  {
   "cell_type": "code",
   "execution_count": 73,
   "metadata": {
    "collapsed": false,
    "scrolled": false
   },
   "outputs": [
    {
     "name": "stdout",
     "output_type": "stream",
     "text": [
      "equation EQDS31476149Q:\n"
     ]
    },
    {
     "data": {
      "text/html": [
       "<div id=\"5774ac0a-4580-11e8-9af1-f01fafd68a7f\"/>"
      ]
     },
     "metadata": {},
     "output_type": "display_data"
    },
    {
     "data": {
      "application/javascript": [
       "\n",
       "var ctx = function()                                  {\n",
       "var whenAvailable = function(name,                                     callback) {\n",
       "\tvar interval = 10; // ms\n",
       "\twindow.setTimeout(function() {\n",
       "\tif (window[name]) {\n",
       "\t\tcallback();\n",
       "\t} else {\n",
       "\t\twindow.setTimeout(arguments.callee,                                     interval);\n",
       "\t}\n",
       "}, interval);\n",
       "}\n",
       "\n",
       "var katex_try = function(s, el) {\n",
       "\t try {\t\twindow.katex.render(s, el);\n",
       "} catch(err) {\n",
       "\t\t el.innerHTML = s;\n",
       "\t}\n",
       "}\n",
       "var render_katex = function(id) { \n",
       "\tvar parent = document.getElementById(id);\n",
       "\tvar newChild = document.createElement('span');\n",
       "katex_try(\"  \\\\begin{aligned}\\\\hat{x}(t+1) = a\\\\hat{x}(t) +  K(t) y(t)\\\\\\\\\\\\n\\\\check{x}(t+1)= aN(P+N)^{-1} \\\\check{x}(t) + x(t+1)-ax(t)  \\\\\\\\\\\\n ~~~+ a\\\\bar{\\\\sigma}_t^2 (\\\\bar{\\\\sigma}_t^2 + N_\\\\textup{f})^{-1}(x(t) - \\\\check{x}(t) - y_\\\\textup{f}(t))\\\\\\\\ z(t) = \\\\frac{\\\\sqrt{P}}{\\\\sigma_t} \\\\check{x}(t),\\\\\\\\\\\\n \\\\end{aligned} \\n\", newChild);\n",
       "parent.appendChild(newChild);\n",
       "}\n",
       "whenAvailable(\"katex\", function(){render_katex(\"5774ac0a-4580-11e8-9af1-f01fafd68a7f\");});\n",
       "}\n",
       "ctx();\n"
      ]
     },
     "metadata": {},
     "output_type": "display_data"
    },
    {
     "name": "stdout",
     "output_type": "stream",
     "text": [
      "split components:\n"
     ]
    },
    {
     "data": {
      "text/html": [
       "<div id=\"57757ab8-4580-11e8-9af1-f01fafd68a7f\"/>"
      ]
     },
     "metadata": {},
     "output_type": "display_data"
    },
    {
     "data": {
      "application/javascript": [
       "\n",
       "var ctx = function()                                  {\n",
       "var whenAvailable = function(name,                                     callback) {\n",
       "\tvar interval = 10; // ms\n",
       "\twindow.setTimeout(function() {\n",
       "\tif (window[name]) {\n",
       "\t\tcallback();\n",
       "\t} else {\n",
       "\t\twindow.setTimeout(arguments.callee,                                     interval);\n",
       "\t}\n",
       "}, interval);\n",
       "}\n",
       "\n",
       "var katex_try = function(s, el) {\n",
       "\t try {\t\twindow.katex.render(s, el);\n",
       "} catch(err) {\n",
       "\t\t el.innerHTML = s;\n",
       "\t}\n",
       "}\n",
       "var render_katex = function(id) { \n",
       "\tvar parent = document.getElementById(id);\n",
       "\tvar newChild = document.createElement('span');\n",
       "katex_try(\" a\\\\hat{x}(t) +  K(t) y(t)\\\\\\\\\\\\n\\\\check{x}(t+1)\", newChild);\n",
       "parent.appendChild(newChild);\n",
       "}\n",
       "whenAvailable(\"katex\", function(){render_katex(\"57757ab8-4580-11e8-9af1-f01fafd68a7f\");});\n",
       "}\n",
       "ctx();\n"
      ]
     },
     "metadata": {},
     "output_type": "display_data"
    },
    {
     "data": {
      "text/html": [
       "<div id=\"577640f6-4580-11e8-9af1-f01fafd68a7f\"/>"
      ]
     },
     "metadata": {},
     "output_type": "display_data"
    },
    {
     "data": {
      "application/javascript": [
       "\n",
       "var ctx = function()                                  {\n",
       "var whenAvailable = function(name,                                     callback) {\n",
       "\tvar interval = 10; // ms\n",
       "\twindow.setTimeout(function() {\n",
       "\tif (window[name]) {\n",
       "\t\tcallback();\n",
       "\t} else {\n",
       "\t\twindow.setTimeout(arguments.callee,                                     interval);\n",
       "\t}\n",
       "}, interval);\n",
       "}\n",
       "\n",
       "var katex_try = function(s, el) {\n",
       "\t try {\t\twindow.katex.render(s, el);\n",
       "} catch(err) {\n",
       "\t\t el.innerHTML = s;\n",
       "\t}\n",
       "}\n",
       "var render_katex = function(id) { \n",
       "\tvar parent = document.getElementById(id);\n",
       "\tvar newChild = document.createElement('span');\n",
       "katex_try(\" aN(P+N)^{-1} \\\\check{x}(t) + x(t+1)-ax(t)  \\\\\\\\\\\\n ~~~+ a\\\\bar{\\\\sigma}_t^2 (\\\\bar{\\\\sigma}_t^2 + N_\\\\textup{f})^{-1}(x(t) - \\\\check{x}(t) - y_\\\\textup{f}(t))\\\\\\\\ z(t) \", newChild);\n",
       "parent.appendChild(newChild);\n",
       "}\n",
       "whenAvailable(\"katex\", function(){render_katex(\"577640f6-4580-11e8-9af1-f01fafd68a7f\");});\n",
       "}\n",
       "ctx();\n"
      ]
     },
     "metadata": {},
     "output_type": "display_data"
    },
    {
     "data": {
      "text/html": [
       "<div id=\"5776bd56-4580-11e8-9af1-f01fafd68a7f\"/>"
      ]
     },
     "metadata": {},
     "output_type": "display_data"
    },
    {
     "data": {
      "application/javascript": [
       "\n",
       "var ctx = function()                                  {\n",
       "var whenAvailable = function(name,                                     callback) {\n",
       "\tvar interval = 10; // ms\n",
       "\twindow.setTimeout(function() {\n",
       "\tif (window[name]) {\n",
       "\t\tcallback();\n",
       "\t} else {\n",
       "\t\twindow.setTimeout(arguments.callee,                                     interval);\n",
       "\t}\n",
       "}, interval);\n",
       "}\n",
       "\n",
       "var katex_try = function(s, el) {\n",
       "\t try {\t\twindow.katex.render(s, el);\n",
       "} catch(err) {\n",
       "\t\t el.innerHTML = s;\n",
       "\t}\n",
       "}\n",
       "var render_katex = function(id) { \n",
       "\tvar parent = document.getElementById(id);\n",
       "\tvar newChild = document.createElement('span');\n",
       "katex_try(\" \\\\frac{\\\\sqrt{P}}{\\\\sigma_t} \\\\check{x}(t),\\\\\\\\\\\\n \\\\end{aligned} \\n\", newChild);\n",
       "parent.appendChild(newChild);\n",
       "}\n",
       "whenAvailable(\"katex\", function(){render_katex(\"5776bd56-4580-11e8-9af1-f01fafd68a7f\");});\n",
       "}\n",
       "ctx();\n"
      ]
     },
     "metadata": {},
     "output_type": "display_data"
    },
    {
     "name": "stdout",
     "output_type": "stream",
     "text": [
      "equation EQDS47110384Q:\n"
     ]
    },
    {
     "data": {
      "text/html": [
       "<div id=\"577750cc-4580-11e8-9af1-f01fafd68a7f\"/>"
      ]
     },
     "metadata": {},
     "output_type": "display_data"
    },
    {
     "data": {
      "application/javascript": [
       "\n",
       "var ctx = function()                                  {\n",
       "var whenAvailable = function(name,                                     callback) {\n",
       "\tvar interval = 10; // ms\n",
       "\twindow.setTimeout(function() {\n",
       "\tif (window[name]) {\n",
       "\t\tcallback();\n",
       "\t} else {\n",
       "\t\twindow.setTimeout(arguments.callee,                                     interval);\n",
       "\t}\n",
       "}, interval);\n",
       "}\n",
       "\n",
       "var katex_try = function(s, el) {\n",
       "\t try {\t\twindow.katex.render(s, el);\n",
       "} catch(err) {\n",
       "\t\t el.innerHTML = s;\n",
       "\t}\n",
       "}\n",
       "var render_katex = function(id) { \n",
       "\tvar parent = document.getElementById(id);\n",
       "\tvar newChild = document.createElement('span');\n",
       "katex_try(\"\\\\begin{split}  (\\\\Sigma_{\\\\text{ext}})_{jk}(p) = \\\\Sigma_{jk}(p)-\\\\varphi^{l}  (\\\\Lambda_{lj;k}^{(3)}(p)-\\\\Gamma_{ljk}^{(3)})  \\\\\\\\\\\\n  = \\\\Sigma_{jk} - \\\\vec{\\\\varphi}^{2} \\\\{ [3 \\\\lambda +  \\\\Lambda_{2}^{(3)}(p)+2\\\\Lambda_{4}^{(3)}(p)] P_{\\\\parallel jk}+  [\\\\lambda+\\\\Lambda_{3}^{(3)}(p)] P_{\\\\perp jk} \\\\} .\\\\end{split}\\n\", newChild);\n",
       "parent.appendChild(newChild);\n",
       "}\n",
       "whenAvailable(\"katex\", function(){render_katex(\"577750cc-4580-11e8-9af1-f01fafd68a7f\");});\n",
       "}\n",
       "ctx();\n"
      ]
     },
     "metadata": {},
     "output_type": "display_data"
    },
    {
     "name": "stdout",
     "output_type": "stream",
     "text": [
      "split components:\n"
     ]
    },
    {
     "data": {
      "text/html": [
       "<div id=\"5777f838-4580-11e8-9af1-f01fafd68a7f\"/>"
      ]
     },
     "metadata": {},
     "output_type": "display_data"
    },
    {
     "data": {
      "application/javascript": [
       "\n",
       "var ctx = function()                                  {\n",
       "var whenAvailable = function(name,                                     callback) {\n",
       "\tvar interval = 10; // ms\n",
       "\twindow.setTimeout(function() {\n",
       "\tif (window[name]) {\n",
       "\t\tcallback();\n",
       "\t} else {\n",
       "\t\twindow.setTimeout(arguments.callee,                                     interval);\n",
       "\t}\n",
       "}, interval);\n",
       "}\n",
       "\n",
       "var katex_try = function(s, el) {\n",
       "\t try {\t\twindow.katex.render(s, el);\n",
       "} catch(err) {\n",
       "\t\t el.innerHTML = s;\n",
       "\t}\n",
       "}\n",
       "var render_katex = function(id) { \n",
       "\tvar parent = document.getElementById(id);\n",
       "\tvar newChild = document.createElement('span');\n",
       "katex_try(\" \\\\Sigma_{jk}(p)-\\\\varphi^{l}  (\\\\Lambda_{lj;k}^{(3)}(p)-\\\\Gamma_{ljk}^{(3)})  \\\\\\\\\\\\n  \", newChild);\n",
       "parent.appendChild(newChild);\n",
       "}\n",
       "whenAvailable(\"katex\", function(){render_katex(\"5777f838-4580-11e8-9af1-f01fafd68a7f\");});\n",
       "}\n",
       "ctx();\n"
      ]
     },
     "metadata": {},
     "output_type": "display_data"
    },
    {
     "data": {
      "text/html": [
       "<div id=\"57788492-4580-11e8-9af1-f01fafd68a7f\"/>"
      ]
     },
     "metadata": {},
     "output_type": "display_data"
    },
    {
     "data": {
      "application/javascript": [
       "\n",
       "var ctx = function()                                  {\n",
       "var whenAvailable = function(name,                                     callback) {\n",
       "\tvar interval = 10; // ms\n",
       "\twindow.setTimeout(function() {\n",
       "\tif (window[name]) {\n",
       "\t\tcallback();\n",
       "\t} else {\n",
       "\t\twindow.setTimeout(arguments.callee,                                     interval);\n",
       "\t}\n",
       "}, interval);\n",
       "}\n",
       "\n",
       "var katex_try = function(s, el) {\n",
       "\t try {\t\twindow.katex.render(s, el);\n",
       "} catch(err) {\n",
       "\t\t el.innerHTML = s;\n",
       "\t}\n",
       "}\n",
       "var render_katex = function(id) { \n",
       "\tvar parent = document.getElementById(id);\n",
       "\tvar newChild = document.createElement('span');\n",
       "katex_try(\" \\\\Sigma_{jk} - \\\\vec{\\\\varphi}^{2} \\\\{ [3 \\\\lambda +  \\\\Lambda_{2}^{(3)}(p)+2\\\\Lambda_{4}^{(3)}(p)] P_{\\\\parallel jk}+  [\\\\lambda+\\\\Lambda_{3}^{(3)}(p)] P_{\\\\perp jk} \\\\} .\\\\end{split}\\n\", newChild);\n",
       "parent.appendChild(newChild);\n",
       "}\n",
       "whenAvailable(\"katex\", function(){render_katex(\"57788492-4580-11e8-9af1-f01fafd68a7f\");});\n",
       "}\n",
       "ctx();\n"
      ]
     },
     "metadata": {},
     "output_type": "display_data"
    },
    {
     "name": "stdout",
     "output_type": "stream",
     "text": [
      "equation EQDS55434139Q:\n"
     ]
    },
    {
     "data": {
      "text/html": [
       "<div id=\"57790868-4580-11e8-9af1-f01fafd68a7f\"/>"
      ]
     },
     "metadata": {},
     "output_type": "display_data"
    },
    {
     "data": {
      "application/javascript": [
       "\n",
       "var ctx = function()                                  {\n",
       "var whenAvailable = function(name,                                     callback) {\n",
       "\tvar interval = 10; // ms\n",
       "\twindow.setTimeout(function() {\n",
       "\tif (window[name]) {\n",
       "\t\tcallback();\n",
       "\t} else {\n",
       "\t\twindow.setTimeout(arguments.callee,                                     interval);\n",
       "\t}\n",
       "}, interval);\n",
       "}\n",
       "\n",
       "var katex_try = function(s, el) {\n",
       "\t try {\t\twindow.katex.render(s, el);\n",
       "} catch(err) {\n",
       "\t\t el.innerHTML = s;\n",
       "\t}\n",
       "}\n",
       "var render_katex = function(id) { \n",
       "\tvar parent = document.getElementById(id);\n",
       "\tvar newChild = document.createElement('span');\n",
       "katex_try(\"\\\\lim_{n\\\\to\\\\infty}\\\\frac{\\\\log(\\\\rho^{\\\\star}_{\\\\lambda^{\\\\textup{{\\\\textsf{{UC}}}}}}(n))}{\\\\log(n)}=\\\\lim_{n\\\\to\\\\infty}\\\\frac{\\\\log(\\\\hat{\\\\rho}^{\\\\star}_{\\\\lambda^{\\\\textup{{\\\\textsf{{UC}}}}}}(n))}{\\\\log(n)}.\\n\", newChild);\n",
       "parent.appendChild(newChild);\n",
       "}\n",
       "whenAvailable(\"katex\", function(){render_katex(\"57790868-4580-11e8-9af1-f01fafd68a7f\");});\n",
       "}\n",
       "ctx();\n"
      ]
     },
     "metadata": {},
     "output_type": "display_data"
    },
    {
     "name": "stdout",
     "output_type": "stream",
     "text": [
      "split components:\n"
     ]
    },
    {
     "data": {
      "text/html": [
       "<div id=\"5779a82c-4580-11e8-9af1-f01fafd68a7f\"/>"
      ]
     },
     "metadata": {},
     "output_type": "display_data"
    },
    {
     "data": {
      "application/javascript": [
       "\n",
       "var ctx = function()                                  {\n",
       "var whenAvailable = function(name,                                     callback) {\n",
       "\tvar interval = 10; // ms\n",
       "\twindow.setTimeout(function() {\n",
       "\tif (window[name]) {\n",
       "\t\tcallback();\n",
       "\t} else {\n",
       "\t\twindow.setTimeout(arguments.callee,                                     interval);\n",
       "\t}\n",
       "}, interval);\n",
       "}\n",
       "\n",
       "var katex_try = function(s, el) {\n",
       "\t try {\t\twindow.katex.render(s, el);\n",
       "} catch(err) {\n",
       "\t\t el.innerHTML = s;\n",
       "\t}\n",
       "}\n",
       "var render_katex = function(id) { \n",
       "\tvar parent = document.getElementById(id);\n",
       "\tvar newChild = document.createElement('span');\n",
       "katex_try(\"\\\\lim_{n\\\\to\\\\infty}\\\\frac{\\\\log(\\\\rho^{\\\\star}_{\\\\lambda^{\\\\textup{{\\\\textsf{{UC}}}}}}(n))}{\\\\log(n)}\", newChild);\n",
       "parent.appendChild(newChild);\n",
       "}\n",
       "whenAvailable(\"katex\", function(){render_katex(\"5779a82c-4580-11e8-9af1-f01fafd68a7f\");});\n",
       "}\n",
       "ctx();\n"
      ]
     },
     "metadata": {},
     "output_type": "display_data"
    },
    {
     "data": {
      "text/html": [
       "<div id=\"577a296e-4580-11e8-9af1-f01fafd68a7f\"/>"
      ]
     },
     "metadata": {},
     "output_type": "display_data"
    },
    {
     "data": {
      "application/javascript": [
       "\n",
       "var ctx = function()                                  {\n",
       "var whenAvailable = function(name,                                     callback) {\n",
       "\tvar interval = 10; // ms\n",
       "\twindow.setTimeout(function() {\n",
       "\tif (window[name]) {\n",
       "\t\tcallback();\n",
       "\t} else {\n",
       "\t\twindow.setTimeout(arguments.callee,                                     interval);\n",
       "\t}\n",
       "}, interval);\n",
       "}\n",
       "\n",
       "var katex_try = function(s, el) {\n",
       "\t try {\t\twindow.katex.render(s, el);\n",
       "} catch(err) {\n",
       "\t\t el.innerHTML = s;\n",
       "\t}\n",
       "}\n",
       "var render_katex = function(id) { \n",
       "\tvar parent = document.getElementById(id);\n",
       "\tvar newChild = document.createElement('span');\n",
       "katex_try(\"\\\\lim_{n\\\\to\\\\infty}\\\\frac{\\\\log(\\\\hat{\\\\rho}^{\\\\star}_{\\\\lambda^{\\\\textup{{\\\\textsf{{UC}}}}}}(n))}{\\\\log(n)}.\\n\", newChild);\n",
       "parent.appendChild(newChild);\n",
       "}\n",
       "whenAvailable(\"katex\", function(){render_katex(\"577a296e-4580-11e8-9af1-f01fafd68a7f\");});\n",
       "}\n",
       "ctx();\n"
      ]
     },
     "metadata": {},
     "output_type": "display_data"
    },
    {
     "name": "stdout",
     "output_type": "stream",
     "text": [
      "equation EQDS53675739Q:\n"
     ]
    },
    {
     "data": {
      "text/html": [
       "<div id=\"577aa9b6-4580-11e8-9af1-f01fafd68a7f\"/>"
      ]
     },
     "metadata": {},
     "output_type": "display_data"
    },
    {
     "data": {
      "application/javascript": [
       "\n",
       "var ctx = function()                                  {\n",
       "var whenAvailable = function(name,                                     callback) {\n",
       "\tvar interval = 10; // ms\n",
       "\twindow.setTimeout(function() {\n",
       "\tif (window[name]) {\n",
       "\t\tcallback();\n",
       "\t} else {\n",
       "\t\twindow.setTimeout(arguments.callee,                                     interval);\n",
       "\t}\n",
       "}, interval);\n",
       "}\n",
       "\n",
       "var katex_try = function(s, el) {\n",
       "\t try {\t\twindow.katex.render(s, el);\n",
       "} catch(err) {\n",
       "\t\t el.innerHTML = s;\n",
       "\t}\n",
       "}\n",
       "var render_katex = function(id) { \n",
       "\tvar parent = document.getElementById(id);\n",
       "\tvar newChild = document.createElement('span');\n",
       "katex_try(\"\\\\begin{split}I_1  = \\\\int  \\\\limits_{0}^{\\\\beta_0}  {\\\\rm d} \\\\beta \\\\beta\\\\alpha \\\\left [ \\\\frac{\\\\beta}{\\\\pi \\\\alpha} +\\\\frac 1 2 + \\\\frac{\\\\pi\\\\alpha}{12\\\\beta} \\\\right ]\\\\;,\\\\\\\\\\\\nI_2  = \\\\int  \\\\limits_{0}^{\\\\beta_0}  {\\\\rm d} \\\\beta \\\\beta \\\\alpha \\\\left [\\\\frac{1}{1-e^{-\\\\pi \\\\alpha/\\\\beta}} - \\\\frac{\\\\beta}{\\\\pi \\\\alpha} - \\\\frac 1 2- \\\\frac{\\\\pi\\\\alpha}{12\\\\beta} \\\\right ].\\\\end{split} \\n\", newChild);\n",
       "parent.appendChild(newChild);\n",
       "}\n",
       "whenAvailable(\"katex\", function(){render_katex(\"577aa9b6-4580-11e8-9af1-f01fafd68a7f\");});\n",
       "}\n",
       "ctx();\n"
      ]
     },
     "metadata": {},
     "output_type": "display_data"
    },
    {
     "name": "stdout",
     "output_type": "stream",
     "text": [
      "split components:\n"
     ]
    },
    {
     "data": {
      "text/html": [
       "<div id=\"577b3c32-4580-11e8-9af1-f01fafd68a7f\"/>"
      ]
     },
     "metadata": {},
     "output_type": "display_data"
    },
    {
     "data": {
      "application/javascript": [
       "\n",
       "var ctx = function()                                  {\n",
       "var whenAvailable = function(name,                                     callback) {\n",
       "\tvar interval = 10; // ms\n",
       "\twindow.setTimeout(function() {\n",
       "\tif (window[name]) {\n",
       "\t\tcallback();\n",
       "\t} else {\n",
       "\t\twindow.setTimeout(arguments.callee,                                     interval);\n",
       "\t}\n",
       "}, interval);\n",
       "}\n",
       "\n",
       "var katex_try = function(s, el) {\n",
       "\t try {\t\twindow.katex.render(s, el);\n",
       "} catch(err) {\n",
       "\t\t el.innerHTML = s;\n",
       "\t}\n",
       "}\n",
       "var render_katex = function(id) { \n",
       "\tvar parent = document.getElementById(id);\n",
       "\tvar newChild = document.createElement('span');\n",
       "katex_try(\" \\\\int  \\\\limits_{0}^{\\\\beta_0}  {\\\\rm d} \\\\beta \\\\beta\\\\alpha \\\\left [ \\\\frac{\\\\beta}{\\\\pi \\\\alpha} +\\\\frac 1 2 + \\\\frac{\\\\pi\\\\alpha}{12\\\\beta} \\\\right ]\\\\;,\\\\\\\\\\\\nI_2  \", newChild);\n",
       "parent.appendChild(newChild);\n",
       "}\n",
       "whenAvailable(\"katex\", function(){render_katex(\"577b3c32-4580-11e8-9af1-f01fafd68a7f\");});\n",
       "}\n",
       "ctx();\n"
      ]
     },
     "metadata": {},
     "output_type": "display_data"
    },
    {
     "data": {
      "text/html": [
       "<div id=\"577bb9b4-4580-11e8-9af1-f01fafd68a7f\"/>"
      ]
     },
     "metadata": {},
     "output_type": "display_data"
    },
    {
     "data": {
      "application/javascript": [
       "\n",
       "var ctx = function()                                  {\n",
       "var whenAvailable = function(name,                                     callback) {\n",
       "\tvar interval = 10; // ms\n",
       "\twindow.setTimeout(function() {\n",
       "\tif (window[name]) {\n",
       "\t\tcallback();\n",
       "\t} else {\n",
       "\t\twindow.setTimeout(arguments.callee,                                     interval);\n",
       "\t}\n",
       "}, interval);\n",
       "}\n",
       "\n",
       "var katex_try = function(s, el) {\n",
       "\t try {\t\twindow.katex.render(s, el);\n",
       "} catch(err) {\n",
       "\t\t el.innerHTML = s;\n",
       "\t}\n",
       "}\n",
       "var render_katex = function(id) { \n",
       "\tvar parent = document.getElementById(id);\n",
       "\tvar newChild = document.createElement('span');\n",
       "katex_try(\" \\\\int  \\\\limits_{0}^{\\\\beta_0}  {\\\\rm d} \\\\beta \\\\beta \\\\alpha \\\\left [\\\\frac{1}{1-e^{-\\\\pi \\\\alpha/\\\\beta}} - \\\\frac{\\\\beta}{\\\\pi \\\\alpha} - \\\\frac 1 2- \\\\frac{\\\\pi\\\\alpha}{12\\\\beta} \\\\right ].\\\\end{split} \\n\", newChild);\n",
       "parent.appendChild(newChild);\n",
       "}\n",
       "whenAvailable(\"katex\", function(){render_katex(\"577bb9b4-4580-11e8-9af1-f01fafd68a7f\");});\n",
       "}\n",
       "ctx();\n"
      ]
     },
     "metadata": {},
     "output_type": "display_data"
    },
    {
     "name": "stdout",
     "output_type": "stream",
     "text": [
      "equation EQDS35881431Q:\n"
     ]
    },
    {
     "data": {
      "text/html": [
       "<div id=\"577c38f8-4580-11e8-9af1-f01fafd68a7f\"/>"
      ]
     },
     "metadata": {},
     "output_type": "display_data"
    },
    {
     "data": {
      "application/javascript": [
       "\n",
       "var ctx = function()                                  {\n",
       "var whenAvailable = function(name,                                     callback) {\n",
       "\tvar interval = 10; // ms\n",
       "\twindow.setTimeout(function() {\n",
       "\tif (window[name]) {\n",
       "\t\tcallback();\n",
       "\t} else {\n",
       "\t\twindow.setTimeout(arguments.callee,                                     interval);\n",
       "\t}\n",
       "}, interval);\n",
       "}\n",
       "\n",
       "var katex_try = function(s, el) {\n",
       "\t try {\t\twindow.katex.render(s, el);\n",
       "} catch(err) {\n",
       "\t\t el.innerHTML = s;\n",
       "\t}\n",
       "}\n",
       "var render_katex = function(id) { \n",
       "\tvar parent = document.getElementById(id);\n",
       "\tvar newChild = document.createElement('span');\n",
       "katex_try(\"w_{i}^*=\\\\pi_i\\\\frac{\\\\pi'W^*e_i}{\\\\pi'W^*\\\\pi}=\\\\frac{\\\\pi'W^*e_ie_i'\\\\pi}{\\\\pi'W^*\\\\pi}\\n\", newChild);\n",
       "parent.appendChild(newChild);\n",
       "}\n",
       "whenAvailable(\"katex\", function(){render_katex(\"577c38f8-4580-11e8-9af1-f01fafd68a7f\");});\n",
       "}\n",
       "ctx();\n"
      ]
     },
     "metadata": {},
     "output_type": "display_data"
    },
    {
     "name": "stdout",
     "output_type": "stream",
     "text": [
      "split components:\n"
     ]
    },
    {
     "data": {
      "text/html": [
       "<div id=\"577cc598-4580-11e8-9af1-f01fafd68a7f\"/>"
      ]
     },
     "metadata": {},
     "output_type": "display_data"
    },
    {
     "data": {
      "application/javascript": [
       "\n",
       "var ctx = function()                                  {\n",
       "var whenAvailable = function(name,                                     callback) {\n",
       "\tvar interval = 10; // ms\n",
       "\twindow.setTimeout(function() {\n",
       "\tif (window[name]) {\n",
       "\t\tcallback();\n",
       "\t} else {\n",
       "\t\twindow.setTimeout(arguments.callee,                                     interval);\n",
       "\t}\n",
       "}, interval);\n",
       "}\n",
       "\n",
       "var katex_try = function(s, el) {\n",
       "\t try {\t\twindow.katex.render(s, el);\n",
       "} catch(err) {\n",
       "\t\t el.innerHTML = s;\n",
       "\t}\n",
       "}\n",
       "var render_katex = function(id) { \n",
       "\tvar parent = document.getElementById(id);\n",
       "\tvar newChild = document.createElement('span');\n",
       "katex_try(\"\\\\pi_i\\\\frac{\\\\pi'W^*e_i}{\\\\pi'W^*\\\\pi}\", newChild);\n",
       "parent.appendChild(newChild);\n",
       "}\n",
       "whenAvailable(\"katex\", function(){render_katex(\"577cc598-4580-11e8-9af1-f01fafd68a7f\");});\n",
       "}\n",
       "ctx();\n"
      ]
     },
     "metadata": {},
     "output_type": "display_data"
    },
    {
     "data": {
      "text/html": [
       "<div id=\"577d3b72-4580-11e8-9af1-f01fafd68a7f\"/>"
      ]
     },
     "metadata": {},
     "output_type": "display_data"
    },
    {
     "data": {
      "application/javascript": [
       "\n",
       "var ctx = function()                                  {\n",
       "var whenAvailable = function(name,                                     callback) {\n",
       "\tvar interval = 10; // ms\n",
       "\twindow.setTimeout(function() {\n",
       "\tif (window[name]) {\n",
       "\t\tcallback();\n",
       "\t} else {\n",
       "\t\twindow.setTimeout(arguments.callee,                                     interval);\n",
       "\t}\n",
       "}, interval);\n",
       "}\n",
       "\n",
       "var katex_try = function(s, el) {\n",
       "\t try {\t\twindow.katex.render(s, el);\n",
       "} catch(err) {\n",
       "\t\t el.innerHTML = s;\n",
       "\t}\n",
       "}\n",
       "var render_katex = function(id) { \n",
       "\tvar parent = document.getElementById(id);\n",
       "\tvar newChild = document.createElement('span');\n",
       "katex_try(\"\\\\frac{\\\\pi'W^*e_ie_i'\\\\pi}{\\\\pi'W^*\\\\pi}\\n\", newChild);\n",
       "parent.appendChild(newChild);\n",
       "}\n",
       "whenAvailable(\"katex\", function(){render_katex(\"577d3b72-4580-11e8-9af1-f01fafd68a7f\");});\n",
       "}\n",
       "ctx();\n"
      ]
     },
     "metadata": {},
     "output_type": "display_data"
    },
    {
     "name": "stdout",
     "output_type": "stream",
     "text": [
      "equation EQDS19060802Q:\n"
     ]
    },
    {
     "data": {
      "text/html": [
       "<div id=\"577dafee-4580-11e8-9af1-f01fafd68a7f\"/>"
      ]
     },
     "metadata": {},
     "output_type": "display_data"
    },
    {
     "data": {
      "application/javascript": [
       "\n",
       "var ctx = function()                                  {\n",
       "var whenAvailable = function(name,                                     callback) {\n",
       "\tvar interval = 10; // ms\n",
       "\twindow.setTimeout(function() {\n",
       "\tif (window[name]) {\n",
       "\t\tcallback();\n",
       "\t} else {\n",
       "\t\twindow.setTimeout(arguments.callee,                                     interval);\n",
       "\t}\n",
       "}, interval);\n",
       "}\n",
       "\n",
       "var katex_try = function(s, el) {\n",
       "\t try {\t\twindow.katex.render(s, el);\n",
       "} catch(err) {\n",
       "\t\t el.innerHTML = s;\n",
       "\t}\n",
       "}\n",
       "var render_katex = function(id) { \n",
       "\tvar parent = document.getElementById(id);\n",
       "\tvar newChild = document.createElement('span');\n",
       "katex_try(\"\\\\frac{L^{3/2} }{12 \\\\pi}+\\\\frac{ \\\\sqrt{L}}{\\\\pi}=s\\\\,\\\\sqrt{b} \\\\;\\\\;\\\\;\\\\textrm{and} \\\\;\\\\;\\\\;  R=\\\\frac{2 \\\\pi}{\\\\sqrt{L}}-\\\\frac{ \\\\pi \\\\sqrt{L}}{2}\\n\", newChild);\n",
       "parent.appendChild(newChild);\n",
       "}\n",
       "whenAvailable(\"katex\", function(){render_katex(\"577dafee-4580-11e8-9af1-f01fafd68a7f\");});\n",
       "}\n",
       "ctx();\n"
      ]
     },
     "metadata": {},
     "output_type": "display_data"
    },
    {
     "name": "stdout",
     "output_type": "stream",
     "text": [
      "split components:\n"
     ]
    },
    {
     "data": {
      "text/html": [
       "<div id=\"577e300e-4580-11e8-9af1-f01fafd68a7f\"/>"
      ]
     },
     "metadata": {},
     "output_type": "display_data"
    },
    {
     "data": {
      "application/javascript": [
       "\n",
       "var ctx = function()                                  {\n",
       "var whenAvailable = function(name,                                     callback) {\n",
       "\tvar interval = 10; // ms\n",
       "\twindow.setTimeout(function() {\n",
       "\tif (window[name]) {\n",
       "\t\tcallback();\n",
       "\t} else {\n",
       "\t\twindow.setTimeout(arguments.callee,                                     interval);\n",
       "\t}\n",
       "}, interval);\n",
       "}\n",
       "\n",
       "var katex_try = function(s, el) {\n",
       "\t try {\t\twindow.katex.render(s, el);\n",
       "} catch(err) {\n",
       "\t\t el.innerHTML = s;\n",
       "\t}\n",
       "}\n",
       "var render_katex = function(id) { \n",
       "\tvar parent = document.getElementById(id);\n",
       "\tvar newChild = document.createElement('span');\n",
       "katex_try(\"\\\\frac{L^{3/2} }{12 \\\\pi}+\\\\frac{ \\\\sqrt{L}}{\\\\pi}\", newChild);\n",
       "parent.appendChild(newChild);\n",
       "}\n",
       "whenAvailable(\"katex\", function(){render_katex(\"577e300e-4580-11e8-9af1-f01fafd68a7f\");});\n",
       "}\n",
       "ctx();\n"
      ]
     },
     "metadata": {},
     "output_type": "display_data"
    },
    {
     "data": {
      "text/html": [
       "<div id=\"577e9ea4-4580-11e8-9af1-f01fafd68a7f\"/>"
      ]
     },
     "metadata": {},
     "output_type": "display_data"
    },
    {
     "data": {
      "application/javascript": [
       "\n",
       "var ctx = function()                                  {\n",
       "var whenAvailable = function(name,                                     callback) {\n",
       "\tvar interval = 10; // ms\n",
       "\twindow.setTimeout(function() {\n",
       "\tif (window[name]) {\n",
       "\t\tcallback();\n",
       "\t} else {\n",
       "\t\twindow.setTimeout(arguments.callee,                                     interval);\n",
       "\t}\n",
       "}, interval);\n",
       "}\n",
       "\n",
       "var katex_try = function(s, el) {\n",
       "\t try {\t\twindow.katex.render(s, el);\n",
       "} catch(err) {\n",
       "\t\t el.innerHTML = s;\n",
       "\t}\n",
       "}\n",
       "var render_katex = function(id) { \n",
       "\tvar parent = document.getElementById(id);\n",
       "\tvar newChild = document.createElement('span');\n",
       "katex_try(\"s\\\\,\\\\sqrt{b} \\\\;\\\\;\\\\;\\\\textrm{and} \\\\;\\\\;\\\\;  R\", newChild);\n",
       "parent.appendChild(newChild);\n",
       "}\n",
       "whenAvailable(\"katex\", function(){render_katex(\"577e9ea4-4580-11e8-9af1-f01fafd68a7f\");});\n",
       "}\n",
       "ctx();\n"
      ]
     },
     "metadata": {},
     "output_type": "display_data"
    },
    {
     "data": {
      "text/html": [
       "<div id=\"577ef868-4580-11e8-9af1-f01fafd68a7f\"/>"
      ]
     },
     "metadata": {},
     "output_type": "display_data"
    },
    {
     "data": {
      "application/javascript": [
       "\n",
       "var ctx = function()                                  {\n",
       "var whenAvailable = function(name,                                     callback) {\n",
       "\tvar interval = 10; // ms\n",
       "\twindow.setTimeout(function() {\n",
       "\tif (window[name]) {\n",
       "\t\tcallback();\n",
       "\t} else {\n",
       "\t\twindow.setTimeout(arguments.callee,                                     interval);\n",
       "\t}\n",
       "}, interval);\n",
       "}\n",
       "\n",
       "var katex_try = function(s, el) {\n",
       "\t try {\t\twindow.katex.render(s, el);\n",
       "} catch(err) {\n",
       "\t\t el.innerHTML = s;\n",
       "\t}\n",
       "}\n",
       "var render_katex = function(id) { \n",
       "\tvar parent = document.getElementById(id);\n",
       "\tvar newChild = document.createElement('span');\n",
       "katex_try(\"\\\\frac{2 \\\\pi}{\\\\sqrt{L}}-\\\\frac{ \\\\pi \\\\sqrt{L}}{2}\\n\", newChild);\n",
       "parent.appendChild(newChild);\n",
       "}\n",
       "whenAvailable(\"katex\", function(){render_katex(\"577ef868-4580-11e8-9af1-f01fafd68a7f\");});\n",
       "}\n",
       "ctx();\n"
      ]
     },
     "metadata": {},
     "output_type": "display_data"
    },
    {
     "name": "stdout",
     "output_type": "stream",
     "text": [
      "equation EQDS3218765Q:\n"
     ]
    },
    {
     "data": {
      "text/html": [
       "<div id=\"577f5c72-4580-11e8-9af1-f01fafd68a7f\"/>"
      ]
     },
     "metadata": {},
     "output_type": "display_data"
    },
    {
     "data": {
      "application/javascript": [
       "\n",
       "var ctx = function()                                  {\n",
       "var whenAvailable = function(name,                                     callback) {\n",
       "\tvar interval = 10; // ms\n",
       "\twindow.setTimeout(function() {\n",
       "\tif (window[name]) {\n",
       "\t\tcallback();\n",
       "\t} else {\n",
       "\t\twindow.setTimeout(arguments.callee,                                     interval);\n",
       "\t}\n",
       "}, interval);\n",
       "}\n",
       "\n",
       "var katex_try = function(s, el) {\n",
       "\t try {\t\twindow.katex.render(s, el);\n",
       "} catch(err) {\n",
       "\t\t el.innerHTML = s;\n",
       "\t}\n",
       "}\n",
       "var render_katex = function(id) { \n",
       "\tvar parent = document.getElementById(id);\n",
       "\tvar newChild = document.createElement('span');\n",
       "katex_try(\"\\\\bigcup_{i \\\\in I} \\\\Omega_i : {\\\\mathcal{X}} {\\\\dashrightarrow} {\\\\mathcal{Y}},  \\\\left( \\\\bigcup_{i \\\\in I} \\\\Omega_i \\\\right)(x):=\\\\bigcup_{i \\\\in I} \\\\Omega_i(x) \\\\text{ for all } x \\\\in {\\\\mathcal{X}}.\\n\", newChild);\n",
       "parent.appendChild(newChild);\n",
       "}\n",
       "whenAvailable(\"katex\", function(){render_katex(\"577f5c72-4580-11e8-9af1-f01fafd68a7f\");});\n",
       "}\n",
       "ctx();\n"
      ]
     },
     "metadata": {},
     "output_type": "display_data"
    },
    {
     "name": "stdout",
     "output_type": "stream",
     "text": [
      "split components:\n"
     ]
    },
    {
     "data": {
      "text/html": [
       "<div id=\"577fd490-4580-11e8-9af1-f01fafd68a7f\"/>"
      ]
     },
     "metadata": {},
     "output_type": "display_data"
    },
    {
     "data": {
      "application/javascript": [
       "\n",
       "var ctx = function()                                  {\n",
       "var whenAvailable = function(name,                                     callback) {\n",
       "\tvar interval = 10; // ms\n",
       "\twindow.setTimeout(function() {\n",
       "\tif (window[name]) {\n",
       "\t\tcallback();\n",
       "\t} else {\n",
       "\t\twindow.setTimeout(arguments.callee,                                     interval);\n",
       "\t}\n",
       "}, interval);\n",
       "}\n",
       "\n",
       "var katex_try = function(s, el) {\n",
       "\t try {\t\twindow.katex.render(s, el);\n",
       "} catch(err) {\n",
       "\t\t el.innerHTML = s;\n",
       "\t}\n",
       "}\n",
       "var render_katex = function(id) { \n",
       "\tvar parent = document.getElementById(id);\n",
       "\tvar newChild = document.createElement('span');\n",
       "katex_try(\"\\\\bigcup_{i \\\\in I} \\\\Omega_i : {\\\\mathcal{X}} {\\\\dashrightarrow} {\\\\mathcal{Y}},  \\\\left( \\\\bigcup_{i \\\\in I} \\\\Omega_i \\\\right)(x):\", newChild);\n",
       "parent.appendChild(newChild);\n",
       "}\n",
       "whenAvailable(\"katex\", function(){render_katex(\"577fd490-4580-11e8-9af1-f01fafd68a7f\");});\n",
       "}\n",
       "ctx();\n"
      ]
     },
     "metadata": {},
     "output_type": "display_data"
    },
    {
     "data": {
      "text/html": [
       "<div id=\"5780391c-4580-11e8-9af1-f01fafd68a7f\"/>"
      ]
     },
     "metadata": {},
     "output_type": "display_data"
    },
    {
     "data": {
      "application/javascript": [
       "\n",
       "var ctx = function()                                  {\n",
       "var whenAvailable = function(name,                                     callback) {\n",
       "\tvar interval = 10; // ms\n",
       "\twindow.setTimeout(function() {\n",
       "\tif (window[name]) {\n",
       "\t\tcallback();\n",
       "\t} else {\n",
       "\t\twindow.setTimeout(arguments.callee,                                     interval);\n",
       "\t}\n",
       "}, interval);\n",
       "}\n",
       "\n",
       "var katex_try = function(s, el) {\n",
       "\t try {\t\twindow.katex.render(s, el);\n",
       "} catch(err) {\n",
       "\t\t el.innerHTML = s;\n",
       "\t}\n",
       "}\n",
       "var render_katex = function(id) { \n",
       "\tvar parent = document.getElementById(id);\n",
       "\tvar newChild = document.createElement('span');\n",
       "katex_try(\"\\\\bigcup_{i \\\\in I} \\\\Omega_i(x) \\\\text{ for all } x \\\\in {\\\\mathcal{X}}.\\n\", newChild);\n",
       "parent.appendChild(newChild);\n",
       "}\n",
       "whenAvailable(\"katex\", function(){render_katex(\"5780391c-4580-11e8-9af1-f01fafd68a7f\");});\n",
       "}\n",
       "ctx();\n"
      ]
     },
     "metadata": {},
     "output_type": "display_data"
    },
    {
     "name": "stdout",
     "output_type": "stream",
     "text": [
      "equation EQDS22347153Q:\n"
     ]
    },
    {
     "data": {
      "text/html": [
       "<div id=\"578099ca-4580-11e8-9af1-f01fafd68a7f\"/>"
      ]
     },
     "metadata": {},
     "output_type": "display_data"
    },
    {
     "data": {
      "application/javascript": [
       "\n",
       "var ctx = function()                                  {\n",
       "var whenAvailable = function(name,                                     callback) {\n",
       "\tvar interval = 10; // ms\n",
       "\twindow.setTimeout(function() {\n",
       "\tif (window[name]) {\n",
       "\t\tcallback();\n",
       "\t} else {\n",
       "\t\twindow.setTimeout(arguments.callee,                                     interval);\n",
       "\t}\n",
       "}, interval);\n",
       "}\n",
       "\n",
       "var katex_try = function(s, el) {\n",
       "\t try {\t\twindow.katex.render(s, el);\n",
       "} catch(err) {\n",
       "\t\t el.innerHTML = s;\n",
       "\t}\n",
       "}\n",
       "var render_katex = function(id) { \n",
       "\tvar parent = document.getElementById(id);\n",
       "\tvar newChild = document.createElement('span');\n",
       "katex_try(\"\\\\textstyle p_0-1=\\\\frac{2\\\\delta}{\\\\delta+1} (p-1),  \\\\frac{1}{p}= \\\\frac{1}{2p_0}+\\\\frac{1}{2p_1}.\\n\", newChild);\n",
       "parent.appendChild(newChild);\n",
       "}\n",
       "whenAvailable(\"katex\", function(){render_katex(\"578099ca-4580-11e8-9af1-f01fafd68a7f\");});\n",
       "}\n",
       "ctx();\n"
      ]
     },
     "metadata": {},
     "output_type": "display_data"
    },
    {
     "name": "stdout",
     "output_type": "stream",
     "text": [
      "split components:\n"
     ]
    },
    {
     "data": {
      "text/html": [
       "<div id=\"578109e6-4580-11e8-9af1-f01fafd68a7f\"/>"
      ]
     },
     "metadata": {},
     "output_type": "display_data"
    },
    {
     "data": {
      "application/javascript": [
       "\n",
       "var ctx = function()                                  {\n",
       "var whenAvailable = function(name,                                     callback) {\n",
       "\tvar interval = 10; // ms\n",
       "\twindow.setTimeout(function() {\n",
       "\tif (window[name]) {\n",
       "\t\tcallback();\n",
       "\t} else {\n",
       "\t\twindow.setTimeout(arguments.callee,                                     interval);\n",
       "\t}\n",
       "}, interval);\n",
       "}\n",
       "\n",
       "var katex_try = function(s, el) {\n",
       "\t try {\t\twindow.katex.render(s, el);\n",
       "} catch(err) {\n",
       "\t\t el.innerHTML = s;\n",
       "\t}\n",
       "}\n",
       "var render_katex = function(id) { \n",
       "\tvar parent = document.getElementById(id);\n",
       "\tvar newChild = document.createElement('span');\n",
       "katex_try(\"\\\\textstyle p_0-1\", newChild);\n",
       "parent.appendChild(newChild);\n",
       "}\n",
       "whenAvailable(\"katex\", function(){render_katex(\"578109e6-4580-11e8-9af1-f01fafd68a7f\");});\n",
       "}\n",
       "ctx();\n"
      ]
     },
     "metadata": {},
     "output_type": "display_data"
    },
    {
     "data": {
      "text/html": [
       "<div id=\"57816b0c-4580-11e8-9af1-f01fafd68a7f\"/>"
      ]
     },
     "metadata": {},
     "output_type": "display_data"
    },
    {
     "data": {
      "application/javascript": [
       "\n",
       "var ctx = function()                                  {\n",
       "var whenAvailable = function(name,                                     callback) {\n",
       "\tvar interval = 10; // ms\n",
       "\twindow.setTimeout(function() {\n",
       "\tif (window[name]) {\n",
       "\t\tcallback();\n",
       "\t} else {\n",
       "\t\twindow.setTimeout(arguments.callee,                                     interval);\n",
       "\t}\n",
       "}, interval);\n",
       "}\n",
       "\n",
       "var katex_try = function(s, el) {\n",
       "\t try {\t\twindow.katex.render(s, el);\n",
       "} catch(err) {\n",
       "\t\t el.innerHTML = s;\n",
       "\t}\n",
       "}\n",
       "var render_katex = function(id) { \n",
       "\tvar parent = document.getElementById(id);\n",
       "\tvar newChild = document.createElement('span');\n",
       "katex_try(\"\\\\frac{2\\\\delta}{\\\\delta+1} (p-1),  \\\\frac{1}{p}\", newChild);\n",
       "parent.appendChild(newChild);\n",
       "}\n",
       "whenAvailable(\"katex\", function(){render_katex(\"57816b0c-4580-11e8-9af1-f01fafd68a7f\");});\n",
       "}\n",
       "ctx();\n"
      ]
     },
     "metadata": {},
     "output_type": "display_data"
    },
    {
     "data": {
      "text/html": [
       "<div id=\"5781b594-4580-11e8-9af1-f01fafd68a7f\"/>"
      ]
     },
     "metadata": {},
     "output_type": "display_data"
    },
    {
     "data": {
      "application/javascript": [
       "\n",
       "var ctx = function()                                  {\n",
       "var whenAvailable = function(name,                                     callback) {\n",
       "\tvar interval = 10; // ms\n",
       "\twindow.setTimeout(function() {\n",
       "\tif (window[name]) {\n",
       "\t\tcallback();\n",
       "\t} else {\n",
       "\t\twindow.setTimeout(arguments.callee,                                     interval);\n",
       "\t}\n",
       "}, interval);\n",
       "}\n",
       "\n",
       "var katex_try = function(s, el) {\n",
       "\t try {\t\twindow.katex.render(s, el);\n",
       "} catch(err) {\n",
       "\t\t el.innerHTML = s;\n",
       "\t}\n",
       "}\n",
       "var render_katex = function(id) { \n",
       "\tvar parent = document.getElementById(id);\n",
       "\tvar newChild = document.createElement('span');\n",
       "katex_try(\" \\\\frac{1}{2p_0}+\\\\frac{1}{2p_1}.\\n\", newChild);\n",
       "parent.appendChild(newChild);\n",
       "}\n",
       "whenAvailable(\"katex\", function(){render_katex(\"5781b594-4580-11e8-9af1-f01fafd68a7f\");});\n",
       "}\n",
       "ctx();\n"
      ]
     },
     "metadata": {},
     "output_type": "display_data"
    },
    {
     "name": "stdout",
     "output_type": "stream",
     "text": [
      "equation EQDS53765408Q:\n"
     ]
    },
    {
     "data": {
      "text/html": [
       "<div id=\"57821430-4580-11e8-9af1-f01fafd68a7f\"/>"
      ]
     },
     "metadata": {},
     "output_type": "display_data"
    },
    {
     "data": {
      "application/javascript": [
       "\n",
       "var ctx = function()                                  {\n",
       "var whenAvailable = function(name,                                     callback) {\n",
       "\tvar interval = 10; // ms\n",
       "\twindow.setTimeout(function() {\n",
       "\tif (window[name]) {\n",
       "\t\tcallback();\n",
       "\t} else {\n",
       "\t\twindow.setTimeout(arguments.callee,                                     interval);\n",
       "\t}\n",
       "}, interval);\n",
       "}\n",
       "\n",
       "var katex_try = function(s, el) {\n",
       "\t try {\t\twindow.katex.render(s, el);\n",
       "} catch(err) {\n",
       "\t\t el.innerHTML = s;\n",
       "\t}\n",
       "}\n",
       "var render_katex = function(id) { \n",
       "\tvar parent = document.getElementById(id);\n",
       "\tvar newChild = document.createElement('span');\n",
       "katex_try(\"\\\\label{}{\\\\mathfrak J}=\\\\frac{\\\\vec{\\\\eta} \\\\cdot \\\\vec{\\\\xi} + \\\\Omega\\\\vec{\\\\xi} \\\\cdot \\\\vec{\\\\xi}}{\\\\vec{\\\\eta}\\\\cdot \\\\vec{\\\\eta} + \\\\Omega\\\\vec{\\\\eta} \\\\cdot \\\\vec{\\\\xi}}=\\\\frac{{\\\\mathfrak R}^2\\\\Omega - \\\\omega}{\\\\Omega\\\\omega -1}.\\n\", newChild);\n",
       "parent.appendChild(newChild);\n",
       "}\n",
       "whenAvailable(\"katex\", function(){render_katex(\"57821430-4580-11e8-9af1-f01fafd68a7f\");});\n",
       "}\n",
       "ctx();\n"
      ]
     },
     "metadata": {},
     "output_type": "display_data"
    },
    {
     "name": "stdout",
     "output_type": "stream",
     "text": [
      "split components:\n"
     ]
    },
    {
     "data": {
      "text/html": [
       "<div id=\"57827c68-4580-11e8-9af1-f01fafd68a7f\"/>"
      ]
     },
     "metadata": {},
     "output_type": "display_data"
    },
    {
     "data": {
      "application/javascript": [
       "\n",
       "var ctx = function()                                  {\n",
       "var whenAvailable = function(name,                                     callback) {\n",
       "\tvar interval = 10; // ms\n",
       "\twindow.setTimeout(function() {\n",
       "\tif (window[name]) {\n",
       "\t\tcallback();\n",
       "\t} else {\n",
       "\t\twindow.setTimeout(arguments.callee,                                     interval);\n",
       "\t}\n",
       "}, interval);\n",
       "}\n",
       "\n",
       "var katex_try = function(s, el) {\n",
       "\t try {\t\twindow.katex.render(s, el);\n",
       "} catch(err) {\n",
       "\t\t el.innerHTML = s;\n",
       "\t}\n",
       "}\n",
       "var render_katex = function(id) { \n",
       "\tvar parent = document.getElementById(id);\n",
       "\tvar newChild = document.createElement('span');\n",
       "katex_try(\"\\\\frac{\\\\vec{\\\\eta} \\\\cdot \\\\vec{\\\\xi} + \\\\Omega\\\\vec{\\\\xi} \\\\cdot \\\\vec{\\\\xi}}{\\\\vec{\\\\eta}\\\\cdot \\\\vec{\\\\eta} + \\\\Omega\\\\vec{\\\\eta} \\\\cdot \\\\vec{\\\\xi}}\", newChild);\n",
       "parent.appendChild(newChild);\n",
       "}\n",
       "whenAvailable(\"katex\", function(){render_katex(\"57827c68-4580-11e8-9af1-f01fafd68a7f\");});\n",
       "}\n",
       "ctx();\n"
      ]
     },
     "metadata": {},
     "output_type": "display_data"
    },
    {
     "data": {
      "text/html": [
       "<div id=\"5782dd34-4580-11e8-9af1-f01fafd68a7f\"/>"
      ]
     },
     "metadata": {},
     "output_type": "display_data"
    },
    {
     "data": {
      "application/javascript": [
       "\n",
       "var ctx = function()                                  {\n",
       "var whenAvailable = function(name,                                     callback) {\n",
       "\tvar interval = 10; // ms\n",
       "\twindow.setTimeout(function() {\n",
       "\tif (window[name]) {\n",
       "\t\tcallback();\n",
       "\t} else {\n",
       "\t\twindow.setTimeout(arguments.callee,                                     interval);\n",
       "\t}\n",
       "}, interval);\n",
       "}\n",
       "\n",
       "var katex_try = function(s, el) {\n",
       "\t try {\t\twindow.katex.render(s, el);\n",
       "} catch(err) {\n",
       "\t\t el.innerHTML = s;\n",
       "\t}\n",
       "}\n",
       "var render_katex = function(id) { \n",
       "\tvar parent = document.getElementById(id);\n",
       "\tvar newChild = document.createElement('span');\n",
       "katex_try(\"\\\\frac{{\\\\mathfrak R}^2\\\\Omega - \\\\omega}{\\\\Omega\\\\omega -1}.\\n\", newChild);\n",
       "parent.appendChild(newChild);\n",
       "}\n",
       "whenAvailable(\"katex\", function(){render_katex(\"5782dd34-4580-11e8-9af1-f01fafd68a7f\");});\n",
       "}\n",
       "ctx();\n"
      ]
     },
     "metadata": {},
     "output_type": "display_data"
    },
    {
     "name": "stdout",
     "output_type": "stream",
     "text": [
      "equation EQDS43744995Q:\n"
     ]
    },
    {
     "data": {
      "text/html": [
       "<div id=\"578331da-4580-11e8-9af1-f01fafd68a7f\"/>"
      ]
     },
     "metadata": {},
     "output_type": "display_data"
    },
    {
     "data": {
      "application/javascript": [
       "\n",
       "var ctx = function()                                  {\n",
       "var whenAvailable = function(name,                                     callback) {\n",
       "\tvar interval = 10; // ms\n",
       "\twindow.setTimeout(function() {\n",
       "\tif (window[name]) {\n",
       "\t\tcallback();\n",
       "\t} else {\n",
       "\t\twindow.setTimeout(arguments.callee,                                     interval);\n",
       "\t}\n",
       "}, interval);\n",
       "}\n",
       "\n",
       "var katex_try = function(s, el) {\n",
       "\t try {\t\twindow.katex.render(s, el);\n",
       "} catch(err) {\n",
       "\t\t el.innerHTML = s;\n",
       "\t}\n",
       "}\n",
       "var render_katex = function(id) { \n",
       "\tvar parent = document.getElementById(id);\n",
       "\tvar newChild = document.createElement('span');\n",
       "katex_try(\"2-\\\\frac{\\\\nu}{z_1}-\\\\frac{\\\\nu}{z_2}=1\\\\mbox{with}\\\\frac{\\\\nu}{z_3}\\\\geq1\\n\", newChild);\n",
       "parent.appendChild(newChild);\n",
       "}\n",
       "whenAvailable(\"katex\", function(){render_katex(\"578331da-4580-11e8-9af1-f01fafd68a7f\");});\n",
       "}\n",
       "ctx();\n"
      ]
     },
     "metadata": {},
     "output_type": "display_data"
    },
    {
     "name": "stdout",
     "output_type": "stream",
     "text": [
      "split components:\n"
     ]
    },
    {
     "data": {
      "text/html": [
       "<div id=\"5783951c-4580-11e8-9af1-f01fafd68a7f\"/>"
      ]
     },
     "metadata": {},
     "output_type": "display_data"
    },
    {
     "data": {
      "application/javascript": [
       "\n",
       "var ctx = function()                                  {\n",
       "var whenAvailable = function(name,                                     callback) {\n",
       "\tvar interval = 10; // ms\n",
       "\twindow.setTimeout(function() {\n",
       "\tif (window[name]) {\n",
       "\t\tcallback();\n",
       "\t} else {\n",
       "\t\twindow.setTimeout(arguments.callee,                                     interval);\n",
       "\t}\n",
       "}, interval);\n",
       "}\n",
       "\n",
       "var katex_try = function(s, el) {\n",
       "\t try {\t\twindow.katex.render(s, el);\n",
       "} catch(err) {\n",
       "\t\t el.innerHTML = s;\n",
       "\t}\n",
       "}\n",
       "var render_katex = function(id) { \n",
       "\tvar parent = document.getElementById(id);\n",
       "\tvar newChild = document.createElement('span');\n",
       "katex_try(\"2-\\\\frac{\\\\nu}{z_1}-\\\\frac{\\\\nu}{z_2}\", newChild);\n",
       "parent.appendChild(newChild);\n",
       "}\n",
       "whenAvailable(\"katex\", function(){render_katex(\"5783951c-4580-11e8-9af1-f01fafd68a7f\");});\n",
       "}\n",
       "ctx();\n"
      ]
     },
     "metadata": {},
     "output_type": "display_data"
    },
    {
     "data": {
      "text/html": [
       "<div id=\"5783f318-4580-11e8-9af1-f01fafd68a7f\"/>"
      ]
     },
     "metadata": {},
     "output_type": "display_data"
    },
    {
     "data": {
      "application/javascript": [
       "\n",
       "var ctx = function()                                  {\n",
       "var whenAvailable = function(name,                                     callback) {\n",
       "\tvar interval = 10; // ms\n",
       "\twindow.setTimeout(function() {\n",
       "\tif (window[name]) {\n",
       "\t\tcallback();\n",
       "\t} else {\n",
       "\t\twindow.setTimeout(arguments.callee,                                     interval);\n",
       "\t}\n",
       "}, interval);\n",
       "}\n",
       "\n",
       "var katex_try = function(s, el) {\n",
       "\t try {\t\twindow.katex.render(s, el);\n",
       "} catch(err) {\n",
       "\t\t el.innerHTML = s;\n",
       "\t}\n",
       "}\n",
       "var render_katex = function(id) { \n",
       "\tvar parent = document.getElementById(id);\n",
       "\tvar newChild = document.createElement('span');\n",
       "katex_try(\"1\\\\mbox{with}\\\\frac{\\\\nu}{z_3}\\\\geq1\\n\", newChild);\n",
       "parent.appendChild(newChild);\n",
       "}\n",
       "whenAvailable(\"katex\", function(){render_katex(\"5783f318-4580-11e8-9af1-f01fafd68a7f\");});\n",
       "}\n",
       "ctx();\n"
      ]
     },
     "metadata": {},
     "output_type": "display_data"
    }
   ],
   "source": [
    "import json\n",
    "token_ex = None\n",
    "with open('all_eqs.jsonlist') as processed:\n",
    "    \n",
    "    for i, line in enumerate(processed):\n",
    "        line = json.loads(line)\n",
    "        if i > 10:\n",
    "            print (\"equation {id}:\".format(id=line['eq_id']))\n",
    "            katex(line['clean'].replace('\\\\\\\\', '\\\\'))._ipython_display_()\n",
    "            print (\"split components:\")\n",
    "            for eq in line['clean_split_filtered']:\n",
    "                katex(eq.replace('\\\\\\\\', '\\\\'))._ipython_display_()\n",
    "        \n",
    "        if i == 20:\n",
    "            token_ex = line\n",
    "            break\n",
    "        "
   ]
  },
  {
   "cell_type": "code",
   "execution_count": 72,
   "metadata": {
    "collapsed": false,
    "scrolled": false
   },
   "outputs": [
    {
     "name": "stdout",
     "output_type": "stream",
     "text": [
      "an example equation: \n"
     ]
    },
    {
     "data": {
      "text/html": [
       "<div id=\"856f65aa-4337-11e8-9af1-f01fafd68a7f\"/>"
      ]
     },
     "metadata": {},
     "output_type": "display_data"
    },
    {
     "data": {
      "application/javascript": [
       "\n",
       "var ctx = function()                                  {\n",
       "var whenAvailable = function(name,                                     callback) {\n",
       "\tvar interval = 10; // ms\n",
       "\twindow.setTimeout(function() {\n",
       "\tif (window[name]) {\n",
       "\t\tcallback();\n",
       "\t} else {\n",
       "\t\twindow.setTimeout(arguments.callee,                                     interval);\n",
       "\t}\n",
       "}, interval);\n",
       "}\n",
       "\n",
       "var katex_try = function(s, el) {\n",
       "\t try {\t\twindow.katex.render(s, el);\n",
       "} catch(err) {\n",
       "\t\t el.innerHTML = s;\n",
       "\t}\n",
       "}\n",
       "var render_katex = function(id) { \n",
       "\tvar parent = document.getElementById(id);\n",
       "\tvar newChild = document.createElement('span');\n",
       "katex_try(\"2-\\\\frac{\\\\nu}{z_1}-\\\\frac{\\\\nu}{z_2}=1\\\\mbox{with}\\\\frac{\\\\nu}{z_3}\\\\geq1\\n\", newChild);\n",
       "parent.appendChild(newChild);\n",
       "}\n",
       "whenAvailable(\"katex\", function(){render_katex(\"856f65aa-4337-11e8-9af1-f01fafd68a7f\");});\n",
       "}\n",
       "ctx();\n"
      ]
     },
     "metadata": {},
     "output_type": "display_data"
    },
    {
     "name": "stdout",
     "output_type": "stream",
     "text": [
      "split subequation\n"
     ]
    },
    {
     "data": {
      "text/html": [
       "<div id=\"85702756-4337-11e8-9af1-f01fafd68a7f\"/>"
      ]
     },
     "metadata": {},
     "output_type": "display_data"
    },
    {
     "data": {
      "application/javascript": [
       "\n",
       "var ctx = function()                                  {\n",
       "var whenAvailable = function(name,                                     callback) {\n",
       "\tvar interval = 10; // ms\n",
       "\twindow.setTimeout(function() {\n",
       "\tif (window[name]) {\n",
       "\t\tcallback();\n",
       "\t} else {\n",
       "\t\twindow.setTimeout(arguments.callee,                                     interval);\n",
       "\t}\n",
       "}, interval);\n",
       "}\n",
       "\n",
       "var katex_try = function(s, el) {\n",
       "\t try {\t\twindow.katex.render(s, el);\n",
       "} catch(err) {\n",
       "\t\t el.innerHTML = s;\n",
       "\t}\n",
       "}\n",
       "var render_katex = function(id) { \n",
       "\tvar parent = document.getElementById(id);\n",
       "\tvar newChild = document.createElement('span');\n",
       "katex_try(\"2-\\\\frac{\\\\nu}{z_1}-\\\\frac{\\\\nu}{z_2}\", newChild);\n",
       "parent.appendChild(newChild);\n",
       "}\n",
       "whenAvailable(\"katex\", function(){render_katex(\"85702756-4337-11e8-9af1-f01fafd68a7f\");});\n",
       "}\n",
       "ctx();\n"
      ]
     },
     "metadata": {},
     "output_type": "display_data"
    },
    {
     "name": "stdout",
     "output_type": "stream",
     "text": [
      "tokens: \n"
     ]
    },
    {
     "data": {
      "text/html": [
       "<div id=\"8570ca76-4337-11e8-9af1-f01fafd68a7f\"/>"
      ]
     },
     "metadata": {},
     "output_type": "display_data"
    },
    {
     "data": {
      "application/javascript": [
       "\n",
       "var ctx = function()                                  {\n",
       "var whenAvailable = function(name,                                     callback) {\n",
       "\tvar interval = 10; // ms\n",
       "\twindow.setTimeout(function() {\n",
       "\tif (window[name]) {\n",
       "\t\tcallback();\n",
       "\t} else {\n",
       "\t\twindow.setTimeout(arguments.callee,                                     interval);\n",
       "\t}\n",
       "}, interval);\n",
       "}\n",
       "\n",
       "var katex_try = function(s, el) {\n",
       "\t try {\t\twindow.katex.render(s, el);\n",
       "} catch(err) {\n",
       "\t\t el.innerHTML = s;\n",
       "\t}\n",
       "}\n",
       "var render_katex = function(id) { \n",
       "\tvar parent = document.getElementById(id);\n",
       "\tvar newChild = document.createElement('span');\n",
       "katex_try(\"START\", newChild);\n",
       "parent.appendChild(newChild);\n",
       "}\n",
       "whenAvailable(\"katex\", function(){render_katex(\"8570ca76-4337-11e8-9af1-f01fafd68a7f\");});\n",
       "}\n",
       "ctx();\n"
      ]
     },
     "metadata": {},
     "output_type": "display_data"
    },
    {
     "data": {
      "text/html": [
       "<div id=\"85716f12-4337-11e8-9af1-f01fafd68a7f\"/>"
      ]
     },
     "metadata": {},
     "output_type": "display_data"
    },
    {
     "data": {
      "application/javascript": [
       "\n",
       "var ctx = function()                                  {\n",
       "var whenAvailable = function(name,                                     callback) {\n",
       "\tvar interval = 10; // ms\n",
       "\twindow.setTimeout(function() {\n",
       "\tif (window[name]) {\n",
       "\t\tcallback();\n",
       "\t} else {\n",
       "\t\twindow.setTimeout(arguments.callee,                                     interval);\n",
       "\t}\n",
       "}, interval);\n",
       "}\n",
       "\n",
       "var katex_try = function(s, el) {\n",
       "\t try {\t\twindow.katex.render(s, el);\n",
       "} catch(err) {\n",
       "\t\t el.innerHTML = s;\n",
       "\t}\n",
       "}\n",
       "var render_katex = function(id) { \n",
       "\tvar parent = document.getElementById(id);\n",
       "\tvar newChild = document.createElement('span');\n",
       "katex_try(\"2\", newChild);\n",
       "parent.appendChild(newChild);\n",
       "}\n",
       "whenAvailable(\"katex\", function(){render_katex(\"85716f12-4337-11e8-9af1-f01fafd68a7f\");});\n",
       "}\n",
       "ctx();\n"
      ]
     },
     "metadata": {},
     "output_type": "display_data"
    },
    {
     "data": {
      "text/html": [
       "<div id=\"8571dd08-4337-11e8-9af1-f01fafd68a7f\"/>"
      ]
     },
     "metadata": {},
     "output_type": "display_data"
    },
    {
     "data": {
      "application/javascript": [
       "\n",
       "var ctx = function()                                  {\n",
       "var whenAvailable = function(name,                                     callback) {\n",
       "\tvar interval = 10; // ms\n",
       "\twindow.setTimeout(function() {\n",
       "\tif (window[name]) {\n",
       "\t\tcallback();\n",
       "\t} else {\n",
       "\t\twindow.setTimeout(arguments.callee,                                     interval);\n",
       "\t}\n",
       "}, interval);\n",
       "}\n",
       "\n",
       "var katex_try = function(s, el) {\n",
       "\t try {\t\twindow.katex.render(s, el);\n",
       "} catch(err) {\n",
       "\t\t el.innerHTML = s;\n",
       "\t}\n",
       "}\n",
       "var render_katex = function(id) { \n",
       "\tvar parent = document.getElementById(id);\n",
       "\tvar newChild = document.createElement('span');\n",
       "katex_try(\"-\", newChild);\n",
       "parent.appendChild(newChild);\n",
       "}\n",
       "whenAvailable(\"katex\", function(){render_katex(\"8571dd08-4337-11e8-9af1-f01fafd68a7f\");});\n",
       "}\n",
       "ctx();\n"
      ]
     },
     "metadata": {},
     "output_type": "display_data"
    },
    {
     "data": {
      "text/html": [
       "<div id=\"857251e8-4337-11e8-9af1-f01fafd68a7f\"/>"
      ]
     },
     "metadata": {},
     "output_type": "display_data"
    },
    {
     "data": {
      "application/javascript": [
       "\n",
       "var ctx = function()                                  {\n",
       "var whenAvailable = function(name,                                     callback) {\n",
       "\tvar interval = 10; // ms\n",
       "\twindow.setTimeout(function() {\n",
       "\tif (window[name]) {\n",
       "\t\tcallback();\n",
       "\t} else {\n",
       "\t\twindow.setTimeout(arguments.callee,                                     interval);\n",
       "\t}\n",
       "}, interval);\n",
       "}\n",
       "\n",
       "var katex_try = function(s, el) {\n",
       "\t try {\t\twindow.katex.render(s, el);\n",
       "} catch(err) {\n",
       "\t\t el.innerHTML = s;\n",
       "\t}\n",
       "}\n",
       "var render_katex = function(id) { \n",
       "\tvar parent = document.getElementById(id);\n",
       "\tvar newChild = document.createElement('span');\n",
       "katex_try(\"\\\\frac\", newChild);\n",
       "parent.appendChild(newChild);\n",
       "}\n",
       "whenAvailable(\"katex\", function(){render_katex(\"857251e8-4337-11e8-9af1-f01fafd68a7f\");});\n",
       "}\n",
       "ctx();\n"
      ]
     },
     "metadata": {},
     "output_type": "display_data"
    },
    {
     "data": {
      "text/html": [
       "<div id=\"8572c7c2-4337-11e8-9af1-f01fafd68a7f\"/>"
      ]
     },
     "metadata": {},
     "output_type": "display_data"
    },
    {
     "data": {
      "application/javascript": [
       "\n",
       "var ctx = function()                                  {\n",
       "var whenAvailable = function(name,                                     callback) {\n",
       "\tvar interval = 10; // ms\n",
       "\twindow.setTimeout(function() {\n",
       "\tif (window[name]) {\n",
       "\t\tcallback();\n",
       "\t} else {\n",
       "\t\twindow.setTimeout(arguments.callee,                                     interval);\n",
       "\t}\n",
       "}, interval);\n",
       "}\n",
       "\n",
       "var katex_try = function(s, el) {\n",
       "\t try {\t\twindow.katex.render(s, el);\n",
       "} catch(err) {\n",
       "\t\t el.innerHTML = s;\n",
       "\t}\n",
       "}\n",
       "var render_katex = function(id) { \n",
       "\tvar parent = document.getElementById(id);\n",
       "\tvar newChild = document.createElement('span');\n",
       "katex_try(\"{\", newChild);\n",
       "parent.appendChild(newChild);\n",
       "}\n",
       "whenAvailable(\"katex\", function(){render_katex(\"8572c7c2-4337-11e8-9af1-f01fafd68a7f\");});\n",
       "}\n",
       "ctx();\n"
      ]
     },
     "metadata": {},
     "output_type": "display_data"
    },
    {
     "data": {
      "text/html": [
       "<div id=\"85732eb0-4337-11e8-9af1-f01fafd68a7f\"/>"
      ]
     },
     "metadata": {},
     "output_type": "display_data"
    },
    {
     "data": {
      "application/javascript": [
       "\n",
       "var ctx = function()                                  {\n",
       "var whenAvailable = function(name,                                     callback) {\n",
       "\tvar interval = 10; // ms\n",
       "\twindow.setTimeout(function() {\n",
       "\tif (window[name]) {\n",
       "\t\tcallback();\n",
       "\t} else {\n",
       "\t\twindow.setTimeout(arguments.callee,                                     interval);\n",
       "\t}\n",
       "}, interval);\n",
       "}\n",
       "\n",
       "var katex_try = function(s, el) {\n",
       "\t try {\t\twindow.katex.render(s, el);\n",
       "} catch(err) {\n",
       "\t\t el.innerHTML = s;\n",
       "\t}\n",
       "}\n",
       "var render_katex = function(id) { \n",
       "\tvar parent = document.getElementById(id);\n",
       "\tvar newChild = document.createElement('span');\n",
       "katex_try(\"\\\\nu\", newChild);\n",
       "parent.appendChild(newChild);\n",
       "}\n",
       "whenAvailable(\"katex\", function(){render_katex(\"85732eb0-4337-11e8-9af1-f01fafd68a7f\");});\n",
       "}\n",
       "ctx();\n"
      ]
     },
     "metadata": {},
     "output_type": "display_data"
    },
    {
     "data": {
      "text/html": [
       "<div id=\"85739ba2-4337-11e8-9af1-f01fafd68a7f\"/>"
      ]
     },
     "metadata": {},
     "output_type": "display_data"
    },
    {
     "data": {
      "application/javascript": [
       "\n",
       "var ctx = function()                                  {\n",
       "var whenAvailable = function(name,                                     callback) {\n",
       "\tvar interval = 10; // ms\n",
       "\twindow.setTimeout(function() {\n",
       "\tif (window[name]) {\n",
       "\t\tcallback();\n",
       "\t} else {\n",
       "\t\twindow.setTimeout(arguments.callee,                                     interval);\n",
       "\t}\n",
       "}, interval);\n",
       "}\n",
       "\n",
       "var katex_try = function(s, el) {\n",
       "\t try {\t\twindow.katex.render(s, el);\n",
       "} catch(err) {\n",
       "\t\t el.innerHTML = s;\n",
       "\t}\n",
       "}\n",
       "var render_katex = function(id) { \n",
       "\tvar parent = document.getElementById(id);\n",
       "\tvar newChild = document.createElement('span');\n",
       "katex_try(\"}\", newChild);\n",
       "parent.appendChild(newChild);\n",
       "}\n",
       "whenAvailable(\"katex\", function(){render_katex(\"85739ba2-4337-11e8-9af1-f01fafd68a7f\");});\n",
       "}\n",
       "ctx();\n"
      ]
     },
     "metadata": {},
     "output_type": "display_data"
    },
    {
     "data": {
      "text/html": [
       "<div id=\"85740556-4337-11e8-9af1-f01fafd68a7f\"/>"
      ]
     },
     "metadata": {},
     "output_type": "display_data"
    },
    {
     "data": {
      "application/javascript": [
       "\n",
       "var ctx = function()                                  {\n",
       "var whenAvailable = function(name,                                     callback) {\n",
       "\tvar interval = 10; // ms\n",
       "\twindow.setTimeout(function() {\n",
       "\tif (window[name]) {\n",
       "\t\tcallback();\n",
       "\t} else {\n",
       "\t\twindow.setTimeout(arguments.callee,                                     interval);\n",
       "\t}\n",
       "}, interval);\n",
       "}\n",
       "\n",
       "var katex_try = function(s, el) {\n",
       "\t try {\t\twindow.katex.render(s, el);\n",
       "} catch(err) {\n",
       "\t\t el.innerHTML = s;\n",
       "\t}\n",
       "}\n",
       "var render_katex = function(id) { \n",
       "\tvar parent = document.getElementById(id);\n",
       "\tvar newChild = document.createElement('span');\n",
       "katex_try(\"{\", newChild);\n",
       "parent.appendChild(newChild);\n",
       "}\n",
       "whenAvailable(\"katex\", function(){render_katex(\"85740556-4337-11e8-9af1-f01fafd68a7f\");});\n",
       "}\n",
       "ctx();\n"
      ]
     },
     "metadata": {},
     "output_type": "display_data"
    },
    {
     "data": {
      "text/html": [
       "<div id=\"85746bae-4337-11e8-9af1-f01fafd68a7f\"/>"
      ]
     },
     "metadata": {},
     "output_type": "display_data"
    },
    {
     "data": {
      "application/javascript": [
       "\n",
       "var ctx = function()                                  {\n",
       "var whenAvailable = function(name,                                     callback) {\n",
       "\tvar interval = 10; // ms\n",
       "\twindow.setTimeout(function() {\n",
       "\tif (window[name]) {\n",
       "\t\tcallback();\n",
       "\t} else {\n",
       "\t\twindow.setTimeout(arguments.callee,                                     interval);\n",
       "\t}\n",
       "}, interval);\n",
       "}\n",
       "\n",
       "var katex_try = function(s, el) {\n",
       "\t try {\t\twindow.katex.render(s, el);\n",
       "} catch(err) {\n",
       "\t\t el.innerHTML = s;\n",
       "\t}\n",
       "}\n",
       "var render_katex = function(id) { \n",
       "\tvar parent = document.getElementById(id);\n",
       "\tvar newChild = document.createElement('span');\n",
       "katex_try(\"z\", newChild);\n",
       "parent.appendChild(newChild);\n",
       "}\n",
       "whenAvailable(\"katex\", function(){render_katex(\"85746bae-4337-11e8-9af1-f01fafd68a7f\");});\n",
       "}\n",
       "ctx();\n"
      ]
     },
     "metadata": {},
     "output_type": "display_data"
    },
    {
     "data": {
      "text/html": [
       "<div id=\"8574cc0c-4337-11e8-9af1-f01fafd68a7f\"/>"
      ]
     },
     "metadata": {},
     "output_type": "display_data"
    },
    {
     "data": {
      "application/javascript": [
       "\n",
       "var ctx = function()                                  {\n",
       "var whenAvailable = function(name,                                     callback) {\n",
       "\tvar interval = 10; // ms\n",
       "\twindow.setTimeout(function() {\n",
       "\tif (window[name]) {\n",
       "\t\tcallback();\n",
       "\t} else {\n",
       "\t\twindow.setTimeout(arguments.callee,                                     interval);\n",
       "\t}\n",
       "}, interval);\n",
       "}\n",
       "\n",
       "var katex_try = function(s, el) {\n",
       "\t try {\t\twindow.katex.render(s, el);\n",
       "} catch(err) {\n",
       "\t\t el.innerHTML = s;\n",
       "\t}\n",
       "}\n",
       "var render_katex = function(id) { \n",
       "\tvar parent = document.getElementById(id);\n",
       "\tvar newChild = document.createElement('span');\n",
       "katex_try(\"1\", newChild);\n",
       "parent.appendChild(newChild);\n",
       "}\n",
       "whenAvailable(\"katex\", function(){render_katex(\"8574cc0c-4337-11e8-9af1-f01fafd68a7f\");});\n",
       "}\n",
       "ctx();\n"
      ]
     },
     "metadata": {},
     "output_type": "display_data"
    },
    {
     "data": {
      "text/html": [
       "<div id=\"85752ada-4337-11e8-9af1-f01fafd68a7f\"/>"
      ]
     },
     "metadata": {},
     "output_type": "display_data"
    },
    {
     "data": {
      "application/javascript": [
       "\n",
       "var ctx = function()                                  {\n",
       "var whenAvailable = function(name,                                     callback) {\n",
       "\tvar interval = 10; // ms\n",
       "\twindow.setTimeout(function() {\n",
       "\tif (window[name]) {\n",
       "\t\tcallback();\n",
       "\t} else {\n",
       "\t\twindow.setTimeout(arguments.callee,                                     interval);\n",
       "\t}\n",
       "}, interval);\n",
       "}\n",
       "\n",
       "var katex_try = function(s, el) {\n",
       "\t try {\t\twindow.katex.render(s, el);\n",
       "} catch(err) {\n",
       "\t\t el.innerHTML = s;\n",
       "\t}\n",
       "}\n",
       "var render_katex = function(id) { \n",
       "\tvar parent = document.getElementById(id);\n",
       "\tvar newChild = document.createElement('span');\n",
       "katex_try(\"}\", newChild);\n",
       "parent.appendChild(newChild);\n",
       "}\n",
       "whenAvailable(\"katex\", function(){render_katex(\"85752ada-4337-11e8-9af1-f01fafd68a7f\");});\n",
       "}\n",
       "ctx();\n"
      ]
     },
     "metadata": {},
     "output_type": "display_data"
    },
    {
     "data": {
      "text/html": [
       "<div id=\"8575896c-4337-11e8-9af1-f01fafd68a7f\"/>"
      ]
     },
     "metadata": {},
     "output_type": "display_data"
    },
    {
     "data": {
      "application/javascript": [
       "\n",
       "var ctx = function()                                  {\n",
       "var whenAvailable = function(name,                                     callback) {\n",
       "\tvar interval = 10; // ms\n",
       "\twindow.setTimeout(function() {\n",
       "\tif (window[name]) {\n",
       "\t\tcallback();\n",
       "\t} else {\n",
       "\t\twindow.setTimeout(arguments.callee,                                     interval);\n",
       "\t}\n",
       "}, interval);\n",
       "}\n",
       "\n",
       "var katex_try = function(s, el) {\n",
       "\t try {\t\twindow.katex.render(s, el);\n",
       "} catch(err) {\n",
       "\t\t el.innerHTML = s;\n",
       "\t}\n",
       "}\n",
       "var render_katex = function(id) { \n",
       "\tvar parent = document.getElementById(id);\n",
       "\tvar newChild = document.createElement('span');\n",
       "katex_try(\"-\", newChild);\n",
       "parent.appendChild(newChild);\n",
       "}\n",
       "whenAvailable(\"katex\", function(){render_katex(\"8575896c-4337-11e8-9af1-f01fafd68a7f\");});\n",
       "}\n",
       "ctx();\n"
      ]
     },
     "metadata": {},
     "output_type": "display_data"
    },
    {
     "data": {
      "text/html": [
       "<div id=\"8575e8d0-4337-11e8-9af1-f01fafd68a7f\"/>"
      ]
     },
     "metadata": {},
     "output_type": "display_data"
    },
    {
     "data": {
      "application/javascript": [
       "\n",
       "var ctx = function()                                  {\n",
       "var whenAvailable = function(name,                                     callback) {\n",
       "\tvar interval = 10; // ms\n",
       "\twindow.setTimeout(function() {\n",
       "\tif (window[name]) {\n",
       "\t\tcallback();\n",
       "\t} else {\n",
       "\t\twindow.setTimeout(arguments.callee,                                     interval);\n",
       "\t}\n",
       "}, interval);\n",
       "}\n",
       "\n",
       "var katex_try = function(s, el) {\n",
       "\t try {\t\twindow.katex.render(s, el);\n",
       "} catch(err) {\n",
       "\t\t el.innerHTML = s;\n",
       "\t}\n",
       "}\n",
       "var render_katex = function(id) { \n",
       "\tvar parent = document.getElementById(id);\n",
       "\tvar newChild = document.createElement('span');\n",
       "katex_try(\"\\\\frac\", newChild);\n",
       "parent.appendChild(newChild);\n",
       "}\n",
       "whenAvailable(\"katex\", function(){render_katex(\"8575e8d0-4337-11e8-9af1-f01fafd68a7f\");});\n",
       "}\n",
       "ctx();\n"
      ]
     },
     "metadata": {},
     "output_type": "display_data"
    },
    {
     "data": {
      "text/html": [
       "<div id=\"85764a50-4337-11e8-9af1-f01fafd68a7f\"/>"
      ]
     },
     "metadata": {},
     "output_type": "display_data"
    },
    {
     "data": {
      "application/javascript": [
       "\n",
       "var ctx = function()                                  {\n",
       "var whenAvailable = function(name,                                     callback) {\n",
       "\tvar interval = 10; // ms\n",
       "\twindow.setTimeout(function() {\n",
       "\tif (window[name]) {\n",
       "\t\tcallback();\n",
       "\t} else {\n",
       "\t\twindow.setTimeout(arguments.callee,                                     interval);\n",
       "\t}\n",
       "}, interval);\n",
       "}\n",
       "\n",
       "var katex_try = function(s, el) {\n",
       "\t try {\t\twindow.katex.render(s, el);\n",
       "} catch(err) {\n",
       "\t\t el.innerHTML = s;\n",
       "\t}\n",
       "}\n",
       "var render_katex = function(id) { \n",
       "\tvar parent = document.getElementById(id);\n",
       "\tvar newChild = document.createElement('span');\n",
       "katex_try(\"{\", newChild);\n",
       "parent.appendChild(newChild);\n",
       "}\n",
       "whenAvailable(\"katex\", function(){render_katex(\"85764a50-4337-11e8-9af1-f01fafd68a7f\");});\n",
       "}\n",
       "ctx();\n"
      ]
     },
     "metadata": {},
     "output_type": "display_data"
    },
    {
     "data": {
      "text/html": [
       "<div id=\"8576abda-4337-11e8-9af1-f01fafd68a7f\"/>"
      ]
     },
     "metadata": {},
     "output_type": "display_data"
    },
    {
     "data": {
      "application/javascript": [
       "\n",
       "var ctx = function()                                  {\n",
       "var whenAvailable = function(name,                                     callback) {\n",
       "\tvar interval = 10; // ms\n",
       "\twindow.setTimeout(function() {\n",
       "\tif (window[name]) {\n",
       "\t\tcallback();\n",
       "\t} else {\n",
       "\t\twindow.setTimeout(arguments.callee,                                     interval);\n",
       "\t}\n",
       "}, interval);\n",
       "}\n",
       "\n",
       "var katex_try = function(s, el) {\n",
       "\t try {\t\twindow.katex.render(s, el);\n",
       "} catch(err) {\n",
       "\t\t el.innerHTML = s;\n",
       "\t}\n",
       "}\n",
       "var render_katex = function(id) { \n",
       "\tvar parent = document.getElementById(id);\n",
       "\tvar newChild = document.createElement('span');\n",
       "katex_try(\"\\\\nu\", newChild);\n",
       "parent.appendChild(newChild);\n",
       "}\n",
       "whenAvailable(\"katex\", function(){render_katex(\"8576abda-4337-11e8-9af1-f01fafd68a7f\");});\n",
       "}\n",
       "ctx();\n"
      ]
     },
     "metadata": {},
     "output_type": "display_data"
    },
    {
     "data": {
      "text/html": [
       "<div id=\"85770b02-4337-11e8-9af1-f01fafd68a7f\"/>"
      ]
     },
     "metadata": {},
     "output_type": "display_data"
    },
    {
     "data": {
      "application/javascript": [
       "\n",
       "var ctx = function()                                  {\n",
       "var whenAvailable = function(name,                                     callback) {\n",
       "\tvar interval = 10; // ms\n",
       "\twindow.setTimeout(function() {\n",
       "\tif (window[name]) {\n",
       "\t\tcallback();\n",
       "\t} else {\n",
       "\t\twindow.setTimeout(arguments.callee,                                     interval);\n",
       "\t}\n",
       "}, interval);\n",
       "}\n",
       "\n",
       "var katex_try = function(s, el) {\n",
       "\t try {\t\twindow.katex.render(s, el);\n",
       "} catch(err) {\n",
       "\t\t el.innerHTML = s;\n",
       "\t}\n",
       "}\n",
       "var render_katex = function(id) { \n",
       "\tvar parent = document.getElementById(id);\n",
       "\tvar newChild = document.createElement('span');\n",
       "katex_try(\"}\", newChild);\n",
       "parent.appendChild(newChild);\n",
       "}\n",
       "whenAvailable(\"katex\", function(){render_katex(\"85770b02-4337-11e8-9af1-f01fafd68a7f\");});\n",
       "}\n",
       "ctx();\n"
      ]
     },
     "metadata": {},
     "output_type": "display_data"
    },
    {
     "data": {
      "text/html": [
       "<div id=\"85777100-4337-11e8-9af1-f01fafd68a7f\"/>"
      ]
     },
     "metadata": {},
     "output_type": "display_data"
    },
    {
     "data": {
      "application/javascript": [
       "\n",
       "var ctx = function()                                  {\n",
       "var whenAvailable = function(name,                                     callback) {\n",
       "\tvar interval = 10; // ms\n",
       "\twindow.setTimeout(function() {\n",
       "\tif (window[name]) {\n",
       "\t\tcallback();\n",
       "\t} else {\n",
       "\t\twindow.setTimeout(arguments.callee,                                     interval);\n",
       "\t}\n",
       "}, interval);\n",
       "}\n",
       "\n",
       "var katex_try = function(s, el) {\n",
       "\t try {\t\twindow.katex.render(s, el);\n",
       "} catch(err) {\n",
       "\t\t el.innerHTML = s;\n",
       "\t}\n",
       "}\n",
       "var render_katex = function(id) { \n",
       "\tvar parent = document.getElementById(id);\n",
       "\tvar newChild = document.createElement('span');\n",
       "katex_try(\"{\", newChild);\n",
       "parent.appendChild(newChild);\n",
       "}\n",
       "whenAvailable(\"katex\", function(){render_katex(\"85777100-4337-11e8-9af1-f01fafd68a7f\");});\n",
       "}\n",
       "ctx();\n"
      ]
     },
     "metadata": {},
     "output_type": "display_data"
    },
    {
     "data": {
      "text/html": [
       "<div id=\"8577c9c0-4337-11e8-9af1-f01fafd68a7f\"/>"
      ]
     },
     "metadata": {},
     "output_type": "display_data"
    },
    {
     "data": {
      "application/javascript": [
       "\n",
       "var ctx = function()                                  {\n",
       "var whenAvailable = function(name,                                     callback) {\n",
       "\tvar interval = 10; // ms\n",
       "\twindow.setTimeout(function() {\n",
       "\tif (window[name]) {\n",
       "\t\tcallback();\n",
       "\t} else {\n",
       "\t\twindow.setTimeout(arguments.callee,                                     interval);\n",
       "\t}\n",
       "}, interval);\n",
       "}\n",
       "\n",
       "var katex_try = function(s, el) {\n",
       "\t try {\t\twindow.katex.render(s, el);\n",
       "} catch(err) {\n",
       "\t\t el.innerHTML = s;\n",
       "\t}\n",
       "}\n",
       "var render_katex = function(id) { \n",
       "\tvar parent = document.getElementById(id);\n",
       "\tvar newChild = document.createElement('span');\n",
       "katex_try(\"z\", newChild);\n",
       "parent.appendChild(newChild);\n",
       "}\n",
       "whenAvailable(\"katex\", function(){render_katex(\"8577c9c0-4337-11e8-9af1-f01fafd68a7f\");});\n",
       "}\n",
       "ctx();\n"
      ]
     },
     "metadata": {},
     "output_type": "display_data"
    },
    {
     "data": {
      "text/html": [
       "<div id=\"85782366-4337-11e8-9af1-f01fafd68a7f\"/>"
      ]
     },
     "metadata": {},
     "output_type": "display_data"
    },
    {
     "data": {
      "application/javascript": [
       "\n",
       "var ctx = function()                                  {\n",
       "var whenAvailable = function(name,                                     callback) {\n",
       "\tvar interval = 10; // ms\n",
       "\twindow.setTimeout(function() {\n",
       "\tif (window[name]) {\n",
       "\t\tcallback();\n",
       "\t} else {\n",
       "\t\twindow.setTimeout(arguments.callee,                                     interval);\n",
       "\t}\n",
       "}, interval);\n",
       "}\n",
       "\n",
       "var katex_try = function(s, el) {\n",
       "\t try {\t\twindow.katex.render(s, el);\n",
       "} catch(err) {\n",
       "\t\t el.innerHTML = s;\n",
       "\t}\n",
       "}\n",
       "var render_katex = function(id) { \n",
       "\tvar parent = document.getElementById(id);\n",
       "\tvar newChild = document.createElement('span');\n",
       "katex_try(\"2\", newChild);\n",
       "parent.appendChild(newChild);\n",
       "}\n",
       "whenAvailable(\"katex\", function(){render_katex(\"85782366-4337-11e8-9af1-f01fafd68a7f\");});\n",
       "}\n",
       "ctx();\n"
      ]
     },
     "metadata": {},
     "output_type": "display_data"
    },
    {
     "data": {
      "text/html": [
       "<div id=\"85787afa-4337-11e8-9af1-f01fafd68a7f\"/>"
      ]
     },
     "metadata": {},
     "output_type": "display_data"
    },
    {
     "data": {
      "application/javascript": [
       "\n",
       "var ctx = function()                                  {\n",
       "var whenAvailable = function(name,                                     callback) {\n",
       "\tvar interval = 10; // ms\n",
       "\twindow.setTimeout(function() {\n",
       "\tif (window[name]) {\n",
       "\t\tcallback();\n",
       "\t} else {\n",
       "\t\twindow.setTimeout(arguments.callee,                                     interval);\n",
       "\t}\n",
       "}, interval);\n",
       "}\n",
       "\n",
       "var katex_try = function(s, el) {\n",
       "\t try {\t\twindow.katex.render(s, el);\n",
       "} catch(err) {\n",
       "\t\t el.innerHTML = s;\n",
       "\t}\n",
       "}\n",
       "var render_katex = function(id) { \n",
       "\tvar parent = document.getElementById(id);\n",
       "\tvar newChild = document.createElement('span');\n",
       "katex_try(\"}\", newChild);\n",
       "parent.appendChild(newChild);\n",
       "}\n",
       "whenAvailable(\"katex\", function(){render_katex(\"85787afa-4337-11e8-9af1-f01fafd68a7f\");});\n",
       "}\n",
       "ctx();\n"
      ]
     },
     "metadata": {},
     "output_type": "display_data"
    },
    {
     "name": "stdout",
     "output_type": "stream",
     "text": [
      "split subequation\n"
     ]
    },
    {
     "data": {
      "text/html": [
       "<div id=\"8578e0c6-4337-11e8-9af1-f01fafd68a7f\"/>"
      ]
     },
     "metadata": {},
     "output_type": "display_data"
    },
    {
     "data": {
      "application/javascript": [
       "\n",
       "var ctx = function()                                  {\n",
       "var whenAvailable = function(name,                                     callback) {\n",
       "\tvar interval = 10; // ms\n",
       "\twindow.setTimeout(function() {\n",
       "\tif (window[name]) {\n",
       "\t\tcallback();\n",
       "\t} else {\n",
       "\t\twindow.setTimeout(arguments.callee,                                     interval);\n",
       "\t}\n",
       "}, interval);\n",
       "}\n",
       "\n",
       "var katex_try = function(s, el) {\n",
       "\t try {\t\twindow.katex.render(s, el);\n",
       "} catch(err) {\n",
       "\t\t el.innerHTML = s;\n",
       "\t}\n",
       "}\n",
       "var render_katex = function(id) { \n",
       "\tvar parent = document.getElementById(id);\n",
       "\tvar newChild = document.createElement('span');\n",
       "katex_try(\"1\\\\mbox{with}\\\\frac{\\\\nu}{z_3}\\\\geq1\\n\", newChild);\n",
       "parent.appendChild(newChild);\n",
       "}\n",
       "whenAvailable(\"katex\", function(){render_katex(\"8578e0c6-4337-11e8-9af1-f01fafd68a7f\");});\n",
       "}\n",
       "ctx();\n"
      ]
     },
     "metadata": {},
     "output_type": "display_data"
    },
    {
     "name": "stdout",
     "output_type": "stream",
     "text": [
      "tokens: \n"
     ]
    },
    {
     "data": {
      "text/html": [
       "<div id=\"8579575e-4337-11e8-9af1-f01fafd68a7f\"/>"
      ]
     },
     "metadata": {},
     "output_type": "display_data"
    },
    {
     "data": {
      "application/javascript": [
       "\n",
       "var ctx = function()                                  {\n",
       "var whenAvailable = function(name,                                     callback) {\n",
       "\tvar interval = 10; // ms\n",
       "\twindow.setTimeout(function() {\n",
       "\tif (window[name]) {\n",
       "\t\tcallback();\n",
       "\t} else {\n",
       "\t\twindow.setTimeout(arguments.callee,                                     interval);\n",
       "\t}\n",
       "}, interval);\n",
       "}\n",
       "\n",
       "var katex_try = function(s, el) {\n",
       "\t try {\t\twindow.katex.render(s, el);\n",
       "} catch(err) {\n",
       "\t\t el.innerHTML = s;\n",
       "\t}\n",
       "}\n",
       "var render_katex = function(id) { \n",
       "\tvar parent = document.getElementById(id);\n",
       "\tvar newChild = document.createElement('span');\n",
       "katex_try(\"START\", newChild);\n",
       "parent.appendChild(newChild);\n",
       "}\n",
       "whenAvailable(\"katex\", function(){render_katex(\"8579575e-4337-11e8-9af1-f01fafd68a7f\");});\n",
       "}\n",
       "ctx();\n"
      ]
     },
     "metadata": {},
     "output_type": "display_data"
    },
    {
     "data": {
      "text/html": [
       "<div id=\"8579bdd4-4337-11e8-9af1-f01fafd68a7f\"/>"
      ]
     },
     "metadata": {},
     "output_type": "display_data"
    },
    {
     "data": {
      "application/javascript": [
       "\n",
       "var ctx = function()                                  {\n",
       "var whenAvailable = function(name,                                     callback) {\n",
       "\tvar interval = 10; // ms\n",
       "\twindow.setTimeout(function() {\n",
       "\tif (window[name]) {\n",
       "\t\tcallback();\n",
       "\t} else {\n",
       "\t\twindow.setTimeout(arguments.callee,                                     interval);\n",
       "\t}\n",
       "}, interval);\n",
       "}\n",
       "\n",
       "var katex_try = function(s, el) {\n",
       "\t try {\t\twindow.katex.render(s, el);\n",
       "} catch(err) {\n",
       "\t\t el.innerHTML = s;\n",
       "\t}\n",
       "}\n",
       "var render_katex = function(id) { \n",
       "\tvar parent = document.getElementById(id);\n",
       "\tvar newChild = document.createElement('span');\n",
       "katex_try(\"1\", newChild);\n",
       "parent.appendChild(newChild);\n",
       "}\n",
       "whenAvailable(\"katex\", function(){render_katex(\"8579bdd4-4337-11e8-9af1-f01fafd68a7f\");});\n",
       "}\n",
       "ctx();\n"
      ]
     },
     "metadata": {},
     "output_type": "display_data"
    },
    {
     "data": {
      "text/html": [
       "<div id=\"857a1338-4337-11e8-9af1-f01fafd68a7f\"/>"
      ]
     },
     "metadata": {},
     "output_type": "display_data"
    },
    {
     "data": {
      "application/javascript": [
       "\n",
       "var ctx = function()                                  {\n",
       "var whenAvailable = function(name,                                     callback) {\n",
       "\tvar interval = 10; // ms\n",
       "\twindow.setTimeout(function() {\n",
       "\tif (window[name]) {\n",
       "\t\tcallback();\n",
       "\t} else {\n",
       "\t\twindow.setTimeout(arguments.callee,                                     interval);\n",
       "\t}\n",
       "}, interval);\n",
       "}\n",
       "\n",
       "var katex_try = function(s, el) {\n",
       "\t try {\t\twindow.katex.render(s, el);\n",
       "} catch(err) {\n",
       "\t\t el.innerHTML = s;\n",
       "\t}\n",
       "}\n",
       "var render_katex = function(id) { \n",
       "\tvar parent = document.getElementById(id);\n",
       "\tvar newChild = document.createElement('span');\n",
       "katex_try(\"\\\\mbox\", newChild);\n",
       "parent.appendChild(newChild);\n",
       "}\n",
       "whenAvailable(\"katex\", function(){render_katex(\"857a1338-4337-11e8-9af1-f01fafd68a7f\");});\n",
       "}\n",
       "ctx();\n"
      ]
     },
     "metadata": {},
     "output_type": "display_data"
    },
    {
     "data": {
      "text/html": [
       "<div id=\"857a67ca-4337-11e8-9af1-f01fafd68a7f\"/>"
      ]
     },
     "metadata": {},
     "output_type": "display_data"
    },
    {
     "data": {
      "application/javascript": [
       "\n",
       "var ctx = function()                                  {\n",
       "var whenAvailable = function(name,                                     callback) {\n",
       "\tvar interval = 10; // ms\n",
       "\twindow.setTimeout(function() {\n",
       "\tif (window[name]) {\n",
       "\t\tcallback();\n",
       "\t} else {\n",
       "\t\twindow.setTimeout(arguments.callee,                                     interval);\n",
       "\t}\n",
       "}, interval);\n",
       "}\n",
       "\n",
       "var katex_try = function(s, el) {\n",
       "\t try {\t\twindow.katex.render(s, el);\n",
       "} catch(err) {\n",
       "\t\t el.innerHTML = s;\n",
       "\t}\n",
       "}\n",
       "var render_katex = function(id) { \n",
       "\tvar parent = document.getElementById(id);\n",
       "\tvar newChild = document.createElement('span');\n",
       "katex_try(\"{\", newChild);\n",
       "parent.appendChild(newChild);\n",
       "}\n",
       "whenAvailable(\"katex\", function(){render_katex(\"857a67ca-4337-11e8-9af1-f01fafd68a7f\");});\n",
       "}\n",
       "ctx();\n"
      ]
     },
     "metadata": {},
     "output_type": "display_data"
    },
    {
     "data": {
      "text/html": [
       "<div id=\"857abaf4-4337-11e8-9af1-f01fafd68a7f\"/>"
      ]
     },
     "metadata": {},
     "output_type": "display_data"
    },
    {
     "data": {
      "application/javascript": [
       "\n",
       "var ctx = function()                                  {\n",
       "var whenAvailable = function(name,                                     callback) {\n",
       "\tvar interval = 10; // ms\n",
       "\twindow.setTimeout(function() {\n",
       "\tif (window[name]) {\n",
       "\t\tcallback();\n",
       "\t} else {\n",
       "\t\twindow.setTimeout(arguments.callee,                                     interval);\n",
       "\t}\n",
       "}, interval);\n",
       "}\n",
       "\n",
       "var katex_try = function(s, el) {\n",
       "\t try {\t\twindow.katex.render(s, el);\n",
       "} catch(err) {\n",
       "\t\t el.innerHTML = s;\n",
       "\t}\n",
       "}\n",
       "var render_katex = function(id) { \n",
       "\tvar parent = document.getElementById(id);\n",
       "\tvar newChild = document.createElement('span');\n",
       "katex_try(\"w\", newChild);\n",
       "parent.appendChild(newChild);\n",
       "}\n",
       "whenAvailable(\"katex\", function(){render_katex(\"857abaf4-4337-11e8-9af1-f01fafd68a7f\");});\n",
       "}\n",
       "ctx();\n"
      ]
     },
     "metadata": {},
     "output_type": "display_data"
    },
    {
     "data": {
      "text/html": [
       "<div id=\"857b0964-4337-11e8-9af1-f01fafd68a7f\"/>"
      ]
     },
     "metadata": {},
     "output_type": "display_data"
    },
    {
     "data": {
      "application/javascript": [
       "\n",
       "var ctx = function()                                  {\n",
       "var whenAvailable = function(name,                                     callback) {\n",
       "\tvar interval = 10; // ms\n",
       "\twindow.setTimeout(function() {\n",
       "\tif (window[name]) {\n",
       "\t\tcallback();\n",
       "\t} else {\n",
       "\t\twindow.setTimeout(arguments.callee,                                     interval);\n",
       "\t}\n",
       "}, interval);\n",
       "}\n",
       "\n",
       "var katex_try = function(s, el) {\n",
       "\t try {\t\twindow.katex.render(s, el);\n",
       "} catch(err) {\n",
       "\t\t el.innerHTML = s;\n",
       "\t}\n",
       "}\n",
       "var render_katex = function(id) { \n",
       "\tvar parent = document.getElementById(id);\n",
       "\tvar newChild = document.createElement('span');\n",
       "katex_try(\"i\", newChild);\n",
       "parent.appendChild(newChild);\n",
       "}\n",
       "whenAvailable(\"katex\", function(){render_katex(\"857b0964-4337-11e8-9af1-f01fafd68a7f\");});\n",
       "}\n",
       "ctx();\n"
      ]
     },
     "metadata": {},
     "output_type": "display_data"
    },
    {
     "data": {
      "text/html": [
       "<div id=\"857b58f6-4337-11e8-9af1-f01fafd68a7f\"/>"
      ]
     },
     "metadata": {},
     "output_type": "display_data"
    },
    {
     "data": {
      "application/javascript": [
       "\n",
       "var ctx = function()                                  {\n",
       "var whenAvailable = function(name,                                     callback) {\n",
       "\tvar interval = 10; // ms\n",
       "\twindow.setTimeout(function() {\n",
       "\tif (window[name]) {\n",
       "\t\tcallback();\n",
       "\t} else {\n",
       "\t\twindow.setTimeout(arguments.callee,                                     interval);\n",
       "\t}\n",
       "}, interval);\n",
       "}\n",
       "\n",
       "var katex_try = function(s, el) {\n",
       "\t try {\t\twindow.katex.render(s, el);\n",
       "} catch(err) {\n",
       "\t\t el.innerHTML = s;\n",
       "\t}\n",
       "}\n",
       "var render_katex = function(id) { \n",
       "\tvar parent = document.getElementById(id);\n",
       "\tvar newChild = document.createElement('span');\n",
       "katex_try(\"t\", newChild);\n",
       "parent.appendChild(newChild);\n",
       "}\n",
       "whenAvailable(\"katex\", function(){render_katex(\"857b58f6-4337-11e8-9af1-f01fafd68a7f\");});\n",
       "}\n",
       "ctx();\n"
      ]
     },
     "metadata": {},
     "output_type": "display_data"
    },
    {
     "data": {
      "text/html": [
       "<div id=\"857ba9a0-4337-11e8-9af1-f01fafd68a7f\"/>"
      ]
     },
     "metadata": {},
     "output_type": "display_data"
    },
    {
     "data": {
      "application/javascript": [
       "\n",
       "var ctx = function()                                  {\n",
       "var whenAvailable = function(name,                                     callback) {\n",
       "\tvar interval = 10; // ms\n",
       "\twindow.setTimeout(function() {\n",
       "\tif (window[name]) {\n",
       "\t\tcallback();\n",
       "\t} else {\n",
       "\t\twindow.setTimeout(arguments.callee,                                     interval);\n",
       "\t}\n",
       "}, interval);\n",
       "}\n",
       "\n",
       "var katex_try = function(s, el) {\n",
       "\t try {\t\twindow.katex.render(s, el);\n",
       "} catch(err) {\n",
       "\t\t el.innerHTML = s;\n",
       "\t}\n",
       "}\n",
       "var render_katex = function(id) { \n",
       "\tvar parent = document.getElementById(id);\n",
       "\tvar newChild = document.createElement('span');\n",
       "katex_try(\"h\", newChild);\n",
       "parent.appendChild(newChild);\n",
       "}\n",
       "whenAvailable(\"katex\", function(){render_katex(\"857ba9a0-4337-11e8-9af1-f01fafd68a7f\");});\n",
       "}\n",
       "ctx();\n"
      ]
     },
     "metadata": {},
     "output_type": "display_data"
    },
    {
     "data": {
      "text/html": [
       "<div id=\"857bfa40-4337-11e8-9af1-f01fafd68a7f\"/>"
      ]
     },
     "metadata": {},
     "output_type": "display_data"
    },
    {
     "data": {
      "application/javascript": [
       "\n",
       "var ctx = function()                                  {\n",
       "var whenAvailable = function(name,                                     callback) {\n",
       "\tvar interval = 10; // ms\n",
       "\twindow.setTimeout(function() {\n",
       "\tif (window[name]) {\n",
       "\t\tcallback();\n",
       "\t} else {\n",
       "\t\twindow.setTimeout(arguments.callee,                                     interval);\n",
       "\t}\n",
       "}, interval);\n",
       "}\n",
       "\n",
       "var katex_try = function(s, el) {\n",
       "\t try {\t\twindow.katex.render(s, el);\n",
       "} catch(err) {\n",
       "\t\t el.innerHTML = s;\n",
       "\t}\n",
       "}\n",
       "var render_katex = function(id) { \n",
       "\tvar parent = document.getElementById(id);\n",
       "\tvar newChild = document.createElement('span');\n",
       "katex_try(\"}\", newChild);\n",
       "parent.appendChild(newChild);\n",
       "}\n",
       "whenAvailable(\"katex\", function(){render_katex(\"857bfa40-4337-11e8-9af1-f01fafd68a7f\");});\n",
       "}\n",
       "ctx();\n"
      ]
     },
     "metadata": {},
     "output_type": "display_data"
    },
    {
     "data": {
      "text/html": [
       "<div id=\"857c49be-4337-11e8-9af1-f01fafd68a7f\"/>"
      ]
     },
     "metadata": {},
     "output_type": "display_data"
    },
    {
     "data": {
      "application/javascript": [
       "\n",
       "var ctx = function()                                  {\n",
       "var whenAvailable = function(name,                                     callback) {\n",
       "\tvar interval = 10; // ms\n",
       "\twindow.setTimeout(function() {\n",
       "\tif (window[name]) {\n",
       "\t\tcallback();\n",
       "\t} else {\n",
       "\t\twindow.setTimeout(arguments.callee,                                     interval);\n",
       "\t}\n",
       "}, interval);\n",
       "}\n",
       "\n",
       "var katex_try = function(s, el) {\n",
       "\t try {\t\twindow.katex.render(s, el);\n",
       "} catch(err) {\n",
       "\t\t el.innerHTML = s;\n",
       "\t}\n",
       "}\n",
       "var render_katex = function(id) { \n",
       "\tvar parent = document.getElementById(id);\n",
       "\tvar newChild = document.createElement('span');\n",
       "katex_try(\"\\\\frac\", newChild);\n",
       "parent.appendChild(newChild);\n",
       "}\n",
       "whenAvailable(\"katex\", function(){render_katex(\"857c49be-4337-11e8-9af1-f01fafd68a7f\");});\n",
       "}\n",
       "ctx();\n"
      ]
     },
     "metadata": {},
     "output_type": "display_data"
    },
    {
     "data": {
      "text/html": [
       "<div id=\"857c9752-4337-11e8-9af1-f01fafd68a7f\"/>"
      ]
     },
     "metadata": {},
     "output_type": "display_data"
    },
    {
     "data": {
      "application/javascript": [
       "\n",
       "var ctx = function()                                  {\n",
       "var whenAvailable = function(name,                                     callback) {\n",
       "\tvar interval = 10; // ms\n",
       "\twindow.setTimeout(function() {\n",
       "\tif (window[name]) {\n",
       "\t\tcallback();\n",
       "\t} else {\n",
       "\t\twindow.setTimeout(arguments.callee,                                     interval);\n",
       "\t}\n",
       "}, interval);\n",
       "}\n",
       "\n",
       "var katex_try = function(s, el) {\n",
       "\t try {\t\twindow.katex.render(s, el);\n",
       "} catch(err) {\n",
       "\t\t el.innerHTML = s;\n",
       "\t}\n",
       "}\n",
       "var render_katex = function(id) { \n",
       "\tvar parent = document.getElementById(id);\n",
       "\tvar newChild = document.createElement('span');\n",
       "katex_try(\"{\", newChild);\n",
       "parent.appendChild(newChild);\n",
       "}\n",
       "whenAvailable(\"katex\", function(){render_katex(\"857c9752-4337-11e8-9af1-f01fafd68a7f\");});\n",
       "}\n",
       "ctx();\n"
      ]
     },
     "metadata": {},
     "output_type": "display_data"
    },
    {
     "data": {
      "text/html": [
       "<div id=\"857ce34c-4337-11e8-9af1-f01fafd68a7f\"/>"
      ]
     },
     "metadata": {},
     "output_type": "display_data"
    },
    {
     "data": {
      "application/javascript": [
       "\n",
       "var ctx = function()                                  {\n",
       "var whenAvailable = function(name,                                     callback) {\n",
       "\tvar interval = 10; // ms\n",
       "\twindow.setTimeout(function() {\n",
       "\tif (window[name]) {\n",
       "\t\tcallback();\n",
       "\t} else {\n",
       "\t\twindow.setTimeout(arguments.callee,                                     interval);\n",
       "\t}\n",
       "}, interval);\n",
       "}\n",
       "\n",
       "var katex_try = function(s, el) {\n",
       "\t try {\t\twindow.katex.render(s, el);\n",
       "} catch(err) {\n",
       "\t\t el.innerHTML = s;\n",
       "\t}\n",
       "}\n",
       "var render_katex = function(id) { \n",
       "\tvar parent = document.getElementById(id);\n",
       "\tvar newChild = document.createElement('span');\n",
       "katex_try(\"\\\\nu\", newChild);\n",
       "parent.appendChild(newChild);\n",
       "}\n",
       "whenAvailable(\"katex\", function(){render_katex(\"857ce34c-4337-11e8-9af1-f01fafd68a7f\");});\n",
       "}\n",
       "ctx();\n"
      ]
     },
     "metadata": {},
     "output_type": "display_data"
    },
    {
     "data": {
      "text/html": [
       "<div id=\"857d2ff0-4337-11e8-9af1-f01fafd68a7f\"/>"
      ]
     },
     "metadata": {},
     "output_type": "display_data"
    },
    {
     "data": {
      "application/javascript": [
       "\n",
       "var ctx = function()                                  {\n",
       "var whenAvailable = function(name,                                     callback) {\n",
       "\tvar interval = 10; // ms\n",
       "\twindow.setTimeout(function() {\n",
       "\tif (window[name]) {\n",
       "\t\tcallback();\n",
       "\t} else {\n",
       "\t\twindow.setTimeout(arguments.callee,                                     interval);\n",
       "\t}\n",
       "}, interval);\n",
       "}\n",
       "\n",
       "var katex_try = function(s, el) {\n",
       "\t try {\t\twindow.katex.render(s, el);\n",
       "} catch(err) {\n",
       "\t\t el.innerHTML = s;\n",
       "\t}\n",
       "}\n",
       "var render_katex = function(id) { \n",
       "\tvar parent = document.getElementById(id);\n",
       "\tvar newChild = document.createElement('span');\n",
       "katex_try(\"}\", newChild);\n",
       "parent.appendChild(newChild);\n",
       "}\n",
       "whenAvailable(\"katex\", function(){render_katex(\"857d2ff0-4337-11e8-9af1-f01fafd68a7f\");});\n",
       "}\n",
       "ctx();\n"
      ]
     },
     "metadata": {},
     "output_type": "display_data"
    },
    {
     "data": {
      "text/html": [
       "<div id=\"857d7b22-4337-11e8-9af1-f01fafd68a7f\"/>"
      ]
     },
     "metadata": {},
     "output_type": "display_data"
    },
    {
     "data": {
      "application/javascript": [
       "\n",
       "var ctx = function()                                  {\n",
       "var whenAvailable = function(name,                                     callback) {\n",
       "\tvar interval = 10; // ms\n",
       "\twindow.setTimeout(function() {\n",
       "\tif (window[name]) {\n",
       "\t\tcallback();\n",
       "\t} else {\n",
       "\t\twindow.setTimeout(arguments.callee,                                     interval);\n",
       "\t}\n",
       "}, interval);\n",
       "}\n",
       "\n",
       "var katex_try = function(s, el) {\n",
       "\t try {\t\twindow.katex.render(s, el);\n",
       "} catch(err) {\n",
       "\t\t el.innerHTML = s;\n",
       "\t}\n",
       "}\n",
       "var render_katex = function(id) { \n",
       "\tvar parent = document.getElementById(id);\n",
       "\tvar newChild = document.createElement('span');\n",
       "katex_try(\"{\", newChild);\n",
       "parent.appendChild(newChild);\n",
       "}\n",
       "whenAvailable(\"katex\", function(){render_katex(\"857d7b22-4337-11e8-9af1-f01fafd68a7f\");});\n",
       "}\n",
       "ctx();\n"
      ]
     },
     "metadata": {},
     "output_type": "display_data"
    },
    {
     "data": {
      "text/html": [
       "<div id=\"857dc73a-4337-11e8-9af1-f01fafd68a7f\"/>"
      ]
     },
     "metadata": {},
     "output_type": "display_data"
    },
    {
     "data": {
      "application/javascript": [
       "\n",
       "var ctx = function()                                  {\n",
       "var whenAvailable = function(name,                                     callback) {\n",
       "\tvar interval = 10; // ms\n",
       "\twindow.setTimeout(function() {\n",
       "\tif (window[name]) {\n",
       "\t\tcallback();\n",
       "\t} else {\n",
       "\t\twindow.setTimeout(arguments.callee,                                     interval);\n",
       "\t}\n",
       "}, interval);\n",
       "}\n",
       "\n",
       "var katex_try = function(s, el) {\n",
       "\t try {\t\twindow.katex.render(s, el);\n",
       "} catch(err) {\n",
       "\t\t el.innerHTML = s;\n",
       "\t}\n",
       "}\n",
       "var render_katex = function(id) { \n",
       "\tvar parent = document.getElementById(id);\n",
       "\tvar newChild = document.createElement('span');\n",
       "katex_try(\"z\", newChild);\n",
       "parent.appendChild(newChild);\n",
       "}\n",
       "whenAvailable(\"katex\", function(){render_katex(\"857dc73a-4337-11e8-9af1-f01fafd68a7f\");});\n",
       "}\n",
       "ctx();\n"
      ]
     },
     "metadata": {},
     "output_type": "display_data"
    },
    {
     "data": {
      "text/html": [
       "<div id=\"857e130c-4337-11e8-9af1-f01fafd68a7f\"/>"
      ]
     },
     "metadata": {},
     "output_type": "display_data"
    },
    {
     "data": {
      "application/javascript": [
       "\n",
       "var ctx = function()                                  {\n",
       "var whenAvailable = function(name,                                     callback) {\n",
       "\tvar interval = 10; // ms\n",
       "\twindow.setTimeout(function() {\n",
       "\tif (window[name]) {\n",
       "\t\tcallback();\n",
       "\t} else {\n",
       "\t\twindow.setTimeout(arguments.callee,                                     interval);\n",
       "\t}\n",
       "}, interval);\n",
       "}\n",
       "\n",
       "var katex_try = function(s, el) {\n",
       "\t try {\t\twindow.katex.render(s, el);\n",
       "} catch(err) {\n",
       "\t\t el.innerHTML = s;\n",
       "\t}\n",
       "}\n",
       "var render_katex = function(id) { \n",
       "\tvar parent = document.getElementById(id);\n",
       "\tvar newChild = document.createElement('span');\n",
       "katex_try(\"3\", newChild);\n",
       "parent.appendChild(newChild);\n",
       "}\n",
       "whenAvailable(\"katex\", function(){render_katex(\"857e130c-4337-11e8-9af1-f01fafd68a7f\");});\n",
       "}\n",
       "ctx();\n"
      ]
     },
     "metadata": {},
     "output_type": "display_data"
    },
    {
     "data": {
      "text/html": [
       "<div id=\"85808de4-4337-11e8-9af1-f01fafd68a7f\"/>"
      ]
     },
     "metadata": {},
     "output_type": "display_data"
    },
    {
     "data": {
      "application/javascript": [
       "\n",
       "var ctx = function()                                  {\n",
       "var whenAvailable = function(name,                                     callback) {\n",
       "\tvar interval = 10; // ms\n",
       "\twindow.setTimeout(function() {\n",
       "\tif (window[name]) {\n",
       "\t\tcallback();\n",
       "\t} else {\n",
       "\t\twindow.setTimeout(arguments.callee,                                     interval);\n",
       "\t}\n",
       "}, interval);\n",
       "}\n",
       "\n",
       "var katex_try = function(s, el) {\n",
       "\t try {\t\twindow.katex.render(s, el);\n",
       "} catch(err) {\n",
       "\t\t el.innerHTML = s;\n",
       "\t}\n",
       "}\n",
       "var render_katex = function(id) { \n",
       "\tvar parent = document.getElementById(id);\n",
       "\tvar newChild = document.createElement('span');\n",
       "katex_try(\"}\", newChild);\n",
       "parent.appendChild(newChild);\n",
       "}\n",
       "whenAvailable(\"katex\", function(){render_katex(\"85808de4-4337-11e8-9af1-f01fafd68a7f\");});\n",
       "}\n",
       "ctx();\n"
      ]
     },
     "metadata": {},
     "output_type": "display_data"
    },
    {
     "data": {
      "text/html": [
       "<div id=\"8580d92a-4337-11e8-9af1-f01fafd68a7f\"/>"
      ]
     },
     "metadata": {},
     "output_type": "display_data"
    },
    {
     "data": {
      "application/javascript": [
       "\n",
       "var ctx = function()                                  {\n",
       "var whenAvailable = function(name,                                     callback) {\n",
       "\tvar interval = 10; // ms\n",
       "\twindow.setTimeout(function() {\n",
       "\tif (window[name]) {\n",
       "\t\tcallback();\n",
       "\t} else {\n",
       "\t\twindow.setTimeout(arguments.callee,                                     interval);\n",
       "\t}\n",
       "}, interval);\n",
       "}\n",
       "\n",
       "var katex_try = function(s, el) {\n",
       "\t try {\t\twindow.katex.render(s, el);\n",
       "} catch(err) {\n",
       "\t\t el.innerHTML = s;\n",
       "\t}\n",
       "}\n",
       "var render_katex = function(id) { \n",
       "\tvar parent = document.getElementById(id);\n",
       "\tvar newChild = document.createElement('span');\n",
       "katex_try(\"\\\\geq\", newChild);\n",
       "parent.appendChild(newChild);\n",
       "}\n",
       "whenAvailable(\"katex\", function(){render_katex(\"8580d92a-4337-11e8-9af1-f01fafd68a7f\");});\n",
       "}\n",
       "ctx();\n"
      ]
     },
     "metadata": {},
     "output_type": "display_data"
    },
    {
     "data": {
      "text/html": [
       "<div id=\"85812312-4337-11e8-9af1-f01fafd68a7f\"/>"
      ]
     },
     "metadata": {},
     "output_type": "display_data"
    },
    {
     "data": {
      "application/javascript": [
       "\n",
       "var ctx = function()                                  {\n",
       "var whenAvailable = function(name,                                     callback) {\n",
       "\tvar interval = 10; // ms\n",
       "\twindow.setTimeout(function() {\n",
       "\tif (window[name]) {\n",
       "\t\tcallback();\n",
       "\t} else {\n",
       "\t\twindow.setTimeout(arguments.callee,                                     interval);\n",
       "\t}\n",
       "}, interval);\n",
       "}\n",
       "\n",
       "var katex_try = function(s, el) {\n",
       "\t try {\t\twindow.katex.render(s, el);\n",
       "} catch(err) {\n",
       "\t\t el.innerHTML = s;\n",
       "\t}\n",
       "}\n",
       "var render_katex = function(id) { \n",
       "\tvar parent = document.getElementById(id);\n",
       "\tvar newChild = document.createElement('span');\n",
       "katex_try(\"1\", newChild);\n",
       "parent.appendChild(newChild);\n",
       "}\n",
       "whenAvailable(\"katex\", function(){render_katex(\"85812312-4337-11e8-9af1-f01fafd68a7f\");});\n",
       "}\n",
       "ctx();\n"
      ]
     },
     "metadata": {},
     "output_type": "display_data"
    }
   ],
   "source": [
    "print(\"an example equation: \")\n",
    "katex(token_ex['clean'].replace('\\\\\\\\', '\\\\'))._ipython_display_()\n",
    "for eq, _ in zip(token_ex['clean_split_filtered_tokenized'], token_ex['clean_split_filtered']): \n",
    "    print(\"split subequation\")\n",
    "    katex(_.replace('\\\\\\\\', '\\\\'))._ipython_display_()\n",
    "    print(\"tokens: \")\n",
    "#     katex(_.replace('\\\\\\\\', '\\\\'))._ipython_display_()\n",
    "    for token in eq:\n",
    "        katex(token.replace('\\\\\\\\', '\\\\'))._ipython_display_()\n"
   ]
  },
  {
   "cell_type": "markdown",
   "metadata": {},
   "source": [
    "# Todos based on today's observations\n",
    "\n",
    "1.  Detect when there is an implicit multiplication?\n",
    "2. avoid situations like 1,…,n−1.\n",
    "3. Potentially get rid of fractions?\n",
    "4. split on hspace, vspace, \\\\\\\\ (EQDS31476149Q)\n",
    "5. get rid of text\n",
    "6. add a tf-idf post-pass\n",
    "7. add comma, semicolor split operator\n",
    "8. Detect series?"
   ]
  },
  {
   "cell_type": "code",
   "execution_count": 67,
   "metadata": {
    "collapsed": false
   },
   "outputs": [
    {
     "data": {
      "text/html": [
       "<div id=\"bf52fbe0-3e93-11e8-9af1-f01fafd68a7f\"/>"
      ]
     },
     "metadata": {},
     "output_type": "display_data"
    },
    {
     "data": {
      "application/javascript": [
       "\n",
       "var ctx = function()                                  {\n",
       "var whenAvailable = function(name,                                     callback) {\n",
       "\tvar interval = 10; // ms\n",
       "\twindow.setTimeout(function() {\n",
       "\tif (window[name]) {\n",
       "\t\tcallback();\n",
       "\t} else {\n",
       "\t\twindow.setTimeout(arguments.callee,                                     interval);\n",
       "\t}\n",
       "}, interval);\n",
       "}\n",
       "\n",
       "var katex_try = function(s, el) {\n",
       "\t try {\t\twindow.katex.render(s, el);\n",
       "} catch(err) {\n",
       "\t\t el.innerHTML = s;\n",
       "\t}\n",
       "}\n",
       "var render_katex = function(id) { \n",
       "\tvar parent = document.getElementById(id);\n",
       "\tvar newChild = document.createElement('span');\n",
       "katex_try(\"\\\\vec{\\\\xi}\", newChild);\n",
       "parent.appendChild(newChild);\n",
       "}\n",
       "whenAvailable(\"katex\", function(){render_katex(\"bf52fbe0-3e93-11e8-9af1-f01fafd68a7f\");});\n",
       "}\n",
       "ctx();\n"
      ]
     },
     "metadata": {},
     "output_type": "display_data"
    }
   ],
   "source": [
    "katex('\\\\vec{\\\\xi}')"
   ]
  },
  {
   "cell_type": "code",
   "execution_count": 68,
   "metadata": {
    "collapsed": false
   },
   "outputs": [
    {
     "data": {
      "text/html": [
       "<div id=\"c830cb7a-3e93-11e8-9af1-f01fafd68a7f\"/>"
      ]
     },
     "metadata": {},
     "output_type": "display_data"
    },
    {
     "data": {
      "application/javascript": [
       "\n",
       "var ctx = function()                                  {\n",
       "var whenAvailable = function(name,                                     callback) {\n",
       "\tvar interval = 10; // ms\n",
       "\twindow.setTimeout(function() {\n",
       "\tif (window[name]) {\n",
       "\t\tcallback();\n",
       "\t} else {\n",
       "\t\twindow.setTimeout(arguments.callee,                                     interval);\n",
       "\t}\n",
       "}, interval);\n",
       "}\n",
       "\n",
       "var katex_try = function(s, el) {\n",
       "\t try {\t\twindow.katex.render(s, el);\n",
       "} catch(err) {\n",
       "\t\t el.innerHTML = s;\n",
       "\t}\n",
       "}\n",
       "var render_katex = function(id) { \n",
       "\tvar parent = document.getElementById(id);\n",
       "\tvar newChild = document.createElement('span');\n",
       "katex_try(\"\\\\xi\", newChild);\n",
       "parent.appendChild(newChild);\n",
       "}\n",
       "whenAvailable(\"katex\", function(){render_katex(\"c830cb7a-3e93-11e8-9af1-f01fafd68a7f\");});\n",
       "}\n",
       "ctx();\n"
      ]
     },
     "metadata": {},
     "output_type": "display_data"
    }
   ],
   "source": [
    "katex('\\\\xi')"
   ]
  },
  {
   "cell_type": "code",
   "execution_count": null,
   "metadata": {
    "collapsed": true
   },
   "outputs": [],
   "source": []
  }
 ],
 "metadata": {
  "kernelspec": {
   "display_name": "Python 2",
   "language": "python",
   "name": "python2"
  },
  "language_info": {
   "codemirror_mode": {
    "name": "ipython",
    "version": 2
   },
   "file_extension": ".py",
   "mimetype": "text/x-python",
   "name": "python",
   "nbconvert_exporter": "python",
   "pygments_lexer": "ipython2",
   "version": "2.7.6"
  }
 },
 "nbformat": 4,
 "nbformat_minor": 2
}
