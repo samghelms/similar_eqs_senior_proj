{
 "cells": [
  {
   "cell_type": "code",
   "execution_count": 6,
   "metadata": {
    "collapsed": false
   },
   "outputs": [],
   "source": [
    "import json\n",
    "eqs = []\n",
    "with open('all_eqs.jsonlist') as processed:\n",
    "    for i, line in enumerate(processed):\n",
    "        try:\n",
    "            eqs.append(json.loads(line)['clean_split_filtered_tokenized'])\n",
    "        except:\n",
    "            print(\"error with: \")\n",
    "            print(line)\n",
    "        if i == 100000:\n",
    "            break\n",
    "        "
   ]
  },
  {
   "cell_type": "code",
   "execution_count": 7,
   "metadata": {
    "collapsed": false
   },
   "outputs": [
    {
     "data": {
      "text/plain": [
       "100001"
      ]
     },
     "execution_count": 7,
     "metadata": {},
     "output_type": "execute_result"
    }
   ],
   "source": [
    "len(eqs)"
   ]
  },
  {
   "cell_type": "code",
   "execution_count": 8,
   "metadata": {
    "collapsed": true
   },
   "outputs": [],
   "source": [
    "from gensim.models import TfidfModel\n",
    "from gensim.corpora import Dictionary\n",
    "from gensim.similarities import MatrixSimilarity"
   ]
  },
  {
   "cell_type": "code",
   "execution_count": 9,
   "metadata": {
    "collapsed": false
   },
   "outputs": [],
   "source": [
    "docs = [doc for sublist in eqs for doc in sublist]\n",
    "dct = Dictionary(docs)\n",
    "corpus = [dct.doc2bow(line) for line in docs]\n",
    "model = TfidfModel(corpus)"
   ]
  },
  {
   "cell_type": "code",
   "execution_count": 10,
   "metadata": {
    "collapsed": true
   },
   "outputs": [],
   "source": [
    "index = MatrixSimilarity(model[corpus], num_features=len(dct))"
   ]
  },
  {
   "cell_type": "code",
   "execution_count": 12,
   "metadata": {
    "collapsed": false
   },
   "outputs": [],
   "source": [
    "line = docs[2]\n",
    "sims = index[model[dct.doc2bow(line)]]\n",
    "sims = sorted(enumerate(sims), key=lambda item: -item[1])"
   ]
  },
  {
   "cell_type": "code",
   "execution_count": 17,
   "metadata": {
    "collapsed": true
   },
   "outputs": [],
   "source": [
    "from gensim import interfaces, utils, matutils\n",
    "import numpy as np\n",
    "# query = matutils.sparse2full(query, self.num_features)\n",
    "# query = numpy.asarray(query, dtype=self.index.dtype)\n",
    "\n",
    "# do a little transposition dance to stop numpy from making a copy of\n",
    "# self.index internally in numpy.dot (very slow).\n",
    "# result = numpy.dot(self.index, query.T).T  "
   ]
  },
  {
   "cell_type": "code",
   "execution_count": 56,
   "metadata": {
    "collapsed": false
   },
   "outputs": [],
   "source": [
    "num_features = len(dct)\n",
    "all_dists = []\n",
    "for aligned_eqs in eqs:\n",
    "    vecs = []\n",
    "    for e in aligned_eqs: \n",
    "        sparse_vec = model[dct.doc2bow(e)]\n",
    "        query = matutils.sparse2full(sparse_vec, num_features)\n",
    "        query = np.asarray(query, dtype=np.float32)\n",
    "        vecs.append(query)\n",
    "    \n",
    "    dists = []\n",
    "    for i, v in enumerate(vecs):\n",
    "        for j, v2 in enumerate(vecs):\n",
    "            if i != j:\n",
    "                dists.append(v.dot(v2))\n",
    "    all_dists.extend(list(set(dists)))\n"
   ]
  },
  {
   "cell_type": "code",
   "execution_count": 64,
   "metadata": {
    "collapsed": false
   },
   "outputs": [],
   "source": [
    "# now do a random pass\n",
    "N = len(eqs)\n",
    "num_features = len(dct)\n",
    "rand_dists = []\n",
    "for aligned_eqs in eqs:\n",
    "    vecs = []\n",
    "    for e in aligned_eqs: \n",
    "        sparse_vec = model[dct.doc2bow(e)]\n",
    "        query = matutils.sparse2full(sparse_vec, num_features)\n",
    "        query = np.asarray(query, dtype=np.float32)\n",
    "        vecs.append(query)\n",
    "    \n",
    "    dists = []\n",
    "    for i, v in enumerate(vecs):\n",
    "        # pick a random vector\n",
    "        rand_i = np.random.randint(N)\n",
    "        # Note: had to pull in a long range dependency on the docs list here. Could cause problems later.\n",
    "        sparse_vec = model[dct.doc2bow(docs[rand_i])]\n",
    "        rand_vec = matutils.sparse2full(sparse_vec, num_features)\n",
    "        rand_vec = np.asarray(rand_vec, dtype=np.float32)\n",
    "        dists.append(v.dot(rand_vec))\n",
    "    rand_dists.extend(list(set(dists)))\n",
    "\n"
   ]
  },
  {
   "cell_type": "code",
   "execution_count": 65,
   "metadata": {
    "collapsed": false
   },
   "outputs": [
    {
     "data": {
      "text/plain": [
       "220656"
      ]
     },
     "execution_count": 65,
     "metadata": {},
     "output_type": "execute_result"
    }
   ],
   "source": [
    "len(rand_dists)"
   ]
  },
  {
   "cell_type": "code",
   "execution_count": 62,
   "metadata": {
    "collapsed": false
   },
   "outputs": [
    {
     "data": {
      "text/plain": [
       "162193"
      ]
     },
     "execution_count": 62,
     "metadata": {},
     "output_type": "execute_result"
    }
   ],
   "source": [
    "len(all_dists)"
   ]
  },
  {
   "cell_type": "code",
   "execution_count": 67,
   "metadata": {
    "collapsed": false
   },
   "outputs": [
    {
     "ename": "NameError",
     "evalue": "name 'plt' is not defined",
     "output_type": "error",
     "traceback": [
      "\u001b[0;31m---------------------------------------------------------------------------\u001b[0m",
      "\u001b[0;31mNameError\u001b[0m                                 Traceback (most recent call last)",
      "\u001b[0;32m<ipython-input-67-2dca0d07a6b4>\u001b[0m in \u001b[0;36m<module>\u001b[0;34m()\u001b[0m\n\u001b[1;32m      1\u001b[0m \u001b[0;32mimport\u001b[0m \u001b[0mpandas\u001b[0m \u001b[0;32mas\u001b[0m \u001b[0mpd\u001b[0m\u001b[0;34m\u001b[0m\u001b[0m\n\u001b[1;32m      2\u001b[0m \u001b[0mtest\u001b[0m \u001b[0;34m=\u001b[0m \u001b[0mpd\u001b[0m\u001b[0;34m.\u001b[0m\u001b[0mDataFrame\u001b[0m\u001b[0;34m(\u001b[0m\u001b[0;34m[\u001b[0m\u001b[0mrand_dists\u001b[0m\u001b[0;34m,\u001b[0m \u001b[0mall_dists\u001b[0m\u001b[0;34m]\u001b[0m\u001b[0;34m)\u001b[0m\u001b[0;34m\u001b[0m\u001b[0m\n\u001b[0;32m----> 3\u001b[0;31m \u001b[0mplt\u001b[0m\u001b[0;34m.\u001b[0m\u001b[0mhist\u001b[0m\u001b[0;34m(\u001b[0m\u001b[0mtest\u001b[0m\u001b[0;34m.\u001b[0m\u001b[0mvalues\u001b[0m\u001b[0;34m.\u001b[0m\u001b[0mT\u001b[0m\u001b[0;34m)\u001b[0m\u001b[0;34m\u001b[0m\u001b[0m\n\u001b[0m\u001b[1;32m      4\u001b[0m \u001b[0mplt\u001b[0m\u001b[0;34m.\u001b[0m\u001b[0mshow\u001b[0m\u001b[0;34m(\u001b[0m\u001b[0;34m)\u001b[0m\u001b[0;34m\u001b[0m\u001b[0m\n",
      "\u001b[0;31mNameError\u001b[0m: name 'plt' is not defined"
     ]
    }
   ],
   "source": [
    "import pandas as pd\n",
    "test = pd.DataFrame([rand_dists, all_dists])\n",
    "plt.hist(test.values.T)\n",
    "plt.show()"
   ]
  },
  {
   "cell_type": "code",
   "execution_count": 68,
   "metadata": {
    "collapsed": false
   },
   "outputs": [
    {
     "ename": "ImportError",
     "evalue": "No module named matplotlib.pyplot",
     "output_type": "error",
     "traceback": [
      "\u001b[0;31m---------------------------------------------------------------------------\u001b[0m",
      "\u001b[0;31mImportError\u001b[0m                               Traceback (most recent call last)",
      "\u001b[0;32m<ipython-input-68-eff513f636fd>\u001b[0m in \u001b[0;36m<module>\u001b[0;34m()\u001b[0m\n\u001b[0;32m----> 1\u001b[0;31m \u001b[0;32mimport\u001b[0m \u001b[0mmatplotlib\u001b[0m\u001b[0;34m.\u001b[0m\u001b[0mpyplot\u001b[0m \u001b[0;32mas\u001b[0m \u001b[0mplt\u001b[0m\u001b[0;34m\u001b[0m\u001b[0m\n\u001b[0m",
      "\u001b[0;31mImportError\u001b[0m: No module named matplotlib.pyplot"
     ]
    }
   ],
   "source": [
    "import matplotlib.pyplot as plt"
   ]
  },
  {
   "cell_type": "code",
   "execution_count": null,
   "metadata": {
    "collapsed": true
   },
   "outputs": [],
   "source": []
  }
 ],
 "metadata": {
  "kernelspec": {
   "display_name": "Python 2",
   "language": "python",
   "name": "python2"
  },
  "language_info": {
   "codemirror_mode": {
    "name": "ipython",
    "version": 2
   },
   "file_extension": ".py",
   "mimetype": "text/x-python",
   "name": "python",
   "nbconvert_exporter": "python",
   "pygments_lexer": "ipython2",
   "version": "2.7.6"
  }
 },
 "nbformat": 4,
 "nbformat_minor": 2
}
